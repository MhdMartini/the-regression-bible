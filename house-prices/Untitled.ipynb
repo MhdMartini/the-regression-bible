{
 "cells": [
  {
   "cell_type": "code",
   "execution_count": 1,
   "id": "ae7b3503",
   "metadata": {},
   "outputs": [],
   "source": [
    "import pandas as pd\n",
    "import numpy as np"
   ]
  },
  {
   "cell_type": "code",
   "execution_count": 2,
   "id": "925b6368",
   "metadata": {},
   "outputs": [],
   "source": [
    "submissions = [15, 17, 18, 20, 21]\n",
    "n_subs = len(submissions)"
   ]
  },
  {
   "cell_type": "code",
   "execution_count": 3,
   "id": "033a279f",
   "metadata": {},
   "outputs": [],
   "source": [
    "df_sub = None\n",
    "for sub in submissions:\n",
    "    temp = pd.read_csv(f\"data/submission_{sub}.csv\")\n",
    "    if df_sub is None:\n",
    "        df_sub = temp\n",
    "        df_sub[\"SalePrice\"] = df_sub[\"SalePrice\"] / n_subs\n",
    "    else:\n",
    "        df_sub[\"SalePrice\"] = df_sub[\"SalePrice\"] + temp[\"SalePrice\"] / n_subs"
   ]
  },
  {
   "cell_type": "code",
   "execution_count": 4,
   "id": "9676425f",
   "metadata": {},
   "outputs": [
    {
     "data": {
      "text/html": [
       "<div>\n",
       "<style scoped>\n",
       "    .dataframe tbody tr th:only-of-type {\n",
       "        vertical-align: middle;\n",
       "    }\n",
       "\n",
       "    .dataframe tbody tr th {\n",
       "        vertical-align: top;\n",
       "    }\n",
       "\n",
       "    .dataframe thead th {\n",
       "        text-align: right;\n",
       "    }\n",
       "</style>\n",
       "<table border=\"1\" class=\"dataframe\">\n",
       "  <thead>\n",
       "    <tr style=\"text-align: right;\">\n",
       "      <th></th>\n",
       "      <th>id</th>\n",
       "      <th>SalePrice</th>\n",
       "    </tr>\n",
       "  </thead>\n",
       "  <tbody>\n",
       "    <tr>\n",
       "      <th>0</th>\n",
       "      <td>1461</td>\n",
       "      <td>123139.528739</td>\n",
       "    </tr>\n",
       "    <tr>\n",
       "      <th>1</th>\n",
       "      <td>1462</td>\n",
       "      <td>159559.954262</td>\n",
       "    </tr>\n",
       "    <tr>\n",
       "      <th>2</th>\n",
       "      <td>1463</td>\n",
       "      <td>192100.762000</td>\n",
       "    </tr>\n",
       "    <tr>\n",
       "      <th>3</th>\n",
       "      <td>1464</td>\n",
       "      <td>191963.710391</td>\n",
       "    </tr>\n",
       "    <tr>\n",
       "      <th>4</th>\n",
       "      <td>1465</td>\n",
       "      <td>182504.371137</td>\n",
       "    </tr>\n",
       "    <tr>\n",
       "      <th>...</th>\n",
       "      <td>...</td>\n",
       "      <td>...</td>\n",
       "    </tr>\n",
       "    <tr>\n",
       "      <th>1454</th>\n",
       "      <td>2915</td>\n",
       "      <td>84294.087004</td>\n",
       "    </tr>\n",
       "    <tr>\n",
       "      <th>1455</th>\n",
       "      <td>2916</td>\n",
       "      <td>80793.951535</td>\n",
       "    </tr>\n",
       "    <tr>\n",
       "      <th>1456</th>\n",
       "      <td>2917</td>\n",
       "      <td>162608.597703</td>\n",
       "    </tr>\n",
       "    <tr>\n",
       "      <th>1457</th>\n",
       "      <td>2918</td>\n",
       "      <td>114120.954629</td>\n",
       "    </tr>\n",
       "    <tr>\n",
       "      <th>1458</th>\n",
       "      <td>2919</td>\n",
       "      <td>207438.171218</td>\n",
       "    </tr>\n",
       "  </tbody>\n",
       "</table>\n",
       "<p>1459 rows × 2 columns</p>\n",
       "</div>"
      ],
      "text/plain": [
       "        id      SalePrice\n",
       "0     1461  123139.528739\n",
       "1     1462  159559.954262\n",
       "2     1463  192100.762000\n",
       "3     1464  191963.710391\n",
       "4     1465  182504.371137\n",
       "...    ...            ...\n",
       "1454  2915   84294.087004\n",
       "1455  2916   80793.951535\n",
       "1456  2917  162608.597703\n",
       "1457  2918  114120.954629\n",
       "1458  2919  207438.171218\n",
       "\n",
       "[1459 rows x 2 columns]"
      ]
     },
     "execution_count": 4,
     "metadata": {},
     "output_type": "execute_result"
    }
   ],
   "source": [
    "df_sub"
   ]
  },
  {
   "cell_type": "code",
   "execution_count": 5,
   "id": "de4d4e4a",
   "metadata": {},
   "outputs": [],
   "source": [
    "sub_name = \"data/ensemble.csv\"\n",
    "df_sub.to_csv(sub_name, index=False)"
   ]
  },
  {
   "cell_type": "code",
   "execution_count": null,
   "id": "26ddd547",
   "metadata": {},
   "outputs": [],
   "source": []
  }
 ],
 "metadata": {
  "kernelspec": {
   "display_name": ".env",
   "language": "python",
   "name": ".env"
  },
  "language_info": {
   "codemirror_mode": {
    "name": "ipython",
    "version": 3
   },
   "file_extension": ".py",
   "mimetype": "text/x-python",
   "name": "python",
   "nbconvert_exporter": "python",
   "pygments_lexer": "ipython3",
   "version": "3.10.5"
  }
 },
 "nbformat": 4,
 "nbformat_minor": 5
}
