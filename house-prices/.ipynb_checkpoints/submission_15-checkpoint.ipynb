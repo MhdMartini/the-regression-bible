{
 "cells": [
  {
   "cell_type": "code",
   "execution_count": 1,
   "metadata": {
    "execution": {
     "iopub.execute_input": "2022-07-19T03:12:52.647224Z",
     "iopub.status.busy": "2022-07-19T03:12:52.646739Z",
     "iopub.status.idle": "2022-07-19T03:12:52.654305Z",
     "shell.execute_reply": "2022-07-19T03:12:52.653328Z",
     "shell.execute_reply.started": "2022-07-19T03:12:52.647184Z"
    }
   },
   "outputs": [],
   "source": [
    "from sklearn.metrics import mean_squared_error\n",
    "from sklearn.preprocessing import StandardScaler, PolynomialFeatures, OrdinalEncoder\n",
    "from sklearn.model_selection import KFold, cross_val_score\n",
    "from sklearn.impute import KNNImputer\n",
    "from sklearn.model_selection import GridSearchCV\n",
    "from sklearn.metrics import mean_squared_error\n",
    "from pycaret.regression import setup, compare_models\n",
    "import xgboost as xgb\n",
    "import matplotlib.pyplot as plt\n",
    "import seaborn as sns\n",
    "from tqdm import tqdm\n",
    "import numpy as np\n",
    "import pandas as pd\n",
    "import multiprocessing"
   ]
  },
  {
   "cell_type": "code",
   "execution_count": 2,
   "metadata": {
    "execution": {
     "iopub.execute_input": "2022-07-19T01:27:29.845141Z",
     "iopub.status.busy": "2022-07-19T01:27:29.844734Z",
     "iopub.status.idle": "2022-07-19T01:27:30.165473Z",
     "shell.execute_reply": "2022-07-19T01:27:30.164238Z",
     "shell.execute_reply.started": "2022-07-19T01:27:29.845110Z"
    }
   },
   "outputs": [],
   "source": [
    "from sklearn.ensemble import GradientBoostingRegressor, RandomForestRegressor, ExtraTreesRegressor\n",
    "from sklearn.linear_model import BayesianRidge, OrthogonalMatchingPursuit, LinearRegression, Lasso, Ridge\n",
    "from xgboost import XGBRegressor\n",
    "from lightgbm import LGBMRegressor"
   ]
  },
  {
   "cell_type": "markdown",
   "metadata": {},
   "source": [
    "# Read train and test sets"
   ]
  },
  {
   "cell_type": "code",
   "execution_count": 3,
   "metadata": {
    "execution": {
     "iopub.execute_input": "2022-07-19T00:15:46.484189Z",
     "iopub.status.busy": "2022-07-19T00:15:46.483718Z",
     "iopub.status.idle": "2022-07-19T00:15:46.544478Z",
     "shell.execute_reply": "2022-07-19T00:15:46.543427Z",
     "shell.execute_reply.started": "2022-07-19T00:15:46.484131Z"
    }
   },
   "outputs": [],
   "source": [
    "df_train = pd.read_csv(\"data/train.csv\")\n",
    "df_test = pd.read_csv(\"data/test.csv\")"
   ]
  },
  {
   "cell_type": "markdown",
   "metadata": {},
   "source": [
    "# Store both dfs lengths"
   ]
  },
  {
   "cell_type": "code",
   "execution_count": 4,
   "metadata": {
    "execution": {
     "iopub.execute_input": "2022-07-19T00:15:46.546314Z",
     "iopub.status.busy": "2022-07-19T00:15:46.545792Z",
     "iopub.status.idle": "2022-07-19T00:15:46.554645Z",
     "shell.execute_reply": "2022-07-19T00:15:46.553392Z",
     "shell.execute_reply.started": "2022-07-19T00:15:46.546284Z"
    }
   },
   "outputs": [
    {
     "data": {
      "text/plain": [
       "(1460, 1459)"
      ]
     },
     "execution_count": 4,
     "metadata": {},
     "output_type": "execute_result"
    }
   ],
   "source": [
    "m_train = df_train.shape[0]\n",
    "m_test = df_test.shape[0]\n",
    "m_train, m_test"
   ]
  },
  {
   "cell_type": "markdown",
   "metadata": {},
   "source": [
    "# Concat the dfs"
   ]
  },
  {
   "cell_type": "code",
   "execution_count": 5,
   "metadata": {
    "execution": {
     "iopub.execute_input": "2022-07-19T00:15:49.015711Z",
     "iopub.status.busy": "2022-07-19T00:15:49.015327Z",
     "iopub.status.idle": "2022-07-19T00:15:49.038720Z",
     "shell.execute_reply": "2022-07-19T00:15:49.037716Z",
     "shell.execute_reply.started": "2022-07-19T00:15:49.015682Z"
    }
   },
   "outputs": [],
   "source": [
    "df = pd.concat([df_train, df_test])\n",
    "assert df.shape[0] == m_train + m_test"
   ]
  },
  {
   "cell_type": "code",
   "execution_count": 6,
   "metadata": {
    "execution": {
     "iopub.execute_input": "2022-07-19T00:15:49.426075Z",
     "iopub.status.busy": "2022-07-19T00:15:49.424898Z",
     "iopub.status.idle": "2022-07-19T00:15:49.459455Z",
     "shell.execute_reply": "2022-07-19T00:15:49.458148Z",
     "shell.execute_reply.started": "2022-07-19T00:15:49.426024Z"
    }
   },
   "outputs": [
    {
     "data": {
      "text/html": [
       "<div>\n",
       "<style scoped>\n",
       "    .dataframe tbody tr th:only-of-type {\n",
       "        vertical-align: middle;\n",
       "    }\n",
       "\n",
       "    .dataframe tbody tr th {\n",
       "        vertical-align: top;\n",
       "    }\n",
       "\n",
       "    .dataframe thead th {\n",
       "        text-align: right;\n",
       "    }\n",
       "</style>\n",
       "<table border=\"1\" class=\"dataframe\">\n",
       "  <thead>\n",
       "    <tr style=\"text-align: right;\">\n",
       "      <th></th>\n",
       "      <th>Id</th>\n",
       "      <th>MSSubClass</th>\n",
       "      <th>MSZoning</th>\n",
       "      <th>LotFrontage</th>\n",
       "      <th>LotArea</th>\n",
       "      <th>Street</th>\n",
       "      <th>Alley</th>\n",
       "      <th>LotShape</th>\n",
       "      <th>LandContour</th>\n",
       "      <th>Utilities</th>\n",
       "      <th>...</th>\n",
       "      <th>PoolArea</th>\n",
       "      <th>PoolQC</th>\n",
       "      <th>Fence</th>\n",
       "      <th>MiscFeature</th>\n",
       "      <th>MiscVal</th>\n",
       "      <th>MoSold</th>\n",
       "      <th>YrSold</th>\n",
       "      <th>SaleType</th>\n",
       "      <th>SaleCondition</th>\n",
       "      <th>SalePrice</th>\n",
       "    </tr>\n",
       "  </thead>\n",
       "  <tbody>\n",
       "    <tr>\n",
       "      <th>0</th>\n",
       "      <td>1</td>\n",
       "      <td>60</td>\n",
       "      <td>RL</td>\n",
       "      <td>65.0</td>\n",
       "      <td>8450</td>\n",
       "      <td>Pave</td>\n",
       "      <td>NaN</td>\n",
       "      <td>Reg</td>\n",
       "      <td>Lvl</td>\n",
       "      <td>AllPub</td>\n",
       "      <td>...</td>\n",
       "      <td>0</td>\n",
       "      <td>NaN</td>\n",
       "      <td>NaN</td>\n",
       "      <td>NaN</td>\n",
       "      <td>0</td>\n",
       "      <td>2</td>\n",
       "      <td>2008</td>\n",
       "      <td>WD</td>\n",
       "      <td>Normal</td>\n",
       "      <td>208500.0</td>\n",
       "    </tr>\n",
       "    <tr>\n",
       "      <th>1</th>\n",
       "      <td>2</td>\n",
       "      <td>20</td>\n",
       "      <td>RL</td>\n",
       "      <td>80.0</td>\n",
       "      <td>9600</td>\n",
       "      <td>Pave</td>\n",
       "      <td>NaN</td>\n",
       "      <td>Reg</td>\n",
       "      <td>Lvl</td>\n",
       "      <td>AllPub</td>\n",
       "      <td>...</td>\n",
       "      <td>0</td>\n",
       "      <td>NaN</td>\n",
       "      <td>NaN</td>\n",
       "      <td>NaN</td>\n",
       "      <td>0</td>\n",
       "      <td>5</td>\n",
       "      <td>2007</td>\n",
       "      <td>WD</td>\n",
       "      <td>Normal</td>\n",
       "      <td>181500.0</td>\n",
       "    </tr>\n",
       "    <tr>\n",
       "      <th>2</th>\n",
       "      <td>3</td>\n",
       "      <td>60</td>\n",
       "      <td>RL</td>\n",
       "      <td>68.0</td>\n",
       "      <td>11250</td>\n",
       "      <td>Pave</td>\n",
       "      <td>NaN</td>\n",
       "      <td>IR1</td>\n",
       "      <td>Lvl</td>\n",
       "      <td>AllPub</td>\n",
       "      <td>...</td>\n",
       "      <td>0</td>\n",
       "      <td>NaN</td>\n",
       "      <td>NaN</td>\n",
       "      <td>NaN</td>\n",
       "      <td>0</td>\n",
       "      <td>9</td>\n",
       "      <td>2008</td>\n",
       "      <td>WD</td>\n",
       "      <td>Normal</td>\n",
       "      <td>223500.0</td>\n",
       "    </tr>\n",
       "    <tr>\n",
       "      <th>3</th>\n",
       "      <td>4</td>\n",
       "      <td>70</td>\n",
       "      <td>RL</td>\n",
       "      <td>60.0</td>\n",
       "      <td>9550</td>\n",
       "      <td>Pave</td>\n",
       "      <td>NaN</td>\n",
       "      <td>IR1</td>\n",
       "      <td>Lvl</td>\n",
       "      <td>AllPub</td>\n",
       "      <td>...</td>\n",
       "      <td>0</td>\n",
       "      <td>NaN</td>\n",
       "      <td>NaN</td>\n",
       "      <td>NaN</td>\n",
       "      <td>0</td>\n",
       "      <td>2</td>\n",
       "      <td>2006</td>\n",
       "      <td>WD</td>\n",
       "      <td>Abnorml</td>\n",
       "      <td>140000.0</td>\n",
       "    </tr>\n",
       "    <tr>\n",
       "      <th>4</th>\n",
       "      <td>5</td>\n",
       "      <td>60</td>\n",
       "      <td>RL</td>\n",
       "      <td>84.0</td>\n",
       "      <td>14260</td>\n",
       "      <td>Pave</td>\n",
       "      <td>NaN</td>\n",
       "      <td>IR1</td>\n",
       "      <td>Lvl</td>\n",
       "      <td>AllPub</td>\n",
       "      <td>...</td>\n",
       "      <td>0</td>\n",
       "      <td>NaN</td>\n",
       "      <td>NaN</td>\n",
       "      <td>NaN</td>\n",
       "      <td>0</td>\n",
       "      <td>12</td>\n",
       "      <td>2008</td>\n",
       "      <td>WD</td>\n",
       "      <td>Normal</td>\n",
       "      <td>250000.0</td>\n",
       "    </tr>\n",
       "  </tbody>\n",
       "</table>\n",
       "<p>5 rows × 81 columns</p>\n",
       "</div>"
      ],
      "text/plain": [
       "   Id  MSSubClass MSZoning  LotFrontage  LotArea Street Alley LotShape  \\\n",
       "0   1          60       RL         65.0     8450   Pave   NaN      Reg   \n",
       "1   2          20       RL         80.0     9600   Pave   NaN      Reg   \n",
       "2   3          60       RL         68.0    11250   Pave   NaN      IR1   \n",
       "3   4          70       RL         60.0     9550   Pave   NaN      IR1   \n",
       "4   5          60       RL         84.0    14260   Pave   NaN      IR1   \n",
       "\n",
       "  LandContour Utilities  ... PoolArea PoolQC Fence MiscFeature MiscVal MoSold  \\\n",
       "0         Lvl    AllPub  ...        0    NaN   NaN         NaN       0      2   \n",
       "1         Lvl    AllPub  ...        0    NaN   NaN         NaN       0      5   \n",
       "2         Lvl    AllPub  ...        0    NaN   NaN         NaN       0      9   \n",
       "3         Lvl    AllPub  ...        0    NaN   NaN         NaN       0      2   \n",
       "4         Lvl    AllPub  ...        0    NaN   NaN         NaN       0     12   \n",
       "\n",
       "  YrSold  SaleType  SaleCondition  SalePrice  \n",
       "0   2008        WD         Normal   208500.0  \n",
       "1   2007        WD         Normal   181500.0  \n",
       "2   2008        WD         Normal   223500.0  \n",
       "3   2006        WD        Abnorml   140000.0  \n",
       "4   2008        WD         Normal   250000.0  \n",
       "\n",
       "[5 rows x 81 columns]"
      ]
     },
     "execution_count": 6,
     "metadata": {},
     "output_type": "execute_result"
    }
   ],
   "source": [
    "df.head()"
   ]
  },
  {
   "cell_type": "markdown",
   "metadata": {},
   "source": [
    "# Save target"
   ]
  },
  {
   "cell_type": "code",
   "execution_count": 7,
   "metadata": {
    "execution": {
     "iopub.execute_input": "2022-07-19T00:15:51.965398Z",
     "iopub.status.busy": "2022-07-19T00:15:51.964094Z",
     "iopub.status.idle": "2022-07-19T00:15:51.970349Z",
     "shell.execute_reply": "2022-07-19T00:15:51.969234Z",
     "shell.execute_reply.started": "2022-07-19T00:15:51.965357Z"
    }
   },
   "outputs": [],
   "source": [
    "target_col, target = \"SalePrice\", df[\"SalePrice\"]"
   ]
  },
  {
   "cell_type": "markdown",
   "metadata": {},
   "source": [
    "#  Drop Id and target columns"
   ]
  },
  {
   "cell_type": "code",
   "execution_count": 8,
   "metadata": {
    "execution": {
     "iopub.execute_input": "2022-07-19T00:15:54.481754Z",
     "iopub.status.busy": "2022-07-19T00:15:54.481279Z",
     "iopub.status.idle": "2022-07-19T00:15:54.496802Z",
     "shell.execute_reply": "2022-07-19T00:15:54.495657Z",
     "shell.execute_reply.started": "2022-07-19T00:15:54.481714Z"
    }
   },
   "outputs": [],
   "source": [
    "cols_to_drop = [\"Id\", target_col]\n",
    "df.drop(cols_to_drop, axis=1, inplace=True)"
   ]
  },
  {
   "cell_type": "markdown",
   "metadata": {},
   "source": [
    "# View and fix columns data-types"
   ]
  },
  {
   "cell_type": "code",
   "execution_count": 9,
   "metadata": {
    "execution": {
     "iopub.execute_input": "2022-07-19T00:15:59.205756Z",
     "iopub.status.busy": "2022-07-19T00:15:59.205302Z",
     "iopub.status.idle": "2022-07-19T00:15:59.217083Z",
     "shell.execute_reply": "2022-07-19T00:15:59.216215Z",
     "shell.execute_reply.started": "2022-07-19T00:15:59.205723Z"
    }
   },
   "outputs": [
    {
     "data": {
      "text/plain": [
       "Index(['MSZoning', 'Street', 'Alley', 'LotShape', 'LandContour', 'Utilities',\n",
       "       'LotConfig', 'LandSlope', 'Neighborhood', 'Condition1', 'Condition2',\n",
       "       'BldgType', 'HouseStyle', 'RoofStyle', 'RoofMatl', 'Exterior1st',\n",
       "       'Exterior2nd', 'MasVnrType', 'ExterQual', 'ExterCond', 'Foundation',\n",
       "       'BsmtQual', 'BsmtCond', 'BsmtExposure', 'BsmtFinType1', 'BsmtFinType2',\n",
       "       'Heating', 'HeatingQC', 'CentralAir', 'Electrical', 'KitchenQual',\n",
       "       'Functional', 'FireplaceQu', 'GarageType', 'GarageFinish', 'GarageQual',\n",
       "       'GarageCond', 'PavedDrive', 'PoolQC', 'Fence', 'MiscFeature',\n",
       "       'SaleType', 'SaleCondition'],\n",
       "      dtype='object')"
      ]
     },
     "execution_count": 9,
     "metadata": {},
     "output_type": "execute_result"
    }
   ],
   "source": [
    "df.select_dtypes(object).columns"
   ]
  },
  {
   "cell_type": "code",
   "execution_count": 10,
   "metadata": {
    "execution": {
     "iopub.execute_input": "2022-07-19T00:15:59.419853Z",
     "iopub.status.busy": "2022-07-19T00:15:59.419413Z",
     "iopub.status.idle": "2022-07-19T00:15:59.429501Z",
     "shell.execute_reply": "2022-07-19T00:15:59.428693Z",
     "shell.execute_reply.started": "2022-07-19T00:15:59.419816Z"
    }
   },
   "outputs": [
    {
     "data": {
      "text/plain": [
       "Index(['MSSubClass', 'LotFrontage', 'LotArea', 'OverallQual', 'OverallCond',\n",
       "       'YearBuilt', 'YearRemodAdd', 'MasVnrArea', 'BsmtFinSF1', 'BsmtFinSF2',\n",
       "       'BsmtUnfSF', 'TotalBsmtSF', '1stFlrSF', '2ndFlrSF', 'LowQualFinSF',\n",
       "       'GrLivArea', 'BsmtFullBath', 'BsmtHalfBath', 'FullBath', 'HalfBath',\n",
       "       'BedroomAbvGr', 'KitchenAbvGr', 'TotRmsAbvGrd', 'Fireplaces',\n",
       "       'GarageYrBlt', 'GarageCars', 'GarageArea', 'WoodDeckSF', 'OpenPorchSF',\n",
       "       'EnclosedPorch', '3SsnPorch', 'ScreenPorch', 'PoolArea', 'MiscVal',\n",
       "       'MoSold', 'YrSold'],\n",
       "      dtype='object')"
      ]
     },
     "execution_count": 10,
     "metadata": {},
     "output_type": "execute_result"
    }
   ],
   "source": [
    "df.select_dtypes(np.number).columns"
   ]
  },
  {
   "cell_type": "code",
   "execution_count": 11,
   "metadata": {
    "execution": {
     "iopub.execute_input": "2022-07-19T00:16:01.640213Z",
     "iopub.status.busy": "2022-07-19T00:16:01.639178Z",
     "iopub.status.idle": "2022-07-19T00:16:01.647811Z",
     "shell.execute_reply": "2022-07-19T00:16:01.646921Z",
     "shell.execute_reply.started": "2022-07-19T00:16:01.640142Z"
    }
   },
   "outputs": [],
   "source": [
    "num_to_obj_cols = ['MSSubClass', 'MoSold']\n",
    "df[num_to_obj_cols] = df[num_to_obj_cols].astype(object)"
   ]
  },
  {
   "cell_type": "code",
   "execution_count": 12,
   "metadata": {
    "execution": {
     "iopub.execute_input": "2022-07-19T00:16:02.911467Z",
     "iopub.status.busy": "2022-07-19T00:16:02.910584Z",
     "iopub.status.idle": "2022-07-19T00:16:02.924249Z",
     "shell.execute_reply": "2022-07-19T00:16:02.923111Z",
     "shell.execute_reply.started": "2022-07-19T00:16:02.911420Z"
    }
   },
   "outputs": [],
   "source": [
    "cols_cat = df.select_dtypes(object).columns\n",
    "cols_num = df.select_dtypes(np.number).columns"
   ]
  },
  {
   "cell_type": "markdown",
   "metadata": {},
   "source": [
    "# Impute categorical columns"
   ]
  },
  {
   "cell_type": "code",
   "execution_count": 13,
   "metadata": {
    "execution": {
     "iopub.execute_input": "2022-07-19T00:37:48.542054Z",
     "iopub.status.busy": "2022-07-19T00:37:48.541677Z",
     "iopub.status.idle": "2022-07-19T00:37:48.584083Z",
     "shell.execute_reply": "2022-07-19T00:37:48.582567Z",
     "shell.execute_reply.started": "2022-07-19T00:37:48.542023Z"
    }
   },
   "outputs": [
    {
     "data": {
      "text/plain": [
       "MSZoning           4\n",
       "Alley           2721\n",
       "Utilities          2\n",
       "Exterior1st        1\n",
       "Exterior2nd        1\n",
       "MasVnrType        24\n",
       "BsmtQual          81\n",
       "BsmtCond          82\n",
       "BsmtExposure      82\n",
       "BsmtFinType1      79\n",
       "BsmtFinType2      80\n",
       "Electrical         1\n",
       "KitchenQual        1\n",
       "Functional         2\n",
       "FireplaceQu     1420\n",
       "GarageType       157\n",
       "GarageFinish     159\n",
       "GarageQual       159\n",
       "GarageCond       159\n",
       "PoolQC          2909\n",
       "Fence           2348\n",
       "MiscFeature     2814\n",
       "SaleType           1\n",
       "dtype: int64"
      ]
     },
     "execution_count": 13,
     "metadata": {},
     "output_type": "execute_result"
    }
   ],
   "source": [
    "cols_cat_na = df[cols_cat].isnull().sum()[df[cols_cat].isnull().sum() > 0]\n",
    "cols_cat_na"
   ]
  },
  {
   "cell_type": "code",
   "execution_count": 14,
   "metadata": {
    "execution": {
     "iopub.execute_input": "2022-07-19T00:57:32.964932Z",
     "iopub.status.busy": "2022-07-19T00:57:32.964191Z",
     "iopub.status.idle": "2022-07-19T00:57:33.017991Z",
     "shell.execute_reply": "2022-07-19T00:57:33.016726Z",
     "shell.execute_reply.started": "2022-07-19T00:57:32.964876Z"
    }
   },
   "outputs": [
    {
     "data": {
      "text/plain": [
       "0"
      ]
     },
     "execution_count": 14,
     "metadata": {},
     "output_type": "execute_result"
    }
   ],
   "source": [
    "mode_filled_cols = [\"MSZoning\", \"Utilities\", \"Exterior1st\", \"Exterior2nd\", \"MasVnrType\", \"Electrical\", \"KitchenQual\", \"Functional\", \"SaleType\"]\n",
    "for col in mode_filled_cols:\n",
    "    df[col].fillna(df[col].mode()[0], inplace=True)\n",
    "\n",
    "none_filled_cols = [\"Alley\", \"BsmtQual\", \"BsmtCond\", \"BsmtExposure\", \"BsmtFinType1\", \"BsmtFinType2\", \"FireplaceQu\", \"GarageType\", \"GarageFinish\", \"GarageQual\", \"GarageCond\", \"PoolQC\", \"Fence\", \"MiscFeature\"]\n",
    "for col in none_filled_cols:\n",
    "    df[col].fillna(\"None\", inplace=True)\n",
    "    \n",
    "df[cols_cat].isnull().sum().sum()"
   ]
  },
  {
   "cell_type": "markdown",
   "metadata": {},
   "source": [
    "# Impute numerical columns"
   ]
  },
  {
   "cell_type": "code",
   "execution_count": 15,
   "metadata": {
    "execution": {
     "iopub.execute_input": "2022-07-19T00:58:57.776744Z",
     "iopub.status.busy": "2022-07-19T00:58:57.776305Z",
     "iopub.status.idle": "2022-07-19T00:58:57.791753Z",
     "shell.execute_reply": "2022-07-19T00:58:57.790732Z",
     "shell.execute_reply.started": "2022-07-19T00:58:57.776711Z"
    }
   },
   "outputs": [
    {
     "data": {
      "text/plain": [
       "LotFrontage     486\n",
       "MasVnrArea       23\n",
       "BsmtFinSF1        1\n",
       "BsmtFinSF2        1\n",
       "BsmtUnfSF         1\n",
       "TotalBsmtSF       1\n",
       "BsmtFullBath      2\n",
       "BsmtHalfBath      2\n",
       "GarageYrBlt     159\n",
       "GarageCars        1\n",
       "GarageArea        1\n",
       "dtype: int64"
      ]
     },
     "execution_count": 15,
     "metadata": {},
     "output_type": "execute_result"
    }
   ],
   "source": [
    "cols_num_na = df[cols_num].isnull().sum()[df[cols_num].isnull().sum() > 0]\n",
    "cols_num_na"
   ]
  },
  {
   "cell_type": "code",
   "execution_count": 16,
   "metadata": {
    "execution": {
     "iopub.execute_input": "2022-07-19T01:20:00.267818Z",
     "iopub.status.busy": "2022-07-19T01:20:00.267245Z",
     "iopub.status.idle": "2022-07-19T01:20:00.278101Z",
     "shell.execute_reply": "2022-07-19T01:20:00.276762Z",
     "shell.execute_reply.started": "2022-07-19T01:20:00.267773Z"
    }
   },
   "outputs": [],
   "source": [
    "zero_filled_cols = [\"BsmtFinSF1\", \"BsmtFinSF2\", \"BsmtUnfSF\", \"TotalBsmtSF\", \"BsmtFullBath\", \"BsmtHalfBath\"]\n",
    "for col in zero_filled_cols:\n",
    "    df[col].fillna(0, inplace=True)"
   ]
  },
  {
   "cell_type": "code",
   "execution_count": 17,
   "metadata": {
    "execution": {
     "iopub.execute_input": "2022-07-19T01:20:07.180508Z",
     "iopub.status.busy": "2022-07-19T01:20:07.180084Z",
     "iopub.status.idle": "2022-07-19T01:20:07.197069Z",
     "shell.execute_reply": "2022-07-19T01:20:07.196027Z",
     "shell.execute_reply.started": "2022-07-19T01:20:07.180475Z"
    }
   },
   "outputs": [
    {
     "data": {
      "text/plain": [
       "LotFrontage    486\n",
       "MasVnrArea      23\n",
       "GarageYrBlt    159\n",
       "GarageCars       1\n",
       "GarageArea       1\n",
       "dtype: int64"
      ]
     },
     "execution_count": 17,
     "metadata": {},
     "output_type": "execute_result"
    }
   ],
   "source": [
    "cols_num_na = df[cols_num].isnull().sum()[df[cols_num].isnull().sum() > 0]\n",
    "cols_num_na"
   ]
  },
  {
   "cell_type": "code",
   "execution_count": 18,
   "metadata": {
    "execution": {
     "iopub.execute_input": "2022-07-19T01:59:09.163843Z",
     "iopub.status.busy": "2022-07-19T01:59:09.163408Z",
     "iopub.status.idle": "2022-07-19T01:59:09.175097Z",
     "shell.execute_reply": "2022-07-19T01:59:09.174139Z",
     "shell.execute_reply.started": "2022-07-19T01:59:09.163807Z"
    }
   },
   "outputs": [],
   "source": [
    "def gbr_imputer(df, cols_num_na):\n",
    "    imputer = KNNImputer(n_neighbors=8)\n",
    "    df_c = df.copy()\n",
    "    df_d = pd.get_dummies(df_c)\n",
    "    for col in tqdm(cols_num_na):\n",
    "        df_i = df_d.copy()\n",
    "        X, y = df_i.drop(col, axis=1), df[col]\n",
    "        X[:] = imputer.fit_transform(X)\n",
    "        \n",
    "        train_indexes, test_indexes = ~df_i[col].isnull(), df_i[col].isnull()\n",
    "        X_train, X_test = X.loc[train_indexes, :], X.loc[test_indexes, :]\n",
    "        y_train, y_test = y.loc[train_indexes], y.loc[test_indexes]\n",
    "        \n",
    "        model = GradientBoostingRegressor(n_estimators=X.shape[1] * 2, max_depth=9)\n",
    "        model.fit(X_train, y_train)\n",
    "        df.loc[df[col].isnull(), col] = model.predict(X_test)\n",
    "    return df"
   ]
  },
  {
   "cell_type": "code",
   "execution_count": 19,
   "metadata": {
    "execution": {
     "iopub.execute_input": "2022-07-19T01:59:09.279070Z",
     "iopub.status.busy": "2022-07-19T01:59:09.278278Z",
     "iopub.status.idle": "2022-07-19T02:02:25.387263Z",
     "shell.execute_reply": "2022-07-19T02:02:25.385917Z",
     "shell.execute_reply.started": "2022-07-19T01:59:09.279021Z"
    }
   },
   "outputs": [
    {
     "name": "stderr",
     "output_type": "stream",
     "text": [
      "100%|█████████████████████████████████████████████| 5/5 [02:16<00:00, 27.30s/it]\n"
     ]
    },
    {
     "data": {
      "text/plain": [
       "0"
      ]
     },
     "execution_count": 19,
     "metadata": {},
     "output_type": "execute_result"
    }
   ],
   "source": [
    "df = gbr_imputer(df, cols_num_na.index)\n",
    "df.isnull().sum().sum()"
   ]
  },
  {
   "cell_type": "markdown",
   "metadata": {},
   "source": [
    "# Feature selection"
   ]
  },
  {
   "cell_type": "code",
   "execution_count": 20,
   "metadata": {
    "execution": {
     "iopub.execute_input": "2022-07-19T02:40:35.462127Z",
     "iopub.status.busy": "2022-07-19T02:40:35.461679Z",
     "iopub.status.idle": "2022-07-19T02:40:35.469460Z",
     "shell.execute_reply": "2022-07-19T02:40:35.468500Z",
     "shell.execute_reply.started": "2022-07-19T02:40:35.462092Z"
    }
   },
   "outputs": [],
   "source": [
    "def get_del_cols(df):\n",
    "    # return the columns where no more than one value in the categorical features\n",
    "    # exists in the test data - those features can be ignored\n",
    "    cols_to_drop = []\n",
    "    for col in df.select_dtypes(object).columns:\n",
    "        col_vals = df[col].unique()\n",
    "        n_vals = len(col_vals)\n",
    "        n_irrelevant = 0\n",
    "        for val in col_vals:\n",
    "            if val not in df[col][m_train:].values:\n",
    "                n_irrelevant += 1\n",
    "        if n_irrelevant >= n_vals - 1:\n",
    "            cols_to_drop.append(col)\n",
    "    return cols_to_drop"
   ]
  },
  {
   "cell_type": "code",
   "execution_count": 21,
   "metadata": {
    "execution": {
     "iopub.execute_input": "2022-07-19T02:40:36.223819Z",
     "iopub.status.busy": "2022-07-19T02:40:36.223230Z",
     "iopub.status.idle": "2022-07-19T02:40:36.287108Z",
     "shell.execute_reply": "2022-07-19T02:40:36.285923Z",
     "shell.execute_reply.started": "2022-07-19T02:40:36.223788Z"
    }
   },
   "outputs": [
    {
     "data": {
      "text/plain": [
       "['Utilities']"
      ]
     },
     "execution_count": 21,
     "metadata": {},
     "output_type": "execute_result"
    }
   ],
   "source": [
    "cols_to_drop = get_del_cols(df)\n",
    "df.drop(cols_to_drop, axis=1, inplace=True)\n",
    "cols_to_drop"
   ]
  },
  {
   "cell_type": "markdown",
   "metadata": {},
   "source": [
    "# Change ordinal columns to numeric, and encode accordingly"
   ]
  },
  {
   "cell_type": "code",
   "execution_count": 22,
   "metadata": {
    "execution": {
     "iopub.execute_input": "2022-07-19T03:06:46.780201Z",
     "iopub.status.busy": "2022-07-19T03:06:46.779763Z",
     "iopub.status.idle": "2022-07-19T03:06:46.792519Z",
     "shell.execute_reply": "2022-07-19T03:06:46.791254Z",
     "shell.execute_reply.started": "2022-07-19T03:06:46.780139Z"
    }
   },
   "outputs": [
    {
     "data": {
      "text/plain": [
       "Index(['MSSubClass', 'MSZoning', 'Street', 'Alley', 'LotShape', 'LandContour',\n",
       "       'LotConfig', 'LandSlope', 'Neighborhood', 'Condition1', 'Condition2',\n",
       "       'BldgType', 'HouseStyle', 'RoofStyle', 'RoofMatl', 'Exterior1st',\n",
       "       'Exterior2nd', 'MasVnrType', 'ExterQual', 'ExterCond', 'Foundation',\n",
       "       'BsmtQual', 'BsmtCond', 'BsmtExposure', 'BsmtFinType1', 'BsmtFinType2',\n",
       "       'Heating', 'HeatingQC', 'CentralAir', 'Electrical', 'KitchenQual',\n",
       "       'Functional', 'FireplaceQu', 'GarageType', 'GarageFinish', 'GarageQual',\n",
       "       'GarageCond', 'PavedDrive', 'PoolQC', 'Fence', 'MiscFeature',\n",
       "       'SaleType', 'SaleCondition'],\n",
       "      dtype='object')"
      ]
     },
     "execution_count": 22,
     "metadata": {},
     "output_type": "execute_result"
    }
   ],
   "source": [
    "df.select_dtypes(object).columns"
   ]
  },
  {
   "cell_type": "code",
   "execution_count": 23,
   "metadata": {
    "execution": {
     "iopub.execute_input": "2022-07-19T03:17:32.447742Z",
     "iopub.status.busy": "2022-07-19T03:17:32.447320Z",
     "iopub.status.idle": "2022-07-19T03:17:32.464615Z",
     "shell.execute_reply": "2022-07-19T03:17:32.462931Z",
     "shell.execute_reply.started": "2022-07-19T03:17:32.447709Z"
    }
   },
   "outputs": [
    {
     "data": {
      "text/plain": [
       "0.0    1859\n",
       "1.0     968\n",
       "2.0      76\n",
       "3.0      16\n",
       "Name: LotShape, dtype: int64"
      ]
     },
     "execution_count": 23,
     "metadata": {},
     "output_type": "execute_result"
    }
   ],
   "source": [
    "oe = OrdinalEncoder(categories=[['Reg', 'IR1', 'IR2', 'IR3']])\n",
    "df.loc[:, \"LotShape\"] = oe.fit_transform(df[[\"LotShape\"]])\n",
    "df[\"LotShape\"].value_counts()"
   ]
  },
  {
   "cell_type": "code",
   "execution_count": 24,
   "metadata": {
    "execution": {
     "iopub.execute_input": "2022-07-19T03:20:29.852059Z",
     "iopub.status.busy": "2022-07-19T03:20:29.851558Z",
     "iopub.status.idle": "2022-07-19T03:20:29.871730Z",
     "shell.execute_reply": "2022-07-19T03:20:29.870540Z",
     "shell.execute_reply.started": "2022-07-19T03:20:29.852023Z"
    }
   },
   "outputs": [
    {
     "data": {
      "text/plain": [
       "0.0    2778\n",
       "1.0     125\n",
       "2.0      16\n",
       "Name: LandSlope, dtype: int64"
      ]
     },
     "execution_count": 24,
     "metadata": {},
     "output_type": "execute_result"
    }
   ],
   "source": [
    "oe = OrdinalEncoder(categories=[['Gtl', 'Mod', 'Sev']])\n",
    "df.loc[:, \"LandSlope\"] = oe.fit_transform(df[[\"LandSlope\"]])\n",
    "df[\"LandSlope\"].value_counts()"
   ]
  },
  {
   "cell_type": "code",
   "execution_count": 25,
   "metadata": {
    "execution": {
     "iopub.execute_input": "2022-07-19T03:34:12.911770Z",
     "iopub.status.busy": "2022-07-19T03:34:12.911339Z",
     "iopub.status.idle": "2022-07-19T03:34:12.970775Z",
     "shell.execute_reply": "2022-07-19T03:34:12.969748Z",
     "shell.execute_reply.started": "2022-07-19T03:34:12.911738Z"
    }
   },
   "outputs": [],
   "source": [
    "qual_oe = OrdinalEncoder(categories=[['None', 'Po', 'Fa', 'TA', 'Gd', 'Ex']])\n",
    "for col in [\"ExterQual\", \"ExterCond\", 'BsmtQual', 'BsmtCond', 'HeatingQC', 'KitchenQual', 'FireplaceQu', 'GarageQual', 'GarageCond', 'PoolQC']:\n",
    "    df.loc[:, col] = qual_oe.fit_transform(df[[col]])"
   ]
  },
  {
   "cell_type": "code",
   "execution_count": 26,
   "metadata": {
    "execution": {
     "iopub.execute_input": "2022-07-19T03:34:24.578856Z",
     "iopub.status.busy": "2022-07-19T03:34:24.578377Z",
     "iopub.status.idle": "2022-07-19T03:34:24.596778Z",
     "shell.execute_reply": "2022-07-19T03:34:24.595581Z",
     "shell.execute_reply.started": "2022-07-19T03:34:24.578823Z"
    }
   },
   "outputs": [
    {
     "data": {
      "text/plain": [
       "0.0    2778\n",
       "1.0     125\n",
       "2.0      16\n",
       "Name: LandSlope, dtype: int64"
      ]
     },
     "execution_count": 26,
     "metadata": {},
     "output_type": "execute_result"
    }
   ],
   "source": [
    "oe = OrdinalEncoder(categories=[['None', 'No', 'Mn', 'Av', 'Gd']])\n",
    "df.loc[:, \"BsmtExposure\"] = oe.fit_transform(df[[\"BsmtExposure\"]])\n",
    "df[\"LandSlope\"].value_counts()"
   ]
  },
  {
   "cell_type": "code",
   "execution_count": 27,
   "metadata": {
    "execution": {
     "iopub.execute_input": "2022-07-19T03:37:05.802422Z",
     "iopub.status.busy": "2022-07-19T03:37:05.801991Z",
     "iopub.status.idle": "2022-07-19T03:37:05.819578Z",
     "shell.execute_reply": "2022-07-19T03:37:05.818424Z",
     "shell.execute_reply.started": "2022-07-19T03:37:05.802378Z"
    }
   },
   "outputs": [],
   "source": [
    "oe = OrdinalEncoder(categories=[['None', 'Unf', 'LwQ', 'Rec', 'BLQ', 'ALQ', 'GLQ']])\n",
    "for col in [\"BsmtFinType1\", \"BsmtFinType2\"]:\n",
    "    df.loc[:, col] = oe.fit_transform(df[[col]])"
   ]
  },
  {
   "cell_type": "code",
   "execution_count": 28,
   "metadata": {
    "execution": {
     "iopub.execute_input": "2022-07-19T03:37:21.407584Z",
     "iopub.status.busy": "2022-07-19T03:37:21.407120Z",
     "iopub.status.idle": "2022-07-19T03:37:21.425435Z",
     "shell.execute_reply": "2022-07-19T03:37:21.424109Z",
     "shell.execute_reply.started": "2022-07-19T03:37:21.407550Z"
    }
   },
   "outputs": [
    {
     "data": {
      "text/plain": [
       "1.0    1230\n",
       "2.0     811\n",
       "3.0     719\n",
       "0.0     159\n",
       "Name: GarageFinish, dtype: int64"
      ]
     },
     "execution_count": 28,
     "metadata": {},
     "output_type": "execute_result"
    }
   ],
   "source": [
    "oe = OrdinalEncoder(categories=[['None', 'Unf', 'RFn', 'Fin']])\n",
    "df.loc[:, \"GarageFinish\"] = oe.fit_transform(df[[\"GarageFinish\"]])\n",
    "df[\"GarageFinish\"].value_counts()"
   ]
  },
  {
   "cell_type": "code",
   "execution_count": 29,
   "metadata": {
    "execution": {
     "iopub.execute_input": "2022-07-19T03:37:24.706888Z",
     "iopub.status.busy": "2022-07-19T03:37:24.706401Z",
     "iopub.status.idle": "2022-07-19T03:37:24.726149Z",
     "shell.execute_reply": "2022-07-19T03:37:24.725109Z",
     "shell.execute_reply.started": "2022-07-19T03:37:24.706850Z"
    }
   },
   "outputs": [
    {
     "data": {
      "text/plain": [
       "2.0    2641\n",
       "0.0     216\n",
       "1.0      62\n",
       "Name: PavedDrive, dtype: int64"
      ]
     },
     "execution_count": 29,
     "metadata": {},
     "output_type": "execute_result"
    }
   ],
   "source": [
    "oe = OrdinalEncoder(categories=[['N', 'P', 'Y']])\n",
    "df.loc[:, \"PavedDrive\"] = oe.fit_transform(df[[\"PavedDrive\"]])\n",
    "df[\"PavedDrive\"].value_counts()"
   ]
  },
  {
   "cell_type": "code",
   "execution_count": 30,
   "metadata": {
    "execution": {
     "iopub.execute_input": "2022-07-19T03:37:28.450419Z",
     "iopub.status.busy": "2022-07-19T03:37:28.448980Z",
     "iopub.status.idle": "2022-07-19T03:37:28.470145Z",
     "shell.execute_reply": "2022-07-19T03:37:28.468498Z",
     "shell.execute_reply.started": "2022-07-19T03:37:28.450351Z"
    }
   },
   "outputs": [
    {
     "data": {
      "text/plain": [
       "0.0    2348\n",
       "3.0     329\n",
       "4.0     118\n",
       "2.0     112\n",
       "1.0      12\n",
       "Name: Fence, dtype: int64"
      ]
     },
     "execution_count": 30,
     "metadata": {},
     "output_type": "execute_result"
    }
   ],
   "source": [
    "oe = OrdinalEncoder(categories=[['None', 'MnWw', 'GdWo', 'MnPrv', 'GdPrv']])\n",
    "df.loc[:, \"Fence\"] = oe.fit_transform(df[[\"Fence\"]])\n",
    "df[\"Fence\"].value_counts()"
   ]
  },
  {
   "cell_type": "markdown",
   "metadata": {},
   "source": [
    "# Feature Engineering"
   ]
  },
  {
   "cell_type": "code",
   "execution_count": 31,
   "metadata": {},
   "outputs": [
    {
     "data": {
      "text/plain": [
       "1.0    1471\n",
       "2.0    1083\n",
       "1.5     333\n",
       "2.5      32\n",
       "Name: n_stories, dtype: int64"
      ]
     },
     "execution_count": 31,
     "metadata": {},
     "output_type": "execute_result"
    }
   ],
   "source": [
    "n_stories_dict = {\n",
    "    \"1Story\": 1.0,\n",
    "    \"1.5Fin\": 1.5,\n",
    "    \"1.5Unf\": 1.5,\n",
    "    \"2Story\": 2.0,\n",
    "    \"2.5Fin\": 2.5,\n",
    "    \"2.5Unf\": 2.5,\n",
    "    \"SFoyer\": 2.0,\n",
    "    \"SLvl\": 2.0,\n",
    "}\n",
    "\n",
    "df[\"n_stories\"] = df[\"HouseStyle\"].replace(n_stories_dict)\n",
    "df[\"n_stories\"].value_counts()"
   ]
  },
  {
   "cell_type": "code",
   "execution_count": 32,
   "metadata": {},
   "outputs": [],
   "source": [
    "df[\"age_sold\"] = df[\"YrSold\"] - df[\"YearBuilt\"]\n",
    "df[\"age_sold_Remod\"] = df[\"YrSold\"] - df[\"YearRemodAdd\"]\n",
    "df[\"GarageYrSold\"] = df[\"YrSold\"] - df[\"GarageYrBlt\"]"
   ]
  },
  {
   "cell_type": "code",
   "execution_count": 33,
   "metadata": {},
   "outputs": [
    {
     "data": {
      "text/plain": [
       "1    2723\n",
       "0     196\n",
       "Name: CentralAir, dtype: int64"
      ]
     },
     "execution_count": 33,
     "metadata": {},
     "output_type": "execute_result"
    }
   ],
   "source": [
    "df[\"CentralAir\"] = df[\"CentralAir\"].replace({\"Y\": 1, \"N\": 0})\n",
    "df[\"CentralAir\"].value_counts()"
   ]
  },
  {
   "cell_type": "code",
   "execution_count": 34,
   "metadata": {},
   "outputs": [
    {
     "data": {
      "text/plain": [
       "Index(['LotFrontage', 'LotArea', 'LotShape', 'LandSlope', 'OverallQual',\n",
       "       'OverallCond', 'YearBuilt', 'YearRemodAdd', 'MasVnrArea', 'ExterQual',\n",
       "       'ExterCond', 'BsmtQual', 'BsmtCond', 'BsmtExposure', 'BsmtFinType1',\n",
       "       'BsmtFinSF1', 'BsmtFinType2', 'BsmtFinSF2', 'BsmtUnfSF', 'TotalBsmtSF',\n",
       "       'HeatingQC', 'CentralAir', '1stFlrSF', '2ndFlrSF', 'LowQualFinSF',\n",
       "       'GrLivArea', 'BsmtFullBath', 'BsmtHalfBath', 'FullBath', 'HalfBath',\n",
       "       'BedroomAbvGr', 'KitchenAbvGr', 'KitchenQual', 'TotRmsAbvGrd',\n",
       "       'Fireplaces', 'FireplaceQu', 'GarageYrBlt', 'GarageFinish',\n",
       "       'GarageCars', 'GarageArea', 'GarageQual', 'GarageCond', 'PavedDrive',\n",
       "       'WoodDeckSF', 'OpenPorchSF', 'EnclosedPorch', '3SsnPorch',\n",
       "       'ScreenPorch', 'PoolArea', 'PoolQC', 'Fence', 'MiscVal', 'MoSold',\n",
       "       'YrSold', 'n_stories', 'age_sold', 'age_sold_Remod', 'GarageYrSold'],\n",
       "      dtype='object')"
      ]
     },
     "execution_count": 34,
     "metadata": {},
     "output_type": "execute_result"
    }
   ],
   "source": [
    "df.select_dtypes(np.number).columns"
   ]
  },
  {
   "cell_type": "code",
   "execution_count": 35,
   "metadata": {},
   "outputs": [],
   "source": [
    "df[\"total_living_area\"] = df['TotalBsmtSF'] + df['GrLivArea']\n",
    "df['HighQualFinSF'] = df[\"total_living_area\"] - df['LowQualFinSF']\n",
    "df['Total_Home_Quality'] = df['OverallQual'] + df['OverallCond']\n",
    "df[\"HighQualSF\"] = df[\"GrLivArea\"] + df[\"1stFlrSF\"] + df[\"2ndFlrSF\"] + df[\"GarageArea\"]/2 + df[\"TotalBsmtSF\"]/2 + df[\"MasVnrArea\"]\n",
    "\n",
    "\n",
    "df[\"SqFtPerRoom\"] = df[\"GrLivArea\"] / (df[\"TotRmsAbvGrd\"] +\n",
    "                                       df[\"FullBath\"] +\n",
    "                                       df[\"HalfBath\"] +\n",
    "                                       df[\"KitchenAbvGr\"])"
   ]
  },
  {
   "cell_type": "markdown",
   "metadata": {},
   "source": [
    "# One-hot encoding"
   ]
  },
  {
   "cell_type": "code",
   "execution_count": 36,
   "metadata": {},
   "outputs": [
    {
     "data": {
      "text/plain": [
       "(2919, 251)"
      ]
     },
     "execution_count": 36,
     "metadata": {},
     "output_type": "execute_result"
    }
   ],
   "source": [
    "df = pd.get_dummies(df)\n",
    "m, n = df.shape\n",
    "m, n"
   ]
  },
  {
   "cell_type": "markdown",
   "metadata": {},
   "source": [
    "# Split test and train"
   ]
  },
  {
   "cell_type": "code",
   "execution_count": 37,
   "metadata": {},
   "outputs": [
    {
     "data": {
      "text/plain": [
       "((1460, 251), (1460,))"
      ]
     },
     "execution_count": 37,
     "metadata": {},
     "output_type": "execute_result"
    }
   ],
   "source": [
    "X_train, X_test = df[:m_train], df[m_train:]\n",
    "y_train, _ = target[:m_train], target[m_train:]\n",
    "X_train.shape, y_train.shape"
   ]
  },
  {
   "cell_type": "markdown",
   "metadata": {},
   "source": [
    "# Training - XGB Grid Search "
   ]
  },
  {
   "cell_type": "code",
   "execution_count": null,
   "metadata": {},
   "outputs": [],
   "source": [
    "# model = XGBRegressor(n_jobs=multiprocessing.cpu_count() // 2, eval_metric=mean_squared_error)\n",
    "\n",
    "# kwargs = {\n",
    "#     \"n_estimators\": [n, 1.5 * n, 2 * n, int(2.5 * n), 3 * n],\n",
    "#     \"max_depth\": [2, 3, 4, 5, 6],\n",
    "#     \"learning_rate\": [0.08, 0.1, 0.15],\n",
    "#     \"tree_method\": [\"auto\", \"hist\"],\n",
    "#     \"random_state\": [10,],\n",
    "#     \"subsample\": [0.5, 0.65, 0.8],\n",
    "#     \"colsample_bytree\": [0.5, 0.65, 0.8],\n",
    "#     \"reg_lambda\": [0.1, 1, 2, 5, 10], \n",
    "#     \"min_child_weight\": [0.01, 0.05, 0.1, 0.2, 0.5, 1, 2, 5, 10, 20] \n",
    "# }\n",
    "# clf = GridSearchCV(model, kwargs, verbose=1, n_jobs=2)\n",
    "# clf.fit(X_train, y_train)\n",
    "# print(clf.best_score_)\n",
    "# print(clf.best_params_)"
   ]
  },
  {
   "cell_type": "code",
   "execution_count": null,
   "metadata": {},
   "outputs": [],
   "source": [
    "# model = XGBRegressor(n_jobs=multiprocessing.cpu_count() // 2, eval_metric=mean_squared_error)\n",
    "\n",
    "# kwargs = {\n",
    "#     \"n_estimators\": [2 * n],\n",
    "#     \"max_depth\": [3, 4, 5, 6],\n",
    "#     \"learning_rate\": [0.1],\n",
    "#     \"tree_method\": [\"auto\", \"hist\"],\n",
    "#     \"random_state\": [10,],\n",
    "#     \"subsample\": [0.5, 0.65, 0.8],\n",
    "#     \"colsample_bytree\": [0.5, 0.65, 0.8],\n",
    "#     \"reg_lambda\": [0.1, 1, 2, 5, 10], \n",
    "#     \"min_child_weight\": [0.01, 0.1, 0.5, 1, 2, 5, 10] \n",
    "# }\n",
    "# clf = GridSearchCV(model, kwargs, verbose=1, n_jobs=2)\n",
    "# clf.fit(X_train, y_train)\n",
    "# print(clf.best_score_)\n",
    "# print(clf.best_params_)"
   ]
  },
  {
   "cell_type": "code",
   "execution_count": null,
   "metadata": {},
   "outputs": [
    {
     "name": "stdout",
     "output_type": "stream",
     "text": [
      "Fitting 5 folds for each of 3600 candidates, totalling 18000 fits\n"
     ]
    }
   ],
   "source": [
    "model = XGBRegressor(n_jobs=multiprocessing.cpu_count() // 2, eval_metric=mean_squared_error)\n",
    "\n",
    "kwargs = {\n",
    "    \"n_estimators\": [2 * n],\n",
    "    \"max_depth\": [3, 4, 5, 6],\n",
    "    \"learning_rate\": [0.1],\n",
    "    \"tree_method\": [\"auto\", \"hist\"],\n",
    "    \"random_state\": [10,],\n",
    "    \"subsample\": [0.5, 0.65, 0.8],\n",
    "    \"colsample_bytree\": [0.5, 0.65, 0.8],\n",
    "    \"reg_lambda\": [0.1, 1, 2, 5, 10], \n",
    "    \"min_child_weight\": [0.01, 0.05, 0.1, 0.2, 0.5, 1, 2, 5, 10, 20] \n",
    "}\n",
    "clf = GridSearchCV(model, kwargs, verbose=1, n_jobs=2)\n",
    "clf.fit(X_train, y_train)\n",
    "print(clf.best_score_)\n",
    "print(clf.best_params_)"
   ]
  },
  {
   "cell_type": "code",
   "execution_count": 45,
   "metadata": {},
   "outputs": [
    {
     "data": {
      "text/html": [
       "<div>\n",
       "<style scoped>\n",
       "    .dataframe tbody tr th:only-of-type {\n",
       "        vertical-align: middle;\n",
       "    }\n",
       "\n",
       "    .dataframe tbody tr th {\n",
       "        vertical-align: top;\n",
       "    }\n",
       "\n",
       "    .dataframe thead th {\n",
       "        text-align: right;\n",
       "    }\n",
       "</style>\n",
       "<table border=\"1\" class=\"dataframe\">\n",
       "  <thead>\n",
       "    <tr style=\"text-align: right;\">\n",
       "      <th></th>\n",
       "      <th>LotFrontage</th>\n",
       "      <th>LotArea</th>\n",
       "      <th>LotShape</th>\n",
       "      <th>LandSlope</th>\n",
       "      <th>OverallQual</th>\n",
       "      <th>OverallCond</th>\n",
       "      <th>YearBuilt</th>\n",
       "      <th>YearRemodAdd</th>\n",
       "      <th>MasVnrArea</th>\n",
       "      <th>ExterQual</th>\n",
       "      <th>...</th>\n",
       "      <th>SaleType_New</th>\n",
       "      <th>SaleType_Oth</th>\n",
       "      <th>SaleType_WD</th>\n",
       "      <th>SaleCondition_Abnorml</th>\n",
       "      <th>SaleCondition_AdjLand</th>\n",
       "      <th>SaleCondition_Alloca</th>\n",
       "      <th>SaleCondition_Family</th>\n",
       "      <th>SaleCondition_Normal</th>\n",
       "      <th>SaleCondition_Partial</th>\n",
       "      <th>SalePrice</th>\n",
       "    </tr>\n",
       "  </thead>\n",
       "  <tbody>\n",
       "    <tr>\n",
       "      <th>0</th>\n",
       "      <td>65.0</td>\n",
       "      <td>8450</td>\n",
       "      <td>0.0</td>\n",
       "      <td>0.0</td>\n",
       "      <td>7</td>\n",
       "      <td>5</td>\n",
       "      <td>2003</td>\n",
       "      <td>2003</td>\n",
       "      <td>196.0</td>\n",
       "      <td>4.0</td>\n",
       "      <td>...</td>\n",
       "      <td>0</td>\n",
       "      <td>0</td>\n",
       "      <td>1</td>\n",
       "      <td>0</td>\n",
       "      <td>0</td>\n",
       "      <td>0</td>\n",
       "      <td>0</td>\n",
       "      <td>1</td>\n",
       "      <td>0</td>\n",
       "      <td>208500.0</td>\n",
       "    </tr>\n",
       "    <tr>\n",
       "      <th>1</th>\n",
       "      <td>80.0</td>\n",
       "      <td>9600</td>\n",
       "      <td>0.0</td>\n",
       "      <td>0.0</td>\n",
       "      <td>6</td>\n",
       "      <td>8</td>\n",
       "      <td>1976</td>\n",
       "      <td>1976</td>\n",
       "      <td>0.0</td>\n",
       "      <td>3.0</td>\n",
       "      <td>...</td>\n",
       "      <td>0</td>\n",
       "      <td>0</td>\n",
       "      <td>1</td>\n",
       "      <td>0</td>\n",
       "      <td>0</td>\n",
       "      <td>0</td>\n",
       "      <td>0</td>\n",
       "      <td>1</td>\n",
       "      <td>0</td>\n",
       "      <td>181500.0</td>\n",
       "    </tr>\n",
       "    <tr>\n",
       "      <th>2</th>\n",
       "      <td>68.0</td>\n",
       "      <td>11250</td>\n",
       "      <td>1.0</td>\n",
       "      <td>0.0</td>\n",
       "      <td>7</td>\n",
       "      <td>5</td>\n",
       "      <td>2001</td>\n",
       "      <td>2002</td>\n",
       "      <td>162.0</td>\n",
       "      <td>4.0</td>\n",
       "      <td>...</td>\n",
       "      <td>0</td>\n",
       "      <td>0</td>\n",
       "      <td>1</td>\n",
       "      <td>0</td>\n",
       "      <td>0</td>\n",
       "      <td>0</td>\n",
       "      <td>0</td>\n",
       "      <td>1</td>\n",
       "      <td>0</td>\n",
       "      <td>223500.0</td>\n",
       "    </tr>\n",
       "    <tr>\n",
       "      <th>3</th>\n",
       "      <td>60.0</td>\n",
       "      <td>9550</td>\n",
       "      <td>1.0</td>\n",
       "      <td>0.0</td>\n",
       "      <td>7</td>\n",
       "      <td>5</td>\n",
       "      <td>1915</td>\n",
       "      <td>1970</td>\n",
       "      <td>0.0</td>\n",
       "      <td>3.0</td>\n",
       "      <td>...</td>\n",
       "      <td>0</td>\n",
       "      <td>0</td>\n",
       "      <td>1</td>\n",
       "      <td>1</td>\n",
       "      <td>0</td>\n",
       "      <td>0</td>\n",
       "      <td>0</td>\n",
       "      <td>0</td>\n",
       "      <td>0</td>\n",
       "      <td>140000.0</td>\n",
       "    </tr>\n",
       "    <tr>\n",
       "      <th>4</th>\n",
       "      <td>84.0</td>\n",
       "      <td>14260</td>\n",
       "      <td>1.0</td>\n",
       "      <td>0.0</td>\n",
       "      <td>8</td>\n",
       "      <td>5</td>\n",
       "      <td>2000</td>\n",
       "      <td>2000</td>\n",
       "      <td>350.0</td>\n",
       "      <td>4.0</td>\n",
       "      <td>...</td>\n",
       "      <td>0</td>\n",
       "      <td>0</td>\n",
       "      <td>1</td>\n",
       "      <td>0</td>\n",
       "      <td>0</td>\n",
       "      <td>0</td>\n",
       "      <td>0</td>\n",
       "      <td>1</td>\n",
       "      <td>0</td>\n",
       "      <td>250000.0</td>\n",
       "    </tr>\n",
       "    <tr>\n",
       "      <th>...</th>\n",
       "      <td>...</td>\n",
       "      <td>...</td>\n",
       "      <td>...</td>\n",
       "      <td>...</td>\n",
       "      <td>...</td>\n",
       "      <td>...</td>\n",
       "      <td>...</td>\n",
       "      <td>...</td>\n",
       "      <td>...</td>\n",
       "      <td>...</td>\n",
       "      <td>...</td>\n",
       "      <td>...</td>\n",
       "      <td>...</td>\n",
       "      <td>...</td>\n",
       "      <td>...</td>\n",
       "      <td>...</td>\n",
       "      <td>...</td>\n",
       "      <td>...</td>\n",
       "      <td>...</td>\n",
       "      <td>...</td>\n",
       "      <td>...</td>\n",
       "    </tr>\n",
       "    <tr>\n",
       "      <th>1455</th>\n",
       "      <td>62.0</td>\n",
       "      <td>7917</td>\n",
       "      <td>0.0</td>\n",
       "      <td>0.0</td>\n",
       "      <td>6</td>\n",
       "      <td>5</td>\n",
       "      <td>1999</td>\n",
       "      <td>2000</td>\n",
       "      <td>0.0</td>\n",
       "      <td>3.0</td>\n",
       "      <td>...</td>\n",
       "      <td>0</td>\n",
       "      <td>0</td>\n",
       "      <td>1</td>\n",
       "      <td>0</td>\n",
       "      <td>0</td>\n",
       "      <td>0</td>\n",
       "      <td>0</td>\n",
       "      <td>1</td>\n",
       "      <td>0</td>\n",
       "      <td>175000.0</td>\n",
       "    </tr>\n",
       "    <tr>\n",
       "      <th>1456</th>\n",
       "      <td>85.0</td>\n",
       "      <td>13175</td>\n",
       "      <td>0.0</td>\n",
       "      <td>0.0</td>\n",
       "      <td>6</td>\n",
       "      <td>6</td>\n",
       "      <td>1978</td>\n",
       "      <td>1988</td>\n",
       "      <td>119.0</td>\n",
       "      <td>3.0</td>\n",
       "      <td>...</td>\n",
       "      <td>0</td>\n",
       "      <td>0</td>\n",
       "      <td>1</td>\n",
       "      <td>0</td>\n",
       "      <td>0</td>\n",
       "      <td>0</td>\n",
       "      <td>0</td>\n",
       "      <td>1</td>\n",
       "      <td>0</td>\n",
       "      <td>210000.0</td>\n",
       "    </tr>\n",
       "    <tr>\n",
       "      <th>1457</th>\n",
       "      <td>66.0</td>\n",
       "      <td>9042</td>\n",
       "      <td>0.0</td>\n",
       "      <td>0.0</td>\n",
       "      <td>7</td>\n",
       "      <td>9</td>\n",
       "      <td>1941</td>\n",
       "      <td>2006</td>\n",
       "      <td>0.0</td>\n",
       "      <td>5.0</td>\n",
       "      <td>...</td>\n",
       "      <td>0</td>\n",
       "      <td>0</td>\n",
       "      <td>1</td>\n",
       "      <td>0</td>\n",
       "      <td>0</td>\n",
       "      <td>0</td>\n",
       "      <td>0</td>\n",
       "      <td>1</td>\n",
       "      <td>0</td>\n",
       "      <td>266500.0</td>\n",
       "    </tr>\n",
       "    <tr>\n",
       "      <th>1458</th>\n",
       "      <td>68.0</td>\n",
       "      <td>9717</td>\n",
       "      <td>0.0</td>\n",
       "      <td>0.0</td>\n",
       "      <td>5</td>\n",
       "      <td>6</td>\n",
       "      <td>1950</td>\n",
       "      <td>1996</td>\n",
       "      <td>0.0</td>\n",
       "      <td>3.0</td>\n",
       "      <td>...</td>\n",
       "      <td>0</td>\n",
       "      <td>0</td>\n",
       "      <td>1</td>\n",
       "      <td>0</td>\n",
       "      <td>0</td>\n",
       "      <td>0</td>\n",
       "      <td>0</td>\n",
       "      <td>1</td>\n",
       "      <td>0</td>\n",
       "      <td>142125.0</td>\n",
       "    </tr>\n",
       "    <tr>\n",
       "      <th>1459</th>\n",
       "      <td>75.0</td>\n",
       "      <td>9937</td>\n",
       "      <td>0.0</td>\n",
       "      <td>0.0</td>\n",
       "      <td>5</td>\n",
       "      <td>6</td>\n",
       "      <td>1965</td>\n",
       "      <td>1965</td>\n",
       "      <td>0.0</td>\n",
       "      <td>4.0</td>\n",
       "      <td>...</td>\n",
       "      <td>0</td>\n",
       "      <td>0</td>\n",
       "      <td>1</td>\n",
       "      <td>0</td>\n",
       "      <td>0</td>\n",
       "      <td>0</td>\n",
       "      <td>0</td>\n",
       "      <td>1</td>\n",
       "      <td>0</td>\n",
       "      <td>147500.0</td>\n",
       "    </tr>\n",
       "  </tbody>\n",
       "</table>\n",
       "<p>1460 rows × 252 columns</p>\n",
       "</div>"
      ],
      "text/plain": [
       "      LotFrontage  LotArea  LotShape  LandSlope  OverallQual  OverallCond  \\\n",
       "0            65.0     8450       0.0        0.0            7            5   \n",
       "1            80.0     9600       0.0        0.0            6            8   \n",
       "2            68.0    11250       1.0        0.0            7            5   \n",
       "3            60.0     9550       1.0        0.0            7            5   \n",
       "4            84.0    14260       1.0        0.0            8            5   \n",
       "...           ...      ...       ...        ...          ...          ...   \n",
       "1455         62.0     7917       0.0        0.0            6            5   \n",
       "1456         85.0    13175       0.0        0.0            6            6   \n",
       "1457         66.0     9042       0.0        0.0            7            9   \n",
       "1458         68.0     9717       0.0        0.0            5            6   \n",
       "1459         75.0     9937       0.0        0.0            5            6   \n",
       "\n",
       "      YearBuilt  YearRemodAdd  MasVnrArea  ExterQual  ...  SaleType_New  \\\n",
       "0          2003          2003       196.0        4.0  ...             0   \n",
       "1          1976          1976         0.0        3.0  ...             0   \n",
       "2          2001          2002       162.0        4.0  ...             0   \n",
       "3          1915          1970         0.0        3.0  ...             0   \n",
       "4          2000          2000       350.0        4.0  ...             0   \n",
       "...         ...           ...         ...        ...  ...           ...   \n",
       "1455       1999          2000         0.0        3.0  ...             0   \n",
       "1456       1978          1988       119.0        3.0  ...             0   \n",
       "1457       1941          2006         0.0        5.0  ...             0   \n",
       "1458       1950          1996         0.0        3.0  ...             0   \n",
       "1459       1965          1965         0.0        4.0  ...             0   \n",
       "\n",
       "      SaleType_Oth  SaleType_WD  SaleCondition_Abnorml  SaleCondition_AdjLand  \\\n",
       "0                0            1                      0                      0   \n",
       "1                0            1                      0                      0   \n",
       "2                0            1                      0                      0   \n",
       "3                0            1                      1                      0   \n",
       "4                0            1                      0                      0   \n",
       "...            ...          ...                    ...                    ...   \n",
       "1455             0            1                      0                      0   \n",
       "1456             0            1                      0                      0   \n",
       "1457             0            1                      0                      0   \n",
       "1458             0            1                      0                      0   \n",
       "1459             0            1                      0                      0   \n",
       "\n",
       "      SaleCondition_Alloca  SaleCondition_Family  SaleCondition_Normal  \\\n",
       "0                        0                     0                     1   \n",
       "1                        0                     0                     1   \n",
       "2                        0                     0                     1   \n",
       "3                        0                     0                     0   \n",
       "4                        0                     0                     1   \n",
       "...                    ...                   ...                   ...   \n",
       "1455                     0                     0                     1   \n",
       "1456                     0                     0                     1   \n",
       "1457                     0                     0                     1   \n",
       "1458                     0                     0                     1   \n",
       "1459                     0                     0                     1   \n",
       "\n",
       "      SaleCondition_Partial  SalePrice  \n",
       "0                         0   208500.0  \n",
       "1                         0   181500.0  \n",
       "2                         0   223500.0  \n",
       "3                         0   140000.0  \n",
       "4                         0   250000.0  \n",
       "...                     ...        ...  \n",
       "1455                      0   175000.0  \n",
       "1456                      0   210000.0  \n",
       "1457                      0   266500.0  \n",
       "1458                      0   142125.0  \n",
       "1459                      0   147500.0  \n",
       "\n",
       "[1460 rows x 252 columns]"
      ]
     },
     "execution_count": 45,
     "metadata": {},
     "output_type": "execute_result"
    }
   ],
   "source": [
    "pd.concat((X_train, y_train), axis=1)"
   ]
  },
  {
   "cell_type": "code",
   "execution_count": 46,
   "metadata": {},
   "outputs": [
    {
     "data": {
      "text/html": [
       "<style type=\"text/css\">\n",
       "#T_1fe94_row7_col1 {\n",
       "  background-color: lightgreen;\n",
       "}\n",
       "</style>\n",
       "<table id=\"T_1fe94\">\n",
       "  <thead>\n",
       "    <tr>\n",
       "      <th class=\"blank level0\" >&nbsp;</th>\n",
       "      <th id=\"T_1fe94_level0_col0\" class=\"col_heading level0 col0\" >Description</th>\n",
       "      <th id=\"T_1fe94_level0_col1\" class=\"col_heading level0 col1\" >Value</th>\n",
       "    </tr>\n",
       "  </thead>\n",
       "  <tbody>\n",
       "    <tr>\n",
       "      <th id=\"T_1fe94_level0_row0\" class=\"row_heading level0 row0\" >0</th>\n",
       "      <td id=\"T_1fe94_row0_col0\" class=\"data row0 col0\" >Session id</td>\n",
       "      <td id=\"T_1fe94_row0_col1\" class=\"data row0 col1\" >429</td>\n",
       "    </tr>\n",
       "    <tr>\n",
       "      <th id=\"T_1fe94_level0_row1\" class=\"row_heading level0 row1\" >1</th>\n",
       "      <td id=\"T_1fe94_row1_col0\" class=\"data row1 col0\" >Target</td>\n",
       "      <td id=\"T_1fe94_row1_col1\" class=\"data row1 col1\" >SalePrice</td>\n",
       "    </tr>\n",
       "    <tr>\n",
       "      <th id=\"T_1fe94_level0_row2\" class=\"row_heading level0 row2\" >2</th>\n",
       "      <td id=\"T_1fe94_row2_col0\" class=\"data row2 col0\" >Target type</td>\n",
       "      <td id=\"T_1fe94_row2_col1\" class=\"data row2 col1\" >Regression</td>\n",
       "    </tr>\n",
       "    <tr>\n",
       "      <th id=\"T_1fe94_level0_row3\" class=\"row_heading level0 row3\" >3</th>\n",
       "      <td id=\"T_1fe94_row3_col0\" class=\"data row3 col0\" >Data shape</td>\n",
       "      <td id=\"T_1fe94_row3_col1\" class=\"data row3 col1\" >(1460, 252)</td>\n",
       "    </tr>\n",
       "    <tr>\n",
       "      <th id=\"T_1fe94_level0_row4\" class=\"row_heading level0 row4\" >4</th>\n",
       "      <td id=\"T_1fe94_row4_col0\" class=\"data row4 col0\" >Train data shape</td>\n",
       "      <td id=\"T_1fe94_row4_col1\" class=\"data row4 col1\" >(1021, 252)</td>\n",
       "    </tr>\n",
       "    <tr>\n",
       "      <th id=\"T_1fe94_level0_row5\" class=\"row_heading level0 row5\" >5</th>\n",
       "      <td id=\"T_1fe94_row5_col0\" class=\"data row5 col0\" >Test data shape</td>\n",
       "      <td id=\"T_1fe94_row5_col1\" class=\"data row5 col1\" >(439, 252)</td>\n",
       "    </tr>\n",
       "    <tr>\n",
       "      <th id=\"T_1fe94_level0_row6\" class=\"row_heading level0 row6\" >6</th>\n",
       "      <td id=\"T_1fe94_row6_col0\" class=\"data row6 col0\" >Numeric features</td>\n",
       "      <td id=\"T_1fe94_row6_col1\" class=\"data row6 col1\" >251</td>\n",
       "    </tr>\n",
       "    <tr>\n",
       "      <th id=\"T_1fe94_level0_row7\" class=\"row_heading level0 row7\" >7</th>\n",
       "      <td id=\"T_1fe94_row7_col0\" class=\"data row7 col0\" >Preprocess</td>\n",
       "      <td id=\"T_1fe94_row7_col1\" class=\"data row7 col1\" >True</td>\n",
       "    </tr>\n",
       "    <tr>\n",
       "      <th id=\"T_1fe94_level0_row8\" class=\"row_heading level0 row8\" >8</th>\n",
       "      <td id=\"T_1fe94_row8_col0\" class=\"data row8 col0\" >Imputation type</td>\n",
       "      <td id=\"T_1fe94_row8_col1\" class=\"data row8 col1\" >simple</td>\n",
       "    </tr>\n",
       "    <tr>\n",
       "      <th id=\"T_1fe94_level0_row9\" class=\"row_heading level0 row9\" >9</th>\n",
       "      <td id=\"T_1fe94_row9_col0\" class=\"data row9 col0\" >Numeric imputation</td>\n",
       "      <td id=\"T_1fe94_row9_col1\" class=\"data row9 col1\" >mean</td>\n",
       "    </tr>\n",
       "    <tr>\n",
       "      <th id=\"T_1fe94_level0_row10\" class=\"row_heading level0 row10\" >10</th>\n",
       "      <td id=\"T_1fe94_row10_col0\" class=\"data row10 col0\" >Categorical imputation</td>\n",
       "      <td id=\"T_1fe94_row10_col1\" class=\"data row10 col1\" >constant</td>\n",
       "    </tr>\n",
       "    <tr>\n",
       "      <th id=\"T_1fe94_level0_row11\" class=\"row_heading level0 row11\" >11</th>\n",
       "      <td id=\"T_1fe94_row11_col0\" class=\"data row11 col0\" >Fold Generator</td>\n",
       "      <td id=\"T_1fe94_row11_col1\" class=\"data row11 col1\" >KFold</td>\n",
       "    </tr>\n",
       "    <tr>\n",
       "      <th id=\"T_1fe94_level0_row12\" class=\"row_heading level0 row12\" >12</th>\n",
       "      <td id=\"T_1fe94_row12_col0\" class=\"data row12 col0\" >Fold Number</td>\n",
       "      <td id=\"T_1fe94_row12_col1\" class=\"data row12 col1\" >10</td>\n",
       "    </tr>\n",
       "    <tr>\n",
       "      <th id=\"T_1fe94_level0_row13\" class=\"row_heading level0 row13\" >13</th>\n",
       "      <td id=\"T_1fe94_row13_col0\" class=\"data row13 col0\" >CPU Jobs</td>\n",
       "      <td id=\"T_1fe94_row13_col1\" class=\"data row13 col1\" >-1</td>\n",
       "    </tr>\n",
       "    <tr>\n",
       "      <th id=\"T_1fe94_level0_row14\" class=\"row_heading level0 row14\" >14</th>\n",
       "      <td id=\"T_1fe94_row14_col0\" class=\"data row14 col0\" >Use GPU</td>\n",
       "      <td id=\"T_1fe94_row14_col1\" class=\"data row14 col1\" >False</td>\n",
       "    </tr>\n",
       "    <tr>\n",
       "      <th id=\"T_1fe94_level0_row15\" class=\"row_heading level0 row15\" >15</th>\n",
       "      <td id=\"T_1fe94_row15_col0\" class=\"data row15 col0\" >Log Experiment</td>\n",
       "      <td id=\"T_1fe94_row15_col1\" class=\"data row15 col1\" >False</td>\n",
       "    </tr>\n",
       "    <tr>\n",
       "      <th id=\"T_1fe94_level0_row16\" class=\"row_heading level0 row16\" >16</th>\n",
       "      <td id=\"T_1fe94_row16_col0\" class=\"data row16 col0\" >Experiment Name</td>\n",
       "      <td id=\"T_1fe94_row16_col1\" class=\"data row16 col1\" >reg-default-name</td>\n",
       "    </tr>\n",
       "    <tr>\n",
       "      <th id=\"T_1fe94_level0_row17\" class=\"row_heading level0 row17\" >17</th>\n",
       "      <td id=\"T_1fe94_row17_col0\" class=\"data row17 col0\" >USI</td>\n",
       "      <td id=\"T_1fe94_row17_col1\" class=\"data row17 col1\" >f0a1</td>\n",
       "    </tr>\n",
       "  </tbody>\n",
       "</table>\n"
      ],
      "text/plain": [
       "<pandas.io.formats.style.Styler at 0x7f1222e25f90>"
      ]
     },
     "metadata": {},
     "output_type": "display_data"
    },
    {
     "data": {
      "text/html": [],
      "text/plain": [
       "<IPython.core.display.HTML object>"
      ]
     },
     "metadata": {},
     "output_type": "display_data"
    },
    {
     "data": {
      "text/html": [
       "<style type=\"text/css\">\n",
       "#T_2ded4 th {\n",
       "  text-align: left;\n",
       "}\n",
       "#T_2ded4_row0_col0, #T_2ded4_row1_col0, #T_2ded4_row1_col1, #T_2ded4_row1_col2, #T_2ded4_row1_col3, #T_2ded4_row1_col4, #T_2ded4_row1_col5, #T_2ded4_row1_col6, #T_2ded4_row2_col0, #T_2ded4_row2_col1, #T_2ded4_row2_col2, #T_2ded4_row2_col3, #T_2ded4_row2_col4, #T_2ded4_row2_col5, #T_2ded4_row2_col6, #T_2ded4_row3_col0, #T_2ded4_row3_col1, #T_2ded4_row3_col2, #T_2ded4_row3_col3, #T_2ded4_row3_col4, #T_2ded4_row3_col5, #T_2ded4_row3_col6, #T_2ded4_row4_col0, #T_2ded4_row4_col1, #T_2ded4_row4_col2, #T_2ded4_row4_col3, #T_2ded4_row4_col4, #T_2ded4_row4_col5, #T_2ded4_row4_col6, #T_2ded4_row5_col0, #T_2ded4_row5_col1, #T_2ded4_row5_col2, #T_2ded4_row5_col3, #T_2ded4_row5_col4, #T_2ded4_row5_col5, #T_2ded4_row5_col6, #T_2ded4_row6_col0, #T_2ded4_row6_col1, #T_2ded4_row6_col2, #T_2ded4_row6_col3, #T_2ded4_row6_col4, #T_2ded4_row6_col5, #T_2ded4_row6_col6, #T_2ded4_row7_col0, #T_2ded4_row7_col1, #T_2ded4_row7_col2, #T_2ded4_row7_col3, #T_2ded4_row7_col4, #T_2ded4_row7_col5, #T_2ded4_row7_col6, #T_2ded4_row8_col0, #T_2ded4_row8_col1, #T_2ded4_row8_col2, #T_2ded4_row8_col3, #T_2ded4_row8_col4, #T_2ded4_row8_col5, #T_2ded4_row8_col6, #T_2ded4_row9_col0, #T_2ded4_row9_col1, #T_2ded4_row9_col2, #T_2ded4_row9_col3, #T_2ded4_row9_col4, #T_2ded4_row9_col5, #T_2ded4_row9_col6, #T_2ded4_row10_col0, #T_2ded4_row10_col1, #T_2ded4_row10_col2, #T_2ded4_row10_col3, #T_2ded4_row10_col4, #T_2ded4_row10_col5, #T_2ded4_row10_col6, #T_2ded4_row11_col0, #T_2ded4_row11_col1, #T_2ded4_row11_col2, #T_2ded4_row11_col3, #T_2ded4_row11_col4, #T_2ded4_row11_col5, #T_2ded4_row11_col6, #T_2ded4_row12_col0, #T_2ded4_row12_col1, #T_2ded4_row12_col2, #T_2ded4_row12_col3, #T_2ded4_row12_col4, #T_2ded4_row12_col5, #T_2ded4_row12_col6, #T_2ded4_row13_col0, #T_2ded4_row13_col1, #T_2ded4_row13_col2, #T_2ded4_row13_col3, #T_2ded4_row13_col4, #T_2ded4_row13_col5, #T_2ded4_row13_col6, #T_2ded4_row14_col0, #T_2ded4_row14_col1, #T_2ded4_row14_col2, #T_2ded4_row14_col3, #T_2ded4_row14_col4, #T_2ded4_row14_col5, #T_2ded4_row14_col6, #T_2ded4_row15_col0, #T_2ded4_row15_col1, #T_2ded4_row15_col2, #T_2ded4_row15_col3, #T_2ded4_row15_col4, #T_2ded4_row15_col5, #T_2ded4_row15_col6, #T_2ded4_row16_col0, #T_2ded4_row16_col1, #T_2ded4_row16_col2, #T_2ded4_row16_col3, #T_2ded4_row16_col4, #T_2ded4_row16_col5, #T_2ded4_row16_col6, #T_2ded4_row17_col0, #T_2ded4_row17_col1, #T_2ded4_row17_col2, #T_2ded4_row17_col3, #T_2ded4_row17_col4, #T_2ded4_row17_col5, #T_2ded4_row17_col6, #T_2ded4_row18_col0, #T_2ded4_row18_col1, #T_2ded4_row18_col2, #T_2ded4_row18_col3, #T_2ded4_row18_col4, #T_2ded4_row18_col5, #T_2ded4_row18_col6 {\n",
       "  text-align: left;\n",
       "}\n",
       "#T_2ded4_row0_col1, #T_2ded4_row0_col2, #T_2ded4_row0_col3, #T_2ded4_row0_col4, #T_2ded4_row0_col5, #T_2ded4_row0_col6 {\n",
       "  text-align: left;\n",
       "  background-color: yellow;\n",
       "}\n",
       "#T_2ded4_row0_col7, #T_2ded4_row1_col7, #T_2ded4_row2_col7, #T_2ded4_row3_col7, #T_2ded4_row4_col7, #T_2ded4_row5_col7, #T_2ded4_row6_col7, #T_2ded4_row7_col7, #T_2ded4_row8_col7, #T_2ded4_row9_col7, #T_2ded4_row10_col7, #T_2ded4_row11_col7, #T_2ded4_row12_col7, #T_2ded4_row13_col7, #T_2ded4_row14_col7, #T_2ded4_row15_col7, #T_2ded4_row17_col7, #T_2ded4_row18_col7 {\n",
       "  text-align: left;\n",
       "  background-color: lightgrey;\n",
       "}\n",
       "#T_2ded4_row16_col7 {\n",
       "  text-align: left;\n",
       "  background-color: yellow;\n",
       "  background-color: lightgrey;\n",
       "}\n",
       "</style>\n",
       "<table id=\"T_2ded4\">\n",
       "  <thead>\n",
       "    <tr>\n",
       "      <th class=\"blank level0\" >&nbsp;</th>\n",
       "      <th id=\"T_2ded4_level0_col0\" class=\"col_heading level0 col0\" >Model</th>\n",
       "      <th id=\"T_2ded4_level0_col1\" class=\"col_heading level0 col1\" >MAE</th>\n",
       "      <th id=\"T_2ded4_level0_col2\" class=\"col_heading level0 col2\" >MSE</th>\n",
       "      <th id=\"T_2ded4_level0_col3\" class=\"col_heading level0 col3\" >RMSE</th>\n",
       "      <th id=\"T_2ded4_level0_col4\" class=\"col_heading level0 col4\" >R2</th>\n",
       "      <th id=\"T_2ded4_level0_col5\" class=\"col_heading level0 col5\" >RMSLE</th>\n",
       "      <th id=\"T_2ded4_level0_col6\" class=\"col_heading level0 col6\" >MAPE</th>\n",
       "      <th id=\"T_2ded4_level0_col7\" class=\"col_heading level0 col7\" >TT (Sec)</th>\n",
       "    </tr>\n",
       "  </thead>\n",
       "  <tbody>\n",
       "    <tr>\n",
       "      <th id=\"T_2ded4_level0_row0\" class=\"row_heading level0 row0\" >gbr</th>\n",
       "      <td id=\"T_2ded4_row0_col0\" class=\"data row0 col0\" >Gradient Boosting Regressor</td>\n",
       "      <td id=\"T_2ded4_row0_col1\" class=\"data row0 col1\" >16557.8336</td>\n",
       "      <td id=\"T_2ded4_row0_col2\" class=\"data row0 col2\" >790216771.9162</td>\n",
       "      <td id=\"T_2ded4_row0_col3\" class=\"data row0 col3\" >27436.1588</td>\n",
       "      <td id=\"T_2ded4_row0_col4\" class=\"data row0 col4\" >0.8778</td>\n",
       "      <td id=\"T_2ded4_row0_col5\" class=\"data row0 col5\" >0.1280</td>\n",
       "      <td id=\"T_2ded4_row0_col6\" class=\"data row0 col6\" >0.0934</td>\n",
       "      <td id=\"T_2ded4_row0_col7\" class=\"data row0 col7\" >0.1150</td>\n",
       "    </tr>\n",
       "    <tr>\n",
       "      <th id=\"T_2ded4_level0_row1\" class=\"row_heading level0 row1\" >et</th>\n",
       "      <td id=\"T_2ded4_row1_col0\" class=\"data row1 col0\" >Extra Trees Regressor</td>\n",
       "      <td id=\"T_2ded4_row1_col1\" class=\"data row1 col1\" >16899.4082</td>\n",
       "      <td id=\"T_2ded4_row1_col2\" class=\"data row1 col2\" >834884051.4588</td>\n",
       "      <td id=\"T_2ded4_row1_col3\" class=\"data row1 col3\" >28001.2050</td>\n",
       "      <td id=\"T_2ded4_row1_col4\" class=\"data row1 col4\" >0.8715</td>\n",
       "      <td id=\"T_2ded4_row1_col5\" class=\"data row1 col5\" >0.1349</td>\n",
       "      <td id=\"T_2ded4_row1_col6\" class=\"data row1 col6\" >0.0978</td>\n",
       "      <td id=\"T_2ded4_row1_col7\" class=\"data row1 col7\" >0.2550</td>\n",
       "    </tr>\n",
       "    <tr>\n",
       "      <th id=\"T_2ded4_level0_row2\" class=\"row_heading level0 row2\" >lightgbm</th>\n",
       "      <td id=\"T_2ded4_row2_col0\" class=\"data row2 col0\" >Light Gradient Boosting Machine</td>\n",
       "      <td id=\"T_2ded4_row2_col1\" class=\"data row2 col1\" >17290.5537</td>\n",
       "      <td id=\"T_2ded4_row2_col2\" class=\"data row2 col2\" >902065360.3435</td>\n",
       "      <td id=\"T_2ded4_row2_col3\" class=\"data row2 col3\" >29277.8978</td>\n",
       "      <td id=\"T_2ded4_row2_col4\" class=\"data row2 col4\" >0.8606</td>\n",
       "      <td id=\"T_2ded4_row2_col5\" class=\"data row2 col5\" >0.1338</td>\n",
       "      <td id=\"T_2ded4_row2_col6\" class=\"data row2 col6\" >0.0966</td>\n",
       "      <td id=\"T_2ded4_row2_col7\" class=\"data row2 col7\" >0.0390</td>\n",
       "    </tr>\n",
       "    <tr>\n",
       "      <th id=\"T_2ded4_level0_row3\" class=\"row_heading level0 row3\" >rf</th>\n",
       "      <td id=\"T_2ded4_row3_col0\" class=\"data row3 col0\" >Random Forest Regressor</td>\n",
       "      <td id=\"T_2ded4_row3_col1\" class=\"data row3 col1\" >17900.6856</td>\n",
       "      <td id=\"T_2ded4_row3_col2\" class=\"data row3 col2\" >975283486.4985</td>\n",
       "      <td id=\"T_2ded4_row3_col3\" class=\"data row3 col3\" >30303.8800</td>\n",
       "      <td id=\"T_2ded4_row3_col4\" class=\"data row3 col4\" >0.8515</td>\n",
       "      <td id=\"T_2ded4_row3_col5\" class=\"data row3 col5\" >0.1422</td>\n",
       "      <td id=\"T_2ded4_row3_col6\" class=\"data row3 col6\" >0.1034</td>\n",
       "      <td id=\"T_2ded4_row3_col7\" class=\"data row3 col7\" >0.2570</td>\n",
       "    </tr>\n",
       "    <tr>\n",
       "      <th id=\"T_2ded4_level0_row4\" class=\"row_heading level0 row4\" >xgboost</th>\n",
       "      <td id=\"T_2ded4_row4_col0\" class=\"data row4 col0\" >Extreme Gradient Boosting</td>\n",
       "      <td id=\"T_2ded4_row4_col1\" class=\"data row4 col1\" >18572.4902</td>\n",
       "      <td id=\"T_2ded4_row4_col2\" class=\"data row4 col2\" >1233964108.8000</td>\n",
       "      <td id=\"T_2ded4_row4_col3\" class=\"data row4 col3\" >33460.3350</td>\n",
       "      <td id=\"T_2ded4_row4_col4\" class=\"data row4 col4\" >0.8142</td>\n",
       "      <td id=\"T_2ded4_row4_col5\" class=\"data row4 col5\" >0.1451</td>\n",
       "      <td id=\"T_2ded4_row4_col6\" class=\"data row4 col6\" >0.1027</td>\n",
       "      <td id=\"T_2ded4_row4_col7\" class=\"data row4 col7\" >0.1840</td>\n",
       "    </tr>\n",
       "    <tr>\n",
       "      <th id=\"T_2ded4_level0_row5\" class=\"row_heading level0 row5\" >ada</th>\n",
       "      <td id=\"T_2ded4_row5_col0\" class=\"data row5 col0\" >AdaBoost Regressor</td>\n",
       "      <td id=\"T_2ded4_row5_col1\" class=\"data row5 col1\" >23209.4467</td>\n",
       "      <td id=\"T_2ded4_row5_col2\" class=\"data row5 col2\" >1213493802.9275</td>\n",
       "      <td id=\"T_2ded4_row5_col3\" class=\"data row5 col3\" >34285.4394</td>\n",
       "      <td id=\"T_2ded4_row5_col4\" class=\"data row5 col4\" >0.8123</td>\n",
       "      <td id=\"T_2ded4_row5_col5\" class=\"data row5 col5\" >0.1854</td>\n",
       "      <td id=\"T_2ded4_row5_col6\" class=\"data row5 col6\" >0.1469</td>\n",
       "      <td id=\"T_2ded4_row5_col7\" class=\"data row5 col7\" >0.0700</td>\n",
       "    </tr>\n",
       "    <tr>\n",
       "      <th id=\"T_2ded4_level0_row6\" class=\"row_heading level0 row6\" >llar</th>\n",
       "      <td id=\"T_2ded4_row6_col0\" class=\"data row6 col0\" >Lasso Least Angle Regression</td>\n",
       "      <td id=\"T_2ded4_row6_col1\" class=\"data row6 col1\" >19673.7971</td>\n",
       "      <td id=\"T_2ded4_row6_col2\" class=\"data row6 col2\" >1453952761.2649</td>\n",
       "      <td id=\"T_2ded4_row6_col3\" class=\"data row6 col3\" >35119.1521</td>\n",
       "      <td id=\"T_2ded4_row6_col4\" class=\"data row6 col4\" >0.7751</td>\n",
       "      <td id=\"T_2ded4_row6_col5\" class=\"data row6 col5\" >0.1843</td>\n",
       "      <td id=\"T_2ded4_row6_col6\" class=\"data row6 col6\" >0.1153</td>\n",
       "      <td id=\"T_2ded4_row6_col7\" class=\"data row6 col7\" >0.0150</td>\n",
       "    </tr>\n",
       "    <tr>\n",
       "      <th id=\"T_2ded4_level0_row7\" class=\"row_heading level0 row7\" >dt</th>\n",
       "      <td id=\"T_2ded4_row7_col0\" class=\"data row7 col0\" >Decision Tree Regressor</td>\n",
       "      <td id=\"T_2ded4_row7_col1\" class=\"data row7 col1\" >25720.0136</td>\n",
       "      <td id=\"T_2ded4_row7_col2\" class=\"data row7 col2\" >1523822411.5928</td>\n",
       "      <td id=\"T_2ded4_row7_col3\" class=\"data row7 col3\" >38453.3251</td>\n",
       "      <td id=\"T_2ded4_row7_col4\" class=\"data row7 col4\" >0.7581</td>\n",
       "      <td id=\"T_2ded4_row7_col5\" class=\"data row7 col5\" >0.1964</td>\n",
       "      <td id=\"T_2ded4_row7_col6\" class=\"data row7 col6\" >0.1457</td>\n",
       "      <td id=\"T_2ded4_row7_col7\" class=\"data row7 col7\" >0.0120</td>\n",
       "    </tr>\n",
       "    <tr>\n",
       "      <th id=\"T_2ded4_level0_row8\" class=\"row_heading level0 row8\" >omp</th>\n",
       "      <td id=\"T_2ded4_row8_col0\" class=\"data row8 col0\" >Orthogonal Matching Pursuit</td>\n",
       "      <td id=\"T_2ded4_row8_col1\" class=\"data row8 col1\" >20923.5807</td>\n",
       "      <td id=\"T_2ded4_row8_col2\" class=\"data row8 col2\" >1615087778.1012</td>\n",
       "      <td id=\"T_2ded4_row8_col3\" class=\"data row8 col3\" >37121.1498</td>\n",
       "      <td id=\"T_2ded4_row8_col4\" class=\"data row8 col4\" >0.7514</td>\n",
       "      <td id=\"T_2ded4_row8_col5\" class=\"data row8 col5\" >0.1963</td>\n",
       "      <td id=\"T_2ded4_row8_col6\" class=\"data row8 col6\" >0.1223</td>\n",
       "      <td id=\"T_2ded4_row8_col7\" class=\"data row8 col7\" >0.0090</td>\n",
       "    </tr>\n",
       "    <tr>\n",
       "      <th id=\"T_2ded4_level0_row9\" class=\"row_heading level0 row9\" >ridge</th>\n",
       "      <td id=\"T_2ded4_row9_col0\" class=\"data row9 col0\" >Ridge Regression</td>\n",
       "      <td id=\"T_2ded4_row9_col1\" class=\"data row9 col1\" >21738.6971</td>\n",
       "      <td id=\"T_2ded4_row9_col2\" class=\"data row9 col2\" >1697235036.2458</td>\n",
       "      <td id=\"T_2ded4_row9_col3\" class=\"data row9 col3\" >38285.8815</td>\n",
       "      <td id=\"T_2ded4_row9_col4\" class=\"data row9 col4\" >0.7500</td>\n",
       "      <td id=\"T_2ded4_row9_col5\" class=\"data row9 col5\" >0.2086</td>\n",
       "      <td id=\"T_2ded4_row9_col6\" class=\"data row9 col6\" >0.1289</td>\n",
       "      <td id=\"T_2ded4_row9_col7\" class=\"data row9 col7\" >0.0090</td>\n",
       "    </tr>\n",
       "    <tr>\n",
       "      <th id=\"T_2ded4_level0_row10\" class=\"row_heading level0 row10\" >en</th>\n",
       "      <td id=\"T_2ded4_row10_col0\" class=\"data row10 col0\" >Elastic Net</td>\n",
       "      <td id=\"T_2ded4_row10_col1\" class=\"data row10 col1\" >21145.8338</td>\n",
       "      <td id=\"T_2ded4_row10_col2\" class=\"data row10 col2\" >1828177561.9643</td>\n",
       "      <td id=\"T_2ded4_row10_col3\" class=\"data row10 col3\" >39306.3819</td>\n",
       "      <td id=\"T_2ded4_row10_col4\" class=\"data row10 col4\" >0.7335</td>\n",
       "      <td id=\"T_2ded4_row10_col5\" class=\"data row10 col5\" >0.1824</td>\n",
       "      <td id=\"T_2ded4_row10_col6\" class=\"data row10 col6\" >0.1188</td>\n",
       "      <td id=\"T_2ded4_row10_col7\" class=\"data row10 col7\" >0.0550</td>\n",
       "    </tr>\n",
       "    <tr>\n",
       "      <th id=\"T_2ded4_level0_row11\" class=\"row_heading level0 row11\" >lasso</th>\n",
       "      <td id=\"T_2ded4_row11_col0\" class=\"data row11 col0\" >Lasso Regression</td>\n",
       "      <td id=\"T_2ded4_row11_col1\" class=\"data row11 col1\" >21389.5763</td>\n",
       "      <td id=\"T_2ded4_row11_col2\" class=\"data row11 col2\" >1745276410.5301</td>\n",
       "      <td id=\"T_2ded4_row11_col3\" class=\"data row11 col3\" >38516.3743</td>\n",
       "      <td id=\"T_2ded4_row11_col4\" class=\"data row11 col4\" >0.7280</td>\n",
       "      <td id=\"T_2ded4_row11_col5\" class=\"data row11 col5\" >0.2091</td>\n",
       "      <td id=\"T_2ded4_row11_col6\" class=\"data row11 col6\" >0.1267</td>\n",
       "      <td id=\"T_2ded4_row11_col7\" class=\"data row11 col7\" >0.0530</td>\n",
       "    </tr>\n",
       "    <tr>\n",
       "      <th id=\"T_2ded4_level0_row12\" class=\"row_heading level0 row12\" >huber</th>\n",
       "      <td id=\"T_2ded4_row12_col0\" class=\"data row12 col0\" >Huber Regressor</td>\n",
       "      <td id=\"T_2ded4_row12_col1\" class=\"data row12 col1\" >26883.7682</td>\n",
       "      <td id=\"T_2ded4_row12_col2\" class=\"data row12 col2\" >2093168790.4169</td>\n",
       "      <td id=\"T_2ded4_row12_col3\" class=\"data row12 col3\" >43860.1210</td>\n",
       "      <td id=\"T_2ded4_row12_col4\" class=\"data row12 col4\" >0.6815</td>\n",
       "      <td id=\"T_2ded4_row12_col5\" class=\"data row12 col5\" >0.2058</td>\n",
       "      <td id=\"T_2ded4_row12_col6\" class=\"data row12 col6\" >0.1548</td>\n",
       "      <td id=\"T_2ded4_row12_col7\" class=\"data row12 col7\" >0.0480</td>\n",
       "    </tr>\n",
       "    <tr>\n",
       "      <th id=\"T_2ded4_level0_row13\" class=\"row_heading level0 row13\" >knn</th>\n",
       "      <td id=\"T_2ded4_row13_col0\" class=\"data row13 col0\" >K Neighbors Regressor</td>\n",
       "      <td id=\"T_2ded4_row13_col1\" class=\"data row13 col1\" >28945.4869</td>\n",
       "      <td id=\"T_2ded4_row13_col2\" class=\"data row13 col2\" >2058547667.2000</td>\n",
       "      <td id=\"T_2ded4_row13_col3\" class=\"data row13 col3\" >44668.8557</td>\n",
       "      <td id=\"T_2ded4_row13_col4\" class=\"data row13 col4\" >0.6804</td>\n",
       "      <td id=\"T_2ded4_row13_col5\" class=\"data row13 col5\" >0.2188</td>\n",
       "      <td id=\"T_2ded4_row13_col6\" class=\"data row13 col6\" >0.1673</td>\n",
       "      <td id=\"T_2ded4_row13_col7\" class=\"data row13 col7\" >0.0090</td>\n",
       "    </tr>\n",
       "    <tr>\n",
       "      <th id=\"T_2ded4_level0_row14\" class=\"row_heading level0 row14\" >br</th>\n",
       "      <td id=\"T_2ded4_row14_col0\" class=\"data row14 col0\" >Bayesian Ridge</td>\n",
       "      <td id=\"T_2ded4_row14_col1\" class=\"data row14 col1\" >25944.7341</td>\n",
       "      <td id=\"T_2ded4_row14_col2\" class=\"data row14 col2\" >2353472256.9208</td>\n",
       "      <td id=\"T_2ded4_row14_col3\" class=\"data row14 col3\" >45420.7348</td>\n",
       "      <td id=\"T_2ded4_row14_col4\" class=\"data row14 col4\" >0.6516</td>\n",
       "      <td id=\"T_2ded4_row14_col5\" class=\"data row14 col5\" >0.2167</td>\n",
       "      <td id=\"T_2ded4_row14_col6\" class=\"data row14 col6\" >0.1478</td>\n",
       "      <td id=\"T_2ded4_row14_col7\" class=\"data row14 col7\" >0.0150</td>\n",
       "    </tr>\n",
       "    <tr>\n",
       "      <th id=\"T_2ded4_level0_row15\" class=\"row_heading level0 row15\" >par</th>\n",
       "      <td id=\"T_2ded4_row15_col0\" class=\"data row15 col0\" >Passive Aggressive Regressor</td>\n",
       "      <td id=\"T_2ded4_row15_col1\" class=\"data row15 col1\" >35142.7823</td>\n",
       "      <td id=\"T_2ded4_row15_col2\" class=\"data row15 col2\" >3676131293.8102</td>\n",
       "      <td id=\"T_2ded4_row15_col3\" class=\"data row15 col3\" >58220.2872</td>\n",
       "      <td id=\"T_2ded4_row15_col4\" class=\"data row15 col4\" >0.4138</td>\n",
       "      <td id=\"T_2ded4_row15_col5\" class=\"data row15 col5\" >0.2552</td>\n",
       "      <td id=\"T_2ded4_row15_col6\" class=\"data row15 col6\" >0.2104</td>\n",
       "      <td id=\"T_2ded4_row15_col7\" class=\"data row15 col7\" >0.0100</td>\n",
       "    </tr>\n",
       "    <tr>\n",
       "      <th id=\"T_2ded4_level0_row16\" class=\"row_heading level0 row16\" >dummy</th>\n",
       "      <td id=\"T_2ded4_row16_col0\" class=\"data row16 col0\" >Dummy Regressor</td>\n",
       "      <td id=\"T_2ded4_row16_col1\" class=\"data row16 col1\" >58264.0629</td>\n",
       "      <td id=\"T_2ded4_row16_col2\" class=\"data row16 col2\" >6441647360.0000</td>\n",
       "      <td id=\"T_2ded4_row16_col3\" class=\"data row16 col3\" >79848.9719</td>\n",
       "      <td id=\"T_2ded4_row16_col4\" class=\"data row16 col4\" >-0.0147</td>\n",
       "      <td id=\"T_2ded4_row16_col5\" class=\"data row16 col5\" >0.4085</td>\n",
       "      <td id=\"T_2ded4_row16_col6\" class=\"data row16 col6\" >0.3647</td>\n",
       "      <td id=\"T_2ded4_row16_col7\" class=\"data row16 col7\" >0.0070</td>\n",
       "    </tr>\n",
       "    <tr>\n",
       "      <th id=\"T_2ded4_level0_row17\" class=\"row_heading level0 row17\" >lr</th>\n",
       "      <td id=\"T_2ded4_row17_col0\" class=\"data row17 col0\" >Linear Regression</td>\n",
       "      <td id=\"T_2ded4_row17_col1\" class=\"data row17 col1\" >2044248.7855</td>\n",
       "      <td id=\"T_2ded4_row17_col2\" class=\"data row17 col2\" >1234950381617714.0000</td>\n",
       "      <td id=\"T_2ded4_row17_col3\" class=\"data row17 col3\" >14938216.7587</td>\n",
       "      <td id=\"T_2ded4_row17_col4\" class=\"data row17 col4\" >-172022.3333</td>\n",
       "      <td id=\"T_2ded4_row17_col5\" class=\"data row17 col5\" >0.4457</td>\n",
       "      <td id=\"T_2ded4_row17_col6\" class=\"data row17 col6\" >20.5786</td>\n",
       "      <td id=\"T_2ded4_row17_col7\" class=\"data row17 col7\" >0.1580</td>\n",
       "    </tr>\n",
       "    <tr>\n",
       "      <th id=\"T_2ded4_level0_row18\" class=\"row_heading level0 row18\" >lar</th>\n",
       "      <td id=\"T_2ded4_row18_col0\" class=\"data row18 col0\" >Least Angle Regression</td>\n",
       "      <td id=\"T_2ded4_row18_col1\" class=\"data row18 col1\" >41317287374693084697861459804160.0000</td>\n",
       "      <td id=\"T_2ded4_row18_col2\" class=\"data row18 col2\" >1709170840779387531635652429470696852824034405166218357722708967424.0000</td>\n",
       "      <td id=\"T_2ded4_row18_col3\" class=\"data row18 col3\" >417234657933233696567278411186176.0000</td>\n",
       "      <td id=\"T_2ded4_row18_col4\" class=\"data row18 col4\" >-229428766564287072656292562301529499233516949121653538816.0000</td>\n",
       "      <td id=\"T_2ded4_row18_col5\" class=\"data row18 col5\" >28.4895</td>\n",
       "      <td id=\"T_2ded4_row18_col6\" class=\"data row18 col6\" >219568380193842134100475904.0000</td>\n",
       "      <td id=\"T_2ded4_row18_col7\" class=\"data row18 col7\" >0.0220</td>\n",
       "    </tr>\n",
       "  </tbody>\n",
       "</table>\n"
      ],
      "text/plain": [
       "<pandas.io.formats.style.Styler at 0x7f129456bd60>"
      ]
     },
     "metadata": {},
     "output_type": "display_data"
    },
    {
     "data": {
      "text/html": [],
      "text/plain": [
       "<IPython.core.display.HTML object>"
      ]
     },
     "metadata": {},
     "output_type": "display_data"
    }
   ],
   "source": [
    "s = setup(data=(pd.concat((X_train, y_train), axis=1)), target='SalePrice')\n",
    "best = compare_models()"
   ]
  },
  {
   "cell_type": "code",
   "execution_count": 53,
   "metadata": {},
   "outputs": [],
   "source": [
    "models = {\n",
    "    \"gbr\": GradientBoostingRegressor(n_estimators=2*n, max_depth=3),\n",
    "    \"rf\": RandomForestRegressor(),\n",
    "    \"xgb\": XGBRegressor(),\n",
    "    \"lgbm\": LGBMRegressor(),\n",
    "    \"et\": ExtraTreesRegressor(),\n",
    "#     \"br\": BayesianRidge(),\n",
    "#     \"omp\": OrthogonalMatchingPursuit(),\n",
    "}"
   ]
  },
  {
   "cell_type": "code",
   "execution_count": 57,
   "metadata": {},
   "outputs": [],
   "source": [
    "results = {}\n",
    "for name, model in models.items():\n",
    "    result = cross_val_score(model, \n",
    "                            X_train, \n",
    "                            y_train, \n",
    "                            scoring=\"neg_mean_squared_error\",\n",
    "                            cv=KFold(n_splits=7))\n",
    "    results[name] = -result"
   ]
  },
  {
   "cell_type": "code",
   "execution_count": 61,
   "metadata": {},
   "outputs": [
    {
     "name": "stdout",
     "output_type": "stream",
     "text": [
      "gbr: 621700623.66867\n",
      "rf: 844384618.01942\n",
      "xgb: 772447499.74578\n",
      "lgbm: 851821250.65051\n",
      "et: 816485581.18209\n",
      "['gbr', 'xgb', 'et', 'rf', 'lgbm']\n"
     ]
    }
   ],
   "source": [
    "means = []\n",
    "for name, result in results.items():\n",
    "    means.append(result.mean())\n",
    "    print(f\"{name}: {result.mean():.5f}\")\n",
    "top_models = [name for _,name in sorted(zip(means, models.keys()))]\n",
    "print(top_models)"
   ]
  },
  {
   "cell_type": "markdown",
   "metadata": {},
   "source": [
    "# Combine models"
   ]
  },
  {
   "cell_type": "code",
   "execution_count": 64,
   "metadata": {},
   "outputs": [],
   "source": [
    "n_models = len(top_models)\n",
    "pred = np.zeros(X_test.shape[0])\n",
    "for model in top_model[:n_models]:\n",
    "    models[model].fit(X_train, y_train)\n",
    "    pred += models[model].predict(X_test) / n_models"
   ]
  },
  {
   "cell_type": "markdown",
   "metadata": {},
   "source": [
    "# Training - XGB with Best Parameters"
   ]
  },
  {
   "cell_type": "code",
   "execution_count": null,
   "metadata": {},
   "outputs": [],
   "source": [
    "# model = XGBRegressor(n_jobs=multiprocessing.cpu_count() // 2, eval_metric=mean_squared_error, **clf.best_params_)\n",
    "# model.fit(X_train, y_train)"
   ]
  },
  {
   "cell_type": "code",
   "execution_count": 65,
   "metadata": {},
   "outputs": [],
   "source": [
    "sub_name = \"data/ensemble0.csv\"\n",
    "pd.DataFrame(pred, \n",
    "            index=range(1461, len(df)+1), \n",
    "            columns=['SalePrice']).reset_index().\\\n",
    "            rename(columns={'index': 'id'}).to_csv(sub_name, index=False)"
   ]
  },
  {
   "cell_type": "code",
   "execution_count": null,
   "metadata": {},
   "outputs": [],
   "source": []
  }
 ],
 "metadata": {
  "kernelspec": {
   "display_name": "Python 3 (ipykernel)",
   "language": "python",
   "name": "python3"
  },
  "language_info": {
   "codemirror_mode": {
    "name": "ipython",
    "version": 3
   },
   "file_extension": ".py",
   "mimetype": "text/x-python",
   "name": "python",
   "nbconvert_exporter": "python",
   "pygments_lexer": "ipython3",
   "version": "3.10.5"
  }
 },
 "nbformat": 4,
 "nbformat_minor": 4
}
