{
 "cells": [
  {
   "cell_type": "code",
   "execution_count": null,
   "metadata": {
    "execution": {
     "iopub.execute_input": "2022-07-19T03:12:52.647224Z",
     "iopub.status.busy": "2022-07-19T03:12:52.646739Z",
     "iopub.status.idle": "2022-07-19T03:12:52.654305Z",
     "shell.execute_reply": "2022-07-19T03:12:52.653328Z",
     "shell.execute_reply.started": "2022-07-19T03:12:52.647184Z"
    }
   },
   "outputs": [],
   "source": [
    "from sklearn.preprocessing import OrdinalEncoder\n",
    "from sklearn.model_selection import GridSearchCV\n",
    "from pycaret.regression import setup, compare_models\n",
    "import matplotlib.pyplot as plt\n",
    "import seaborn as sns\n",
    "import numpy as np\n",
    "import pandas as pd"
   ]
  },
  {
   "cell_type": "code",
   "execution_count": null,
   "metadata": {
    "execution": {
     "iopub.execute_input": "2022-07-19T01:27:29.845141Z",
     "iopub.status.busy": "2022-07-19T01:27:29.844734Z",
     "iopub.status.idle": "2022-07-19T01:27:30.165473Z",
     "shell.execute_reply": "2022-07-19T01:27:30.164238Z",
     "shell.execute_reply.started": "2022-07-19T01:27:29.845110Z"
    }
   },
   "outputs": [],
   "source": [
    "from sklearn.ensemble import GradientBoostingRegressor, RandomForestRegressor, ExtraTreesRegressor\n",
    "from sklearn.linear_model import BayesianRidge, OrthogonalMatchingPursuit, LinearRegression, Lasso, Ridge\n",
    "from lightgbm import LGBMRegressor\n",
    "from catboost import CatBoostRegressor"
   ]
  },
  {
   "cell_type": "markdown",
   "metadata": {},
   "source": [
    "# Read train and test sets"
   ]
  },
  {
   "cell_type": "code",
   "execution_count": null,
   "metadata": {
    "execution": {
     "iopub.execute_input": "2022-07-19T00:15:46.484189Z",
     "iopub.status.busy": "2022-07-19T00:15:46.483718Z",
     "iopub.status.idle": "2022-07-19T00:15:46.544478Z",
     "shell.execute_reply": "2022-07-19T00:15:46.543427Z",
     "shell.execute_reply.started": "2022-07-19T00:15:46.484131Z"
    }
   },
   "outputs": [],
   "source": [
    "df_train = pd.read_csv(\"data/train.csv\")\n",
    "df_test = pd.read_csv(\"data/test.csv\")"
   ]
  },
  {
   "cell_type": "markdown",
   "metadata": {},
   "source": [
    "# Store both dfs lengths"
   ]
  },
  {
   "cell_type": "code",
   "execution_count": null,
   "metadata": {
    "execution": {
     "iopub.execute_input": "2022-07-19T00:15:46.546314Z",
     "iopub.status.busy": "2022-07-19T00:15:46.545792Z",
     "iopub.status.idle": "2022-07-19T00:15:46.554645Z",
     "shell.execute_reply": "2022-07-19T00:15:46.553392Z",
     "shell.execute_reply.started": "2022-07-19T00:15:46.546284Z"
    }
   },
   "outputs": [],
   "source": [
    "m_train = df_train.shape[0]\n",
    "m_test = df_test.shape[0]\n",
    "m_train, m_test"
   ]
  },
  {
   "cell_type": "markdown",
   "metadata": {},
   "source": [
    "# Concat the dfs"
   ]
  },
  {
   "cell_type": "code",
   "execution_count": null,
   "metadata": {
    "execution": {
     "iopub.execute_input": "2022-07-19T00:15:49.015711Z",
     "iopub.status.busy": "2022-07-19T00:15:49.015327Z",
     "iopub.status.idle": "2022-07-19T00:15:49.038720Z",
     "shell.execute_reply": "2022-07-19T00:15:49.037716Z",
     "shell.execute_reply.started": "2022-07-19T00:15:49.015682Z"
    }
   },
   "outputs": [],
   "source": [
    "df = pd.concat([df_train, df_test])\n",
    "assert df.shape[0] == m_train + m_test"
   ]
  },
  {
   "cell_type": "code",
   "execution_count": null,
   "metadata": {
    "execution": {
     "iopub.execute_input": "2022-07-19T00:15:49.426075Z",
     "iopub.status.busy": "2022-07-19T00:15:49.424898Z",
     "iopub.status.idle": "2022-07-19T00:15:49.459455Z",
     "shell.execute_reply": "2022-07-19T00:15:49.458148Z",
     "shell.execute_reply.started": "2022-07-19T00:15:49.426024Z"
    }
   },
   "outputs": [],
   "source": [
    "df.head()"
   ]
  },
  {
   "cell_type": "markdown",
   "metadata": {},
   "source": [
    "# Save target"
   ]
  },
  {
   "cell_type": "code",
   "execution_count": null,
   "metadata": {
    "execution": {
     "iopub.execute_input": "2022-07-19T00:15:51.965398Z",
     "iopub.status.busy": "2022-07-19T00:15:51.964094Z",
     "iopub.status.idle": "2022-07-19T00:15:51.970349Z",
     "shell.execute_reply": "2022-07-19T00:15:51.969234Z",
     "shell.execute_reply.started": "2022-07-19T00:15:51.965357Z"
    }
   },
   "outputs": [],
   "source": [
    "target_col, target = \"SalePrice\", df[\"SalePrice\"]"
   ]
  },
  {
   "cell_type": "markdown",
   "metadata": {},
   "source": [
    "#  Drop Id and target columns"
   ]
  },
  {
   "cell_type": "code",
   "execution_count": null,
   "metadata": {
    "execution": {
     "iopub.execute_input": "2022-07-19T00:15:54.481754Z",
     "iopub.status.busy": "2022-07-19T00:15:54.481279Z",
     "iopub.status.idle": "2022-07-19T00:15:54.496802Z",
     "shell.execute_reply": "2022-07-19T00:15:54.495657Z",
     "shell.execute_reply.started": "2022-07-19T00:15:54.481714Z"
    }
   },
   "outputs": [],
   "source": [
    "cols_to_drop = [\"Id\", target_col]\n",
    "df.drop(cols_to_drop, axis=1, inplace=True)"
   ]
  },
  {
   "cell_type": "markdown",
   "metadata": {},
   "source": [
    "# View and fix columns data-types"
   ]
  },
  {
   "cell_type": "code",
   "execution_count": null,
   "metadata": {
    "execution": {
     "iopub.execute_input": "2022-07-19T00:15:59.205756Z",
     "iopub.status.busy": "2022-07-19T00:15:59.205302Z",
     "iopub.status.idle": "2022-07-19T00:15:59.217083Z",
     "shell.execute_reply": "2022-07-19T00:15:59.216215Z",
     "shell.execute_reply.started": "2022-07-19T00:15:59.205723Z"
    }
   },
   "outputs": [],
   "source": [
    "df.select_dtypes(object).columns"
   ]
  },
  {
   "cell_type": "code",
   "execution_count": null,
   "metadata": {
    "execution": {
     "iopub.execute_input": "2022-07-19T00:15:59.419853Z",
     "iopub.status.busy": "2022-07-19T00:15:59.419413Z",
     "iopub.status.idle": "2022-07-19T00:15:59.429501Z",
     "shell.execute_reply": "2022-07-19T00:15:59.428693Z",
     "shell.execute_reply.started": "2022-07-19T00:15:59.419816Z"
    }
   },
   "outputs": [],
   "source": [
    "df.select_dtypes(np.number).columns"
   ]
  },
  {
   "cell_type": "code",
   "execution_count": null,
   "metadata": {
    "execution": {
     "iopub.execute_input": "2022-07-19T00:16:01.640213Z",
     "iopub.status.busy": "2022-07-19T00:16:01.639178Z",
     "iopub.status.idle": "2022-07-19T00:16:01.647811Z",
     "shell.execute_reply": "2022-07-19T00:16:01.646921Z",
     "shell.execute_reply.started": "2022-07-19T00:16:01.640142Z"
    }
   },
   "outputs": [],
   "source": [
    "num_to_obj_cols = ['MSSubClass', 'MoSold']\n",
    "df[num_to_obj_cols] = df[num_to_obj_cols].astype(object)"
   ]
  },
  {
   "cell_type": "code",
   "execution_count": null,
   "metadata": {
    "execution": {
     "iopub.execute_input": "2022-07-19T00:16:02.911467Z",
     "iopub.status.busy": "2022-07-19T00:16:02.910584Z",
     "iopub.status.idle": "2022-07-19T00:16:02.924249Z",
     "shell.execute_reply": "2022-07-19T00:16:02.923111Z",
     "shell.execute_reply.started": "2022-07-19T00:16:02.911420Z"
    }
   },
   "outputs": [],
   "source": [
    "cols_cat = df.select_dtypes(object).columns.to_list()\n",
    "cols_num = df.select_dtypes(np.number).columns.to_list()"
   ]
  },
  {
   "cell_type": "markdown",
   "metadata": {},
   "source": [
    "# Impute categorical columns"
   ]
  },
  {
   "cell_type": "code",
   "execution_count": null,
   "metadata": {
    "execution": {
     "iopub.execute_input": "2022-07-19T00:37:48.542054Z",
     "iopub.status.busy": "2022-07-19T00:37:48.541677Z",
     "iopub.status.idle": "2022-07-19T00:37:48.584083Z",
     "shell.execute_reply": "2022-07-19T00:37:48.582567Z",
     "shell.execute_reply.started": "2022-07-19T00:37:48.542023Z"
    }
   },
   "outputs": [],
   "source": [
    "cols_cat_na = df[cols_cat].isnull().sum()[df[cols_cat].isnull().sum() > 0]\n",
    "cols_cat_na"
   ]
  },
  {
   "cell_type": "code",
   "execution_count": null,
   "metadata": {
    "execution": {
     "iopub.execute_input": "2022-07-19T00:57:32.964932Z",
     "iopub.status.busy": "2022-07-19T00:57:32.964191Z",
     "iopub.status.idle": "2022-07-19T00:57:33.017991Z",
     "shell.execute_reply": "2022-07-19T00:57:33.016726Z",
     "shell.execute_reply.started": "2022-07-19T00:57:32.964876Z"
    }
   },
   "outputs": [],
   "source": [
    "mode_filled_cols = [\"MSZoning\", \"Utilities\", \"Exterior1st\", \"Exterior2nd\", \"MasVnrType\", \"Electrical\", \"KitchenQual\", \"Functional\", \"SaleType\"]\n",
    "for col in mode_filled_cols:\n",
    "    df[col].fillna(df[col].mode()[0], inplace=True)\n",
    "\n",
    "none_filled_cols = [\"Alley\", \"BsmtQual\", \"BsmtCond\", \"BsmtExposure\", \"BsmtFinType1\", \"BsmtFinType2\", \"FireplaceQu\", \"GarageType\", \"GarageFinish\", \"GarageQual\", \"GarageCond\", \"PoolQC\", \"Fence\", \"MiscFeature\"]\n",
    "for col in none_filled_cols:\n",
    "    df[col].fillna(\"None\", inplace=True)\n",
    "    \n",
    "df[cols_cat].isnull().sum().sum()"
   ]
  },
  {
   "cell_type": "markdown",
   "metadata": {},
   "source": [
    "# Change ordinal columns to numeric, and encode accordingly"
   ]
  },
  {
   "cell_type": "code",
   "execution_count": null,
   "metadata": {},
   "outputs": [],
   "source": [
    "df.select_dtypes(object).columns"
   ]
  },
  {
   "cell_type": "code",
   "execution_count": null,
   "metadata": {
    "execution": {
     "iopub.execute_input": "2022-07-19T03:17:32.447742Z",
     "iopub.status.busy": "2022-07-19T03:17:32.447320Z",
     "iopub.status.idle": "2022-07-19T03:17:32.464615Z",
     "shell.execute_reply": "2022-07-19T03:17:32.462931Z",
     "shell.execute_reply.started": "2022-07-19T03:17:32.447709Z"
    }
   },
   "outputs": [],
   "source": [
    "oe = OrdinalEncoder(categories=[['Reg', 'IR1', 'IR2', 'IR3']])\n",
    "df.loc[:, \"LotShape\"] = oe.fit_transform(df[[\"LotShape\"]])\n",
    "df[\"LotShape_sq\"] = df[\"LotShape\"] ** 2"
   ]
  },
  {
   "cell_type": "code",
   "execution_count": null,
   "metadata": {
    "execution": {
     "iopub.execute_input": "2022-07-19T03:20:29.852059Z",
     "iopub.status.busy": "2022-07-19T03:20:29.851558Z",
     "iopub.status.idle": "2022-07-19T03:20:29.871730Z",
     "shell.execute_reply": "2022-07-19T03:20:29.870540Z",
     "shell.execute_reply.started": "2022-07-19T03:20:29.852023Z"
    }
   },
   "outputs": [],
   "source": [
    "oe = OrdinalEncoder(categories=[['Gtl', 'Mod', 'Sev']])\n",
    "df.loc[:, \"LandSlope\"] = oe.fit_transform(df[[\"LandSlope\"]])\n",
    "df[\"LandSlope_sq\"] = df[\"LandSlope\"] ** 2"
   ]
  },
  {
   "cell_type": "code",
   "execution_count": null,
   "metadata": {
    "execution": {
     "iopub.execute_input": "2022-07-19T03:34:12.911770Z",
     "iopub.status.busy": "2022-07-19T03:34:12.911339Z",
     "iopub.status.idle": "2022-07-19T03:34:12.970775Z",
     "shell.execute_reply": "2022-07-19T03:34:12.969748Z",
     "shell.execute_reply.started": "2022-07-19T03:34:12.911738Z"
    }
   },
   "outputs": [],
   "source": [
    "qual_oe = OrdinalEncoder(categories=[['None', 'Po', 'Fa', 'TA', 'Gd', 'Ex']])\n",
    "for col in [\"ExterQual\", \"ExterCond\", 'BsmtQual', 'BsmtCond', 'HeatingQC', 'KitchenQual', 'FireplaceQu', 'GarageQual', 'GarageCond', 'PoolQC']:\n",
    "    df.loc[:, col] = qual_oe.fit_transform(df[[col]])\n",
    "    df[col + \"sq\"] = df[col] ** 2"
   ]
  },
  {
   "cell_type": "code",
   "execution_count": null,
   "metadata": {
    "execution": {
     "iopub.execute_input": "2022-07-19T03:34:24.578856Z",
     "iopub.status.busy": "2022-07-19T03:34:24.578377Z",
     "iopub.status.idle": "2022-07-19T03:34:24.596778Z",
     "shell.execute_reply": "2022-07-19T03:34:24.595581Z",
     "shell.execute_reply.started": "2022-07-19T03:34:24.578823Z"
    }
   },
   "outputs": [],
   "source": [
    "oe = OrdinalEncoder(categories=[['None', 'No', 'Mn', 'Av', 'Gd']])\n",
    "df.loc[:, \"BsmtExposure\"] = oe.fit_transform(df[[\"BsmtExposure\"]])\n",
    "df[\"BsmtExposure_sq\"] = df[\"BsmtExposure\"] ** 2"
   ]
  },
  {
   "cell_type": "code",
   "execution_count": null,
   "metadata": {
    "execution": {
     "iopub.execute_input": "2022-07-19T03:37:05.802422Z",
     "iopub.status.busy": "2022-07-19T03:37:05.801991Z",
     "iopub.status.idle": "2022-07-19T03:37:05.819578Z",
     "shell.execute_reply": "2022-07-19T03:37:05.818424Z",
     "shell.execute_reply.started": "2022-07-19T03:37:05.802378Z"
    }
   },
   "outputs": [],
   "source": [
    "oe = OrdinalEncoder(categories=[['None', 'Unf', 'LwQ', 'Rec', 'BLQ', 'ALQ', 'GLQ']])\n",
    "for col in [\"BsmtFinType1\", \"BsmtFinType2\"]:\n",
    "    df.loc[:, col] = oe.fit_transform(df[[col]])\n",
    "    df[col + \"sq\"] = df[col] ** 2"
   ]
  },
  {
   "cell_type": "code",
   "execution_count": null,
   "metadata": {},
   "outputs": [],
   "source": [
    "oe = OrdinalEncoder(categories=[['None', 'Unf', 'RFn', 'Fin']])\n",
    "df.loc[:, \"GarageFinish\"] = oe.fit_transform(df[[\"GarageFinish\"]])\n",
    "df[\"GarageFinishsq\"] = df[\"GarageFinish\"] ** 2"
   ]
  },
  {
   "cell_type": "code",
   "execution_count": null,
   "metadata": {
    "execution": {
     "iopub.execute_input": "2022-07-19T03:37:24.706888Z",
     "iopub.status.busy": "2022-07-19T03:37:24.706401Z",
     "iopub.status.idle": "2022-07-19T03:37:24.726149Z",
     "shell.execute_reply": "2022-07-19T03:37:24.725109Z",
     "shell.execute_reply.started": "2022-07-19T03:37:24.706850Z"
    }
   },
   "outputs": [],
   "source": [
    "oe = OrdinalEncoder(categories=[['N', 'P', 'Y']])\n",
    "df.loc[:, \"PavedDrive\"] = oe.fit_transform(df[[\"PavedDrive\"]])\n",
    "df[\"PavedDrivesq\"] = df[\"PavedDrive\"] ** 2"
   ]
  },
  {
   "cell_type": "code",
   "execution_count": null,
   "metadata": {},
   "outputs": [],
   "source": [
    "oe = OrdinalEncoder(categories=[['None', 'MnWw', 'GdWo', 'MnPrv', 'GdPrv']])\n",
    "df.loc[:, \"Fence\"] = oe.fit_transform(df[[\"Fence\"]])\n",
    "df[\"Fencesq\"] = df[\"Fence\"] ** 2"
   ]
  },
  {
   "cell_type": "code",
   "execution_count": null,
   "metadata": {},
   "outputs": [],
   "source": [
    "cols_cat = df.select_dtypes(object).columns.to_list()\n",
    "cols_num = df.select_dtypes(np.number).columns.to_list()"
   ]
  },
  {
   "cell_type": "markdown",
   "metadata": {},
   "source": [
    "# Impute numerical columns"
   ]
  },
  {
   "cell_type": "code",
   "execution_count": null,
   "metadata": {
    "execution": {
     "iopub.execute_input": "2022-07-19T00:58:57.776744Z",
     "iopub.status.busy": "2022-07-19T00:58:57.776305Z",
     "iopub.status.idle": "2022-07-19T00:58:57.791753Z",
     "shell.execute_reply": "2022-07-19T00:58:57.790732Z",
     "shell.execute_reply.started": "2022-07-19T00:58:57.776711Z"
    }
   },
   "outputs": [],
   "source": [
    "cols_num_na = df[cols_num].isnull().sum()[df[cols_num].isnull().sum() > 0]\n",
    "cols_num_na"
   ]
  },
  {
   "cell_type": "code",
   "execution_count": null,
   "metadata": {
    "execution": {
     "iopub.execute_input": "2022-07-19T01:20:00.267818Z",
     "iopub.status.busy": "2022-07-19T01:20:00.267245Z",
     "iopub.status.idle": "2022-07-19T01:20:00.278101Z",
     "shell.execute_reply": "2022-07-19T01:20:00.276762Z",
     "shell.execute_reply.started": "2022-07-19T01:20:00.267773Z"
    }
   },
   "outputs": [],
   "source": [
    "zero_filled_cols = [\"BsmtFinSF1\", \"BsmtFinSF2\", \"BsmtUnfSF\", \"TotalBsmtSF\", \"BsmtFullBath\", \"BsmtHalfBath\", \"GarageCars\", \"GarageArea\"]\n",
    "for col in zero_filled_cols:\n",
    "    df[col].fillna(0, inplace=True)"
   ]
  },
  {
   "cell_type": "code",
   "execution_count": null,
   "metadata": {
    "execution": {
     "iopub.execute_input": "2022-07-19T01:20:07.180508Z",
     "iopub.status.busy": "2022-07-19T01:20:07.180084Z",
     "iopub.status.idle": "2022-07-19T01:20:07.197069Z",
     "shell.execute_reply": "2022-07-19T01:20:07.196027Z",
     "shell.execute_reply.started": "2022-07-19T01:20:07.180475Z"
    }
   },
   "outputs": [],
   "source": [
    "cols_num_na = df[cols_num].isnull().sum()[df[cols_num].isnull().sum() > 0]\n",
    "cols_num_na"
   ]
  },
  {
   "cell_type": "code",
   "execution_count": null,
   "metadata": {
    "execution": {
     "iopub.execute_input": "2022-07-19T01:59:09.163843Z",
     "iopub.status.busy": "2022-07-19T01:59:09.163408Z",
     "iopub.status.idle": "2022-07-19T01:59:09.175097Z",
     "shell.execute_reply": "2022-07-19T01:59:09.174139Z",
     "shell.execute_reply.started": "2022-07-19T01:59:09.163807Z"
    }
   },
   "outputs": [],
   "source": [
    "def catboost_imputer(df, cols_num_na):\n",
    "    \n",
    "    # save columns to impute and drop them from df\n",
    "    cols_to_impute = df[cols_num_na]\n",
    "    df.drop(cols_num_na, axis=1, inplace=True)\n",
    "    \n",
    "    for col in cols_num_na:\n",
    "        # define X and y\n",
    "        X, y = df.copy(), cols_to_impute[col]\n",
    "\n",
    "        # get train and test sets\n",
    "        train_indexes, test_indexes = ~y.isnull(), y.isnull()\n",
    "        X_train, X_test = X.loc[train_indexes, :], X.loc[test_indexes, :]\n",
    "        y_train, y_test = y.loc[train_indexes], y.loc[test_indexes]\n",
    "        \n",
    "        model = CatBoostRegressor(max_depth=8, random_seed=10,\n",
    "                                  subsample=0.65, n_estimators=1000,\n",
    "                                  cat_features=cols_cat)\n",
    "        model.fit(X_train, y_train)\n",
    "        cols_to_impute.loc[test_indexes, col] = model.predict(X_test)\n",
    "        df[col] = cols_to_impute[col]\n",
    "    return df"
   ]
  },
  {
   "cell_type": "code",
   "execution_count": null,
   "metadata": {
    "execution": {
     "iopub.execute_input": "2022-07-19T01:59:09.279070Z",
     "iopub.status.busy": "2022-07-19T01:59:09.278278Z",
     "iopub.status.idle": "2022-07-19T02:02:25.387263Z",
     "shell.execute_reply": "2022-07-19T02:02:25.385917Z",
     "shell.execute_reply.started": "2022-07-19T01:59:09.279021Z"
    }
   },
   "outputs": [],
   "source": [
    "df = catboost_imputer(df, cols_num_na.index)\n",
    "df.isnull().sum().sum()"
   ]
  },
  {
   "cell_type": "markdown",
   "metadata": {},
   "source": [
    "# Feature selection"
   ]
  },
  {
   "cell_type": "code",
   "execution_count": null,
   "metadata": {
    "execution": {
     "iopub.execute_input": "2022-07-19T02:40:35.462127Z",
     "iopub.status.busy": "2022-07-19T02:40:35.461679Z",
     "iopub.status.idle": "2022-07-19T02:40:35.469460Z",
     "shell.execute_reply": "2022-07-19T02:40:35.468500Z",
     "shell.execute_reply.started": "2022-07-19T02:40:35.462092Z"
    }
   },
   "outputs": [],
   "source": [
    "def get_del_cols(df):\n",
    "    # return the columns where no more than one value in the categorical features\n",
    "    # exists in the test data - those features can be ignored\n",
    "    cols_to_drop = []\n",
    "    for col in df.select_dtypes(object).columns:\n",
    "        col_vals = df[col].unique()\n",
    "        n_vals = len(col_vals)\n",
    "        n_irrelevant = 0\n",
    "        for val in col_vals:\n",
    "            if val not in df[col][m_train:].values:\n",
    "                n_irrelevant += 1\n",
    "        if n_irrelevant >= n_vals - 1:\n",
    "            cols_to_drop.append(col)\n",
    "    return cols_to_drop"
   ]
  },
  {
   "cell_type": "code",
   "execution_count": 31,
   "metadata": {
    "execution": {
     "iopub.execute_input": "2022-07-19T02:40:36.223819Z",
     "iopub.status.busy": "2022-07-19T02:40:36.223230Z",
     "iopub.status.idle": "2022-07-19T02:40:36.287108Z",
     "shell.execute_reply": "2022-07-19T02:40:36.285923Z",
     "shell.execute_reply.started": "2022-07-19T02:40:36.223788Z"
    }
   },
   "outputs": [
    {
     "name": "stdout",
     "output_type": "stream",
     "text": [
      "Dropped  Utilities\n"
     ]
    }
   ],
   "source": [
    "cols_to_drop = get_del_cols(df)\n",
    "df.drop(cols_to_drop, axis=1, inplace=True)\n",
    "for col_to_drop in cols_to_drop:\n",
    "    cols_cat.remove(col_to_drop)\n",
    "    print(\"Dropped \", col_to_drop)"
   ]
  },
  {
   "cell_type": "markdown",
   "metadata": {},
   "source": [
    "<!-- # Change ordinal columns to numeric, and encode accordingly -->"
   ]
  },
  {
   "cell_type": "markdown",
   "metadata": {},
   "source": [
    "# Feature Engineering"
   ]
  },
  {
   "cell_type": "markdown",
   "metadata": {},
   "source": [
    "## Features from the Internet - prefex FE0_"
   ]
  },
  {
   "cell_type": "code",
   "execution_count": null,
   "metadata": {},
   "outputs": [],
   "source": [
    "df[\"FE0_HighQualSF\"] = df[\"GrLivArea\"]+df[\"1stFlrSF\"] + df[\"2ndFlrSF\"]+0.5*df[\"GarageArea\"]+0.5*df[\"TotalBsmtSF\"]+1*df[\"MasVnrArea\"]\n",
    "\n",
    "df[\"FE0_SqFtPerRoom\"] = df[\"GrLivArea\"] / (df[\"TotRmsAbvGrd\"] +\n",
    "                                           df[\"FullBath\"] +\n",
    "                                           df[\"HalfBath\"] +\n",
    "                                           df[\"KitchenAbvGr\"])"
   ]
  },
  {
   "cell_type": "markdown",
   "metadata": {},
   "source": [
    "## My features - prefex FE1_"
   ]
  },
  {
   "cell_type": "code",
   "execution_count": null,
   "metadata": {},
   "outputs": [],
   "source": [
    "n_stories_dict = {\n",
    "    \"1Story\": 1.0,\n",
    "    \"1.5Fin\": 1.5,\n",
    "    \"1.5Unf\": 1.5,\n",
    "    \"2Story\": 2.0,\n",
    "    \"2.5Fin\": 2.5,\n",
    "    \"2.5Unf\": 2.5,\n",
    "    \"SFoyer\": 2.0,\n",
    "    \"SLvl\": 2.0,\n",
    "}\n",
    "\n",
    "df[\"FE1_n_stories\"] = df[\"HouseStyle\"].replace(n_stories_dict)\n",
    "df[\"FE1_n_stories\"].value_counts()"
   ]
  },
  {
   "cell_type": "code",
   "execution_count": null,
   "metadata": {},
   "outputs": [],
   "source": [
    "df[\"FE1_age_sold\"] = df[\"YrSold\"] - df[\"YearBuilt\"]\n",
    "df[\"FE1_age_sold_Remod\"] = df[\"YrSold\"] - df[\"YearRemodAdd\"]\n",
    "df[\"FE1_GarageYrSold\"] = df[\"YrSold\"] - df[\"GarageYrBlt\"]"
   ]
  },
  {
   "cell_type": "code",
   "execution_count": null,
   "metadata": {},
   "outputs": [],
   "source": [
    "df[\"CentralAir\"] = df[\"CentralAir\"].replace({\"Y\": 1, \"N\": 0})\n",
    "df[\"CentralAir\"].value_counts()"
   ]
  },
  {
   "cell_type": "code",
   "execution_count": null,
   "metadata": {},
   "outputs": [],
   "source": [
    "df.select_dtypes(np.number).columns"
   ]
  },
  {
   "cell_type": "code",
   "execution_count": null,
   "metadata": {},
   "outputs": [],
   "source": [
    "df['FE1_total_area_hq'] = df[\"FE0_HighQualSF\"] - df['LowQualFinSF']\n",
    "\n",
    "df['FE1_Total_Home_Quality'] = df['OverallQual'] * df['OverallCond']\n",
    "df['FE1_Total_bsmt_Quality'] = df['BsmtQual'] * df['BsmtCond']\n",
    "df['FE1_Total_garage_Quality'] = df['GarageQual'] * df['GarageCond']\n",
    "\n",
    "df[\"FE1_weighted_home_area\"] = df[\"FE1_total_area_hq\"] * df['FE1_Total_Home_Quality'] \n",
    "df[\"FE1_weighted_bsmt_area\"] = df[\"TotalBsmtSF\"] * df['FE1_Total_bsmt_Quality'] \n",
    "df[\"FE1_weighted_garage_area\"] = df[\"GarageArea\"] * df['FE1_Total_garage_Quality']\n",
    "df[\"FE1_weighted_n_stories\"] = df[\"FE1_n_stories\"] * df['OverallQual']\n"
   ]
  },
  {
   "cell_type": "markdown",
   "metadata": {},
   "source": [
    "# Split test and train"
   ]
  },
  {
   "cell_type": "code",
   "execution_count": null,
   "metadata": {},
   "outputs": [],
   "source": [
    "X_train, X_test = df[:m_train], df[m_train:]\n",
    "y_train, _ = target[:m_train], target[m_train:]\n",
    "n = X_train.shape[1]\n",
    "X_train.shape, y_train.shape"
   ]
  },
  {
   "cell_type": "code",
   "execution_count": null,
   "metadata": {},
   "outputs": [],
   "source": [
    "# df_ohe = pd.get_dummies(df)\n",
    "# df_ohe[target_col] = target\n",
    "# _ = setup(data=df_ohe[:m_train], target='SalePrice')\n",
    "# best = compare_models()"
   ]
  },
  {
   "cell_type": "markdown",
   "metadata": {},
   "source": [
    "# Training - CatBoost Grid Search "
   ]
  },
  {
   "cell_type": "code",
   "execution_count": null,
   "metadata": {},
   "outputs": [],
   "source": [
    "# cat_features = df.select_dtypes(object).columns.to_list()\n",
    "# model = CatBoostRegressor(random_state=10, cat_features=cat_features)\n",
    "# kwargs = {\n",
    "#     \"n_estimators\": [50 * n],\n",
    "#     \"max_depth\": [8],\n",
    "#     \"subsample\": [0.65],\n",
    "#     \"reg_lambda\": [0.1], \n",
    "# }\n",
    "# clf = GridSearchCV(model, kwargs, verbose=1, n_jobs=2)\n",
    "# clf.fit(X_train, y_train)\n",
    "# print(clf.best_score_)\n",
    "# print(clf.best_params_)"
   ]
  },
  {
   "cell_type": "markdown",
   "metadata": {},
   "source": [
    "# CatBoost Params:\n",
    "    {'max_depth': 8, 'n_estimators': 5500, 'reg_lambda': 0.1, 'subsample': 0.65}"
   ]
  },
  {
   "cell_type": "code",
   "execution_count": null,
   "metadata": {},
   "outputs": [],
   "source": [
    "# clf.best_score_"
   ]
  },
  {
   "cell_type": "markdown",
   "metadata": {},
   "source": [
    "# Training - CatBoost with Best Parameters"
   ]
  },
  {
   "cell_type": "code",
   "execution_count": null,
   "metadata": {},
   "outputs": [],
   "source": [
    "model = CatBoostRegressor(max_depth=8, random_seed=10,\n",
    "                          subsample=0.65, n_estimators=5500,\n",
    "                          cat_features=cols_cat)\n",
    "model.fit(X_train, y_train)"
   ]
  },
  {
   "cell_type": "code",
   "execution_count": null,
   "metadata": {},
   "outputs": [],
   "source": [
    "print(model.best_score_)\n",
    "fe = model.get_feature_importance(prettified=True)\n",
    "fe.head(20)"
   ]
  },
  {
   "cell_type": "code",
   "execution_count": null,
   "metadata": {},
   "outputs": [],
   "source": [
    "sub_name = \"data/submission_15.csv\"\n",
    "pd.DataFrame(model.predict(X_test), \n",
    "            index=range(1461, len(df)+1), \n",
    "            columns=['SalePrice']).reset_index().\\\n",
    "            rename(columns={'index': 'id'}).to_csv(sub_name, index=False)"
   ]
  },
  {
   "cell_type": "markdown",
   "metadata": {},
   "source": [
    "# Score: 0.21233"
   ]
  }
 ],
 "metadata": {
  "kernelspec": {
   "display_name": ".env",
   "language": "python",
   "name": ".env"
  },
  "language_info": {
   "codemirror_mode": {
    "name": "ipython",
    "version": 3
   },
   "file_extension": ".py",
   "mimetype": "text/x-python",
   "name": "python",
   "nbconvert_exporter": "python",
   "pygments_lexer": "ipython3",
   "version": "3.10.5"
  }
 },
 "nbformat": 4,
 "nbformat_minor": 4
}
