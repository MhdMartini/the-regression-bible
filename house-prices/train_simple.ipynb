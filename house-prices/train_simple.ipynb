{
 "cells": [
  {
   "cell_type": "code",
   "execution_count": 1,
   "metadata": {},
   "outputs": [],
   "source": [
    "import numpy as np\n",
    "import pandas as pd\n",
    "import xgboost as xgb\n",
    "from sklearn.metrics import mean_squared_error\n",
    "import matplotlib.pyplot as plt"
   ]
  },
  {
   "cell_type": "code",
   "execution_count": 2,
   "metadata": {},
   "outputs": [
    {
     "data": {
      "text/html": [
       "<div>\n",
       "<style scoped>\n",
       "    .dataframe tbody tr th:only-of-type {\n",
       "        vertical-align: middle;\n",
       "    }\n",
       "\n",
       "    .dataframe tbody tr th {\n",
       "        vertical-align: top;\n",
       "    }\n",
       "\n",
       "    .dataframe thead th {\n",
       "        text-align: right;\n",
       "    }\n",
       "</style>\n",
       "<table border=\"1\" class=\"dataframe\">\n",
       "  <thead>\n",
       "    <tr style=\"text-align: right;\">\n",
       "      <th></th>\n",
       "      <th>Unnamed: 0</th>\n",
       "      <th>0</th>\n",
       "      <th>1</th>\n",
       "      <th>2</th>\n",
       "      <th>3</th>\n",
       "      <th>4</th>\n",
       "      <th>5</th>\n",
       "      <th>6</th>\n",
       "      <th>7</th>\n",
       "      <th>8</th>\n",
       "      <th>...</th>\n",
       "      <th>369</th>\n",
       "      <th>370</th>\n",
       "      <th>371</th>\n",
       "      <th>372</th>\n",
       "      <th>373</th>\n",
       "      <th>374</th>\n",
       "      <th>375</th>\n",
       "      <th>376</th>\n",
       "      <th>377</th>\n",
       "      <th>378</th>\n",
       "    </tr>\n",
       "  </thead>\n",
       "  <tbody>\n",
       "    <tr>\n",
       "      <th>0</th>\n",
       "      <td>0</td>\n",
       "      <td>0.0</td>\n",
       "      <td>0.0</td>\n",
       "      <td>0.0</td>\n",
       "      <td>0.0</td>\n",
       "      <td>0.0</td>\n",
       "      <td>1.0</td>\n",
       "      <td>0.0</td>\n",
       "      <td>0.0</td>\n",
       "      <td>0.0</td>\n",
       "      <td>...</td>\n",
       "      <td>0.0</td>\n",
       "      <td>0.0</td>\n",
       "      <td>1.0</td>\n",
       "      <td>0.0</td>\n",
       "      <td>0.0</td>\n",
       "      <td>0.0</td>\n",
       "      <td>0.0</td>\n",
       "      <td>1.0</td>\n",
       "      <td>0.0</td>\n",
       "      <td>208500.0</td>\n",
       "    </tr>\n",
       "    <tr>\n",
       "      <th>1</th>\n",
       "      <td>1</td>\n",
       "      <td>1.0</td>\n",
       "      <td>0.0</td>\n",
       "      <td>0.0</td>\n",
       "      <td>0.0</td>\n",
       "      <td>0.0</td>\n",
       "      <td>0.0</td>\n",
       "      <td>0.0</td>\n",
       "      <td>0.0</td>\n",
       "      <td>0.0</td>\n",
       "      <td>...</td>\n",
       "      <td>0.0</td>\n",
       "      <td>0.0</td>\n",
       "      <td>1.0</td>\n",
       "      <td>0.0</td>\n",
       "      <td>0.0</td>\n",
       "      <td>0.0</td>\n",
       "      <td>0.0</td>\n",
       "      <td>1.0</td>\n",
       "      <td>0.0</td>\n",
       "      <td>181500.0</td>\n",
       "    </tr>\n",
       "    <tr>\n",
       "      <th>2</th>\n",
       "      <td>2</td>\n",
       "      <td>0.0</td>\n",
       "      <td>0.0</td>\n",
       "      <td>0.0</td>\n",
       "      <td>0.0</td>\n",
       "      <td>0.0</td>\n",
       "      <td>1.0</td>\n",
       "      <td>0.0</td>\n",
       "      <td>0.0</td>\n",
       "      <td>0.0</td>\n",
       "      <td>...</td>\n",
       "      <td>0.0</td>\n",
       "      <td>0.0</td>\n",
       "      <td>1.0</td>\n",
       "      <td>0.0</td>\n",
       "      <td>0.0</td>\n",
       "      <td>0.0</td>\n",
       "      <td>0.0</td>\n",
       "      <td>1.0</td>\n",
       "      <td>0.0</td>\n",
       "      <td>223500.0</td>\n",
       "    </tr>\n",
       "    <tr>\n",
       "      <th>3</th>\n",
       "      <td>3</td>\n",
       "      <td>0.0</td>\n",
       "      <td>0.0</td>\n",
       "      <td>0.0</td>\n",
       "      <td>0.0</td>\n",
       "      <td>0.0</td>\n",
       "      <td>0.0</td>\n",
       "      <td>1.0</td>\n",
       "      <td>0.0</td>\n",
       "      <td>0.0</td>\n",
       "      <td>...</td>\n",
       "      <td>0.0</td>\n",
       "      <td>0.0</td>\n",
       "      <td>1.0</td>\n",
       "      <td>1.0</td>\n",
       "      <td>0.0</td>\n",
       "      <td>0.0</td>\n",
       "      <td>0.0</td>\n",
       "      <td>0.0</td>\n",
       "      <td>0.0</td>\n",
       "      <td>140000.0</td>\n",
       "    </tr>\n",
       "    <tr>\n",
       "      <th>4</th>\n",
       "      <td>4</td>\n",
       "      <td>0.0</td>\n",
       "      <td>0.0</td>\n",
       "      <td>0.0</td>\n",
       "      <td>0.0</td>\n",
       "      <td>0.0</td>\n",
       "      <td>1.0</td>\n",
       "      <td>0.0</td>\n",
       "      <td>0.0</td>\n",
       "      <td>0.0</td>\n",
       "      <td>...</td>\n",
       "      <td>0.0</td>\n",
       "      <td>0.0</td>\n",
       "      <td>1.0</td>\n",
       "      <td>0.0</td>\n",
       "      <td>0.0</td>\n",
       "      <td>0.0</td>\n",
       "      <td>0.0</td>\n",
       "      <td>1.0</td>\n",
       "      <td>0.0</td>\n",
       "      <td>250000.0</td>\n",
       "    </tr>\n",
       "  </tbody>\n",
       "</table>\n",
       "<p>5 rows × 380 columns</p>\n",
       "</div>"
      ],
      "text/plain": [
       "   Unnamed: 0    0    1    2    3    4    5    6    7    8  ...  369  370  \\\n",
       "0           0  0.0  0.0  0.0  0.0  0.0  1.0  0.0  0.0  0.0  ...  0.0  0.0   \n",
       "1           1  1.0  0.0  0.0  0.0  0.0  0.0  0.0  0.0  0.0  ...  0.0  0.0   \n",
       "2           2  0.0  0.0  0.0  0.0  0.0  1.0  0.0  0.0  0.0  ...  0.0  0.0   \n",
       "3           3  0.0  0.0  0.0  0.0  0.0  0.0  1.0  0.0  0.0  ...  0.0  0.0   \n",
       "4           4  0.0  0.0  0.0  0.0  0.0  1.0  0.0  0.0  0.0  ...  0.0  0.0   \n",
       "\n",
       "   371  372  373  374  375  376  377       378  \n",
       "0  1.0  0.0  0.0  0.0  0.0  1.0  0.0  208500.0  \n",
       "1  1.0  0.0  0.0  0.0  0.0  1.0  0.0  181500.0  \n",
       "2  1.0  0.0  0.0  0.0  0.0  1.0  0.0  223500.0  \n",
       "3  1.0  1.0  0.0  0.0  0.0  0.0  0.0  140000.0  \n",
       "4  1.0  0.0  0.0  0.0  0.0  1.0  0.0  250000.0  \n",
       "\n",
       "[5 rows x 380 columns]"
      ]
     },
     "execution_count": 2,
     "metadata": {},
     "output_type": "execute_result"
    }
   ],
   "source": [
    "df = pd.read_csv(\"data/df_0.csv\")\n",
    "df.head()"
   ]
  },
  {
   "cell_type": "code",
   "execution_count": 3,
   "metadata": {},
   "outputs": [
    {
     "data": {
      "text/plain": [
       "((2919, 379), (2919,))"
      ]
     },
     "execution_count": 3,
     "metadata": {},
     "output_type": "execute_result"
    }
   ],
   "source": [
    "X = df.values[:, :-1]\n",
    "y = df.values[:, -1]\n",
    "X.shape, y.shape"
   ]
  },
  {
   "cell_type": "code",
   "execution_count": 4,
   "metadata": {},
   "outputs": [],
   "source": [
    "train_idx = 1460\n",
    "X_train, X_test = X[:train_idx], X[train_idx:]\n",
    "y_train, y_test = y[:train_idx], y[train_idx:]"
   ]
  },
  {
   "cell_type": "code",
   "execution_count": 5,
   "metadata": {},
   "outputs": [],
   "source": [
    "train_train_idx = int(train_idx * 0.7)\n",
    "X_train_train, X_train_test = X_train[:train_train_idx], X_train[train_train_idx:]\n",
    "y_train_train, y_train_test = y_train[:train_train_idx], y_train[train_train_idx:]"
   ]
  },
  {
   "cell_type": "markdown",
   "metadata": {},
   "source": [
    "# Train XGB"
   ]
  },
  {
   "cell_type": "code",
   "execution_count": 6,
   "metadata": {},
   "outputs": [
    {
     "name": "stdout",
     "output_type": "stream",
     "text": [
      "[0]\tvalidation_0-rmse:143072.77434\tvalidation_0-mean_squared_error:20469817344.00000\n",
      "[1]\tvalidation_0-rmse:105747.88433\tvalidation_0-mean_squared_error:11182615552.00000\n",
      "[2]\tvalidation_0-rmse:81446.69445\tvalidation_0-mean_squared_error:6633564160.00000\n",
      "[3]\tvalidation_0-rmse:64925.67684\tvalidation_0-mean_squared_error:4215343616.00000\n",
      "[4]\tvalidation_0-rmse:54462.98178\tvalidation_0-mean_squared_error:2966216448.00000\n",
      "[5]\tvalidation_0-rmse:47427.09570\tvalidation_0-mean_squared_error:2249329664.00000\n",
      "[6]\tvalidation_0-rmse:42217.05424\tvalidation_0-mean_squared_error:1782279680.00000\n",
      "[7]\tvalidation_0-rmse:39141.11785\tvalidation_0-mean_squared_error:1532027136.00000\n",
      "[8]\tvalidation_0-rmse:37186.11934\tvalidation_0-mean_squared_error:1382807552.00000\n",
      "[9]\tvalidation_0-rmse:35079.30936\tvalidation_0-mean_squared_error:1230557952.00000\n",
      "[10]\tvalidation_0-rmse:33884.12962\tvalidation_0-mean_squared_error:1148134272.00000\n",
      "[11]\tvalidation_0-rmse:32928.15206\tvalidation_0-mean_squared_error:1084263168.00000\n",
      "[12]\tvalidation_0-rmse:32427.62955\tvalidation_0-mean_squared_error:1051551168.00000\n",
      "[13]\tvalidation_0-rmse:31908.50089\tvalidation_0-mean_squared_error:1018152512.00000\n",
      "[14]\tvalidation_0-rmse:31551.43605\tvalidation_0-mean_squared_error:995493184.00000\n",
      "[15]\tvalidation_0-rmse:31263.88115\tvalidation_0-mean_squared_error:977430336.00000\n",
      "[16]\tvalidation_0-rmse:30964.92329\tvalidation_0-mean_squared_error:958826432.00000\n",
      "[17]\tvalidation_0-rmse:30837.06360\tvalidation_0-mean_squared_error:950924544.00000\n",
      "[18]\tvalidation_0-rmse:30832.36512\tvalidation_0-mean_squared_error:950634752.00000\n",
      "[19]\tvalidation_0-rmse:30699.78659\tvalidation_0-mean_squared_error:942476800.00000\n",
      "[20]\tvalidation_0-rmse:30669.33580\tvalidation_0-mean_squared_error:940608192.00000\n",
      "[21]\tvalidation_0-rmse:30601.31197\tvalidation_0-mean_squared_error:936440320.00000\n",
      "[22]\tvalidation_0-rmse:30528.99812\tvalidation_0-mean_squared_error:932019712.00000\n",
      "[23]\tvalidation_0-rmse:30591.36817\tvalidation_0-mean_squared_error:935831744.00000\n",
      "[24]\tvalidation_0-rmse:30644.34597\tvalidation_0-mean_squared_error:939075968.00000\n",
      "[25]\tvalidation_0-rmse:30687.45212\tvalidation_0-mean_squared_error:941719680.00000\n",
      "[26]\tvalidation_0-rmse:30610.54463\tvalidation_0-mean_squared_error:937005376.00000\n",
      "[27]\tvalidation_0-rmse:30572.11725\tvalidation_0-mean_squared_error:934654336.00000\n",
      "[28]\tvalidation_0-rmse:30547.55164\tvalidation_0-mean_squared_error:933152896.00000\n",
      "[29]\tvalidation_0-rmse:30525.93350\tvalidation_0-mean_squared_error:931832640.00000\n",
      "[30]\tvalidation_0-rmse:30514.25994\tvalidation_0-mean_squared_error:931120128.00000\n",
      "[31]\tvalidation_0-rmse:30489.79065\tvalidation_0-mean_squared_error:929627392.00000\n",
      "[32]\tvalidation_0-rmse:30479.47979\tvalidation_0-mean_squared_error:928998656.00000\n",
      "[33]\tvalidation_0-rmse:30466.03632\tvalidation_0-mean_squared_error:928179328.00000\n",
      "[34]\tvalidation_0-rmse:30483.44479\tvalidation_0-mean_squared_error:929240384.00000\n",
      "[35]\tvalidation_0-rmse:30454.99440\tvalidation_0-mean_squared_error:927506688.00000\n",
      "[36]\tvalidation_0-rmse:30496.49949\tvalidation_0-mean_squared_error:930036480.00000\n",
      "[37]\tvalidation_0-rmse:30485.95867\tvalidation_0-mean_squared_error:929393664.00000\n",
      "[38]\tvalidation_0-rmse:30483.42651\tvalidation_0-mean_squared_error:929239360.00000\n",
      "[39]\tvalidation_0-rmse:30452.42881\tvalidation_0-mean_squared_error:927350400.00000\n",
      "[40]\tvalidation_0-rmse:30419.68061\tvalidation_0-mean_squared_error:925356928.00000\n",
      "[41]\tvalidation_0-rmse:30406.70507\tvalidation_0-mean_squared_error:924567680.00000\n",
      "[42]\tvalidation_0-rmse:30415.99267\tvalidation_0-mean_squared_error:925132608.00000\n",
      "[43]\tvalidation_0-rmse:30409.78236\tvalidation_0-mean_squared_error:924754880.00000\n",
      "[44]\tvalidation_0-rmse:30415.87587\tvalidation_0-mean_squared_error:925125568.00000\n",
      "[45]\tvalidation_0-rmse:30409.07497\tvalidation_0-mean_squared_error:924711872.00000\n",
      "[46]\tvalidation_0-rmse:30409.90796\tvalidation_0-mean_squared_error:924762432.00000\n",
      "[47]\tvalidation_0-rmse:30413.36394\tvalidation_0-mean_squared_error:924972736.00000\n",
      "[48]\tvalidation_0-rmse:30389.71949\tvalidation_0-mean_squared_error:923535040.00000\n",
      "[49]\tvalidation_0-rmse:30368.68995\tvalidation_0-mean_squared_error:922257280.00000\n",
      "[50]\tvalidation_0-rmse:30376.42735\tvalidation_0-mean_squared_error:922727296.00000\n",
      "[51]\tvalidation_0-rmse:30385.94223\tvalidation_0-mean_squared_error:923305408.00000\n",
      "[52]\tvalidation_0-rmse:30384.25688\tvalidation_0-mean_squared_error:923203072.00000\n",
      "[53]\tvalidation_0-rmse:30384.44663\tvalidation_0-mean_squared_error:923214592.00000\n",
      "[54]\tvalidation_0-rmse:30364.15918\tvalidation_0-mean_squared_error:921982144.00000\n",
      "[55]\tvalidation_0-rmse:30372.40451\tvalidation_0-mean_squared_error:922483008.00000\n",
      "[56]\tvalidation_0-rmse:30362.10816\tvalidation_0-mean_squared_error:921857600.00000\n",
      "[57]\tvalidation_0-rmse:30368.81937\tvalidation_0-mean_squared_error:922265152.00000\n",
      "[58]\tvalidation_0-rmse:30368.59807\tvalidation_0-mean_squared_error:922251712.00000\n",
      "[59]\tvalidation_0-rmse:30371.15716\tvalidation_0-mean_squared_error:922407168.00000\n",
      "[60]\tvalidation_0-rmse:30370.65239\tvalidation_0-mean_squared_error:922376512.00000\n",
      "[61]\tvalidation_0-rmse:30358.35776\tvalidation_0-mean_squared_error:921629952.00000\n",
      "[62]\tvalidation_0-rmse:30356.97047\tvalidation_0-mean_squared_error:921545664.00000\n",
      "[63]\tvalidation_0-rmse:30376.32759\tvalidation_0-mean_squared_error:922721216.00000\n",
      "[64]\tvalidation_0-rmse:30369.61689\tvalidation_0-mean_squared_error:922313664.00000\n",
      "[65]\tvalidation_0-rmse:30359.65621\tvalidation_0-mean_squared_error:921708736.00000\n",
      "[66]\tvalidation_0-rmse:30357.07415\tvalidation_0-mean_squared_error:921551936.00000\n",
      "[67]\tvalidation_0-rmse:30350.58451\tvalidation_0-mean_squared_error:921157888.00000\n",
      "[68]\tvalidation_0-rmse:30356.82263\tvalidation_0-mean_squared_error:921536704.00000\n",
      "[69]\tvalidation_0-rmse:30375.12153\tvalidation_0-mean_squared_error:922648000.00000\n",
      "[70]\tvalidation_0-rmse:30366.66126\tvalidation_0-mean_squared_error:922134144.00000\n",
      "[71]\tvalidation_0-rmse:30368.41454\tvalidation_0-mean_squared_error:922240640.00000\n",
      "[72]\tvalidation_0-rmse:30365.23521\tvalidation_0-mean_squared_error:922047488.00000\n",
      "[73]\tvalidation_0-rmse:30359.84585\tvalidation_0-mean_squared_error:921720256.00000\n",
      "[74]\tvalidation_0-rmse:30360.42164\tvalidation_0-mean_squared_error:921755200.00000\n",
      "[75]\tvalidation_0-rmse:30384.71120\tvalidation_0-mean_squared_error:923230784.00000\n",
      "[76]\tvalidation_0-rmse:30385.07805\tvalidation_0-mean_squared_error:923253056.00000\n",
      "[77]\tvalidation_0-rmse:30390.96796\tvalidation_0-mean_squared_error:923610944.00000\n",
      "[78]\tvalidation_0-rmse:30390.50649\tvalidation_0-mean_squared_error:923582848.00000\n",
      "[79]\tvalidation_0-rmse:30393.07228\tvalidation_0-mean_squared_error:923738880.00000\n",
      "[80]\tvalidation_0-rmse:30392.34490\tvalidation_0-mean_squared_error:923694720.00000\n",
      "[81]\tvalidation_0-rmse:30385.67903\tvalidation_0-mean_squared_error:923289536.00000\n",
      "[82]\tvalidation_0-rmse:30370.30993\tvalidation_0-mean_squared_error:922355648.00000\n",
      "[83]\tvalidation_0-rmse:30367.49751\tvalidation_0-mean_squared_error:922184960.00000\n",
      "[84]\tvalidation_0-rmse:30374.24433\tvalidation_0-mean_squared_error:922594752.00000\n",
      "[85]\tvalidation_0-rmse:30376.54729\tvalidation_0-mean_squared_error:922734656.00000\n",
      "[86]\tvalidation_0-rmse:30376.26956\tvalidation_0-mean_squared_error:922717696.00000\n",
      "[87]\tvalidation_0-rmse:30371.74026\tvalidation_0-mean_squared_error:922442624.00000\n",
      "[88]\tvalidation_0-rmse:30370.29842\tvalidation_0-mean_squared_error:922355008.00000\n",
      "[89]\tvalidation_0-rmse:30378.32224\tvalidation_0-mean_squared_error:922842496.00000\n",
      "[90]\tvalidation_0-rmse:30367.98924\tvalidation_0-mean_squared_error:922214784.00000\n",
      "[91]\tvalidation_0-rmse:30363.30840\tvalidation_0-mean_squared_error:921930496.00000\n",
      "[92]\tvalidation_0-rmse:30352.45478\tvalidation_0-mean_squared_error:921271488.00000\n",
      "[93]\tvalidation_0-rmse:30358.32651\tvalidation_0-mean_squared_error:921627968.00000\n",
      "[94]\tvalidation_0-rmse:30360.57226\tvalidation_0-mean_squared_error:921764352.00000\n",
      "[95]\tvalidation_0-rmse:30356.36294\tvalidation_0-mean_squared_error:921508736.00000\n",
      "[96]\tvalidation_0-rmse:30365.63500\tvalidation_0-mean_squared_error:922071808.00000\n",
      "[97]\tvalidation_0-rmse:30364.03071\tvalidation_0-mean_squared_error:921974336.00000\n",
      "[98]\tvalidation_0-rmse:30361.75338\tvalidation_0-mean_squared_error:921836096.00000\n",
      "[99]\tvalidation_0-rmse:30368.45287\tvalidation_0-mean_squared_error:922242880.00000\n"
     ]
    },
    {
     "data": {
      "text/html": [
       "<style>#sk-container-id-1 {color: black;background-color: white;}#sk-container-id-1 pre{padding: 0;}#sk-container-id-1 div.sk-toggleable {background-color: white;}#sk-container-id-1 label.sk-toggleable__label {cursor: pointer;display: block;width: 100%;margin-bottom: 0;padding: 0.3em;box-sizing: border-box;text-align: center;}#sk-container-id-1 label.sk-toggleable__label-arrow:before {content: \"▸\";float: left;margin-right: 0.25em;color: #696969;}#sk-container-id-1 label.sk-toggleable__label-arrow:hover:before {color: black;}#sk-container-id-1 div.sk-estimator:hover label.sk-toggleable__label-arrow:before {color: black;}#sk-container-id-1 div.sk-toggleable__content {max-height: 0;max-width: 0;overflow: hidden;text-align: left;background-color: #f0f8ff;}#sk-container-id-1 div.sk-toggleable__content pre {margin: 0.2em;color: black;border-radius: 0.25em;background-color: #f0f8ff;}#sk-container-id-1 input.sk-toggleable__control:checked~div.sk-toggleable__content {max-height: 200px;max-width: 100%;overflow: auto;}#sk-container-id-1 input.sk-toggleable__control:checked~label.sk-toggleable__label-arrow:before {content: \"▾\";}#sk-container-id-1 div.sk-estimator input.sk-toggleable__control:checked~label.sk-toggleable__label {background-color: #d4ebff;}#sk-container-id-1 div.sk-label input.sk-toggleable__control:checked~label.sk-toggleable__label {background-color: #d4ebff;}#sk-container-id-1 input.sk-hidden--visually {border: 0;clip: rect(1px 1px 1px 1px);clip: rect(1px, 1px, 1px, 1px);height: 1px;margin: -1px;overflow: hidden;padding: 0;position: absolute;width: 1px;}#sk-container-id-1 div.sk-estimator {font-family: monospace;background-color: #f0f8ff;border: 1px dotted black;border-radius: 0.25em;box-sizing: border-box;margin-bottom: 0.5em;}#sk-container-id-1 div.sk-estimator:hover {background-color: #d4ebff;}#sk-container-id-1 div.sk-parallel-item::after {content: \"\";width: 100%;border-bottom: 1px solid gray;flex-grow: 1;}#sk-container-id-1 div.sk-label:hover label.sk-toggleable__label {background-color: #d4ebff;}#sk-container-id-1 div.sk-serial::before {content: \"\";position: absolute;border-left: 1px solid gray;box-sizing: border-box;top: 0;bottom: 0;left: 50%;z-index: 0;}#sk-container-id-1 div.sk-serial {display: flex;flex-direction: column;align-items: center;background-color: white;padding-right: 0.2em;padding-left: 0.2em;position: relative;}#sk-container-id-1 div.sk-item {position: relative;z-index: 1;}#sk-container-id-1 div.sk-parallel {display: flex;align-items: stretch;justify-content: center;background-color: white;position: relative;}#sk-container-id-1 div.sk-item::before, #sk-container-id-1 div.sk-parallel-item::before {content: \"\";position: absolute;border-left: 1px solid gray;box-sizing: border-box;top: 0;bottom: 0;left: 50%;z-index: -1;}#sk-container-id-1 div.sk-parallel-item {display: flex;flex-direction: column;z-index: 1;position: relative;background-color: white;}#sk-container-id-1 div.sk-parallel-item:first-child::after {align-self: flex-end;width: 50%;}#sk-container-id-1 div.sk-parallel-item:last-child::after {align-self: flex-start;width: 50%;}#sk-container-id-1 div.sk-parallel-item:only-child::after {width: 0;}#sk-container-id-1 div.sk-dashed-wrapped {border: 1px dashed gray;margin: 0 0.4em 0.5em 0.4em;box-sizing: border-box;padding-bottom: 0.4em;background-color: white;}#sk-container-id-1 div.sk-label label {font-family: monospace;font-weight: bold;display: inline-block;line-height: 1.2em;}#sk-container-id-1 div.sk-label-container {text-align: center;}#sk-container-id-1 div.sk-container {/* jupyter's `normalize.less` sets `[hidden] { display: none; }` but bootstrap.min.css set `[hidden] { display: none !important; }` so we also need the `!important` here to be able to override the default hidden behavior on the sphinx rendered scikit-learn.org. See: https://github.com/scikit-learn/scikit-learn/issues/21755 */display: inline-block !important;position: relative;}#sk-container-id-1 div.sk-text-repr-fallback {display: none;}</style><div id=\"sk-container-id-1\" class=\"sk-top-container\"><div class=\"sk-text-repr-fallback\"><pre>XGBRegressor(base_score=0.5, booster=&#x27;gbtree&#x27;, callbacks=None,\n",
       "             colsample_bylevel=1, colsample_bynode=1, colsample_bytree=1,\n",
       "             early_stopping_rounds=None, enable_categorical=False,\n",
       "             eval_metric=&lt;function mean_squared_error at 0x7f8684ca6a70&gt;,\n",
       "             gamma=0, gpu_id=-1, grow_policy=&#x27;depthwise&#x27;, importance_type=None,\n",
       "             interaction_constraints=&#x27;&#x27;, learning_rate=0.300000012, max_bin=256,\n",
       "             max_cat_to_onehot=4, max_delta_step=0, max_depth=6, max_leaves=0,\n",
       "             min_child_weight=1, missing=nan, monotone_constraints=&#x27;()&#x27;,\n",
       "             n_estimators=100, n_jobs=0, num_parallel_tree=1, predictor=&#x27;auto&#x27;,\n",
       "             random_state=0, reg_alpha=0, reg_lambda=1, ...)</pre><b>In a Jupyter environment, please rerun this cell to show the HTML representation or trust the notebook. <br />On GitHub, the HTML representation is unable to render, please try loading this page with nbviewer.org.</b></div><div class=\"sk-container\" hidden><div class=\"sk-item\"><div class=\"sk-estimator sk-toggleable\"><input class=\"sk-toggleable__control sk-hidden--visually\" id=\"sk-estimator-id-1\" type=\"checkbox\" checked><label for=\"sk-estimator-id-1\" class=\"sk-toggleable__label sk-toggleable__label-arrow\">XGBRegressor</label><div class=\"sk-toggleable__content\"><pre>XGBRegressor(base_score=0.5, booster=&#x27;gbtree&#x27;, callbacks=None,\n",
       "             colsample_bylevel=1, colsample_bynode=1, colsample_bytree=1,\n",
       "             early_stopping_rounds=None, enable_categorical=False,\n",
       "             eval_metric=&lt;function mean_squared_error at 0x7f8684ca6a70&gt;,\n",
       "             gamma=0, gpu_id=-1, grow_policy=&#x27;depthwise&#x27;, importance_type=None,\n",
       "             interaction_constraints=&#x27;&#x27;, learning_rate=0.300000012, max_bin=256,\n",
       "             max_cat_to_onehot=4, max_delta_step=0, max_depth=6, max_leaves=0,\n",
       "             min_child_weight=1, missing=nan, monotone_constraints=&#x27;()&#x27;,\n",
       "             n_estimators=100, n_jobs=0, num_parallel_tree=1, predictor=&#x27;auto&#x27;,\n",
       "             random_state=0, reg_alpha=0, reg_lambda=1, ...)</pre></div></div></div></div></div>"
      ],
      "text/plain": [
       "XGBRegressor(base_score=0.5, booster='gbtree', callbacks=None,\n",
       "             colsample_bylevel=1, colsample_bynode=1, colsample_bytree=1,\n",
       "             early_stopping_rounds=None, enable_categorical=False,\n",
       "             eval_metric=<function mean_squared_error at 0x7f8684ca6a70>,\n",
       "             gamma=0, gpu_id=-1, grow_policy='depthwise', importance_type=None,\n",
       "             interaction_constraints='', learning_rate=0.300000012, max_bin=256,\n",
       "             max_cat_to_onehot=4, max_delta_step=0, max_depth=6, max_leaves=0,\n",
       "             min_child_weight=1, missing=nan, monotone_constraints='()',\n",
       "             n_estimators=100, n_jobs=0, num_parallel_tree=1, predictor='auto',\n",
       "             random_state=0, reg_alpha=0, reg_lambda=1, ...)"
      ]
     },
     "execution_count": 6,
     "metadata": {},
     "output_type": "execute_result"
    }
   ],
   "source": [
    "reg = xgb.XGBRegressor(\n",
    "    tree_method=\"hist\",\n",
    "    eval_metric=mean_squared_error,\n",
    ")\n",
    "reg.fit(X_train_train, y_train_train, eval_set=[(X_train_test, y_train_test)], verbose=True)"
   ]
  },
  {
   "cell_type": "code",
   "execution_count": 7,
   "metadata": {},
   "outputs": [
    {
     "name": "stdout",
     "output_type": "stream",
     "text": [
      "MSE 922,242,926\n"
     ]
    },
    {
     "data": {
      "image/png": "[encoded data removed]",
      "text/plain": [
       "<Figure size 432x288 with 1 Axes>"
      ]
     },
     "metadata": {
      "needs_background": "light"
     },
     "output_type": "display_data"
    }
   ],
   "source": [
    "# evaluate the model\n",
    "y_pred = reg.predict(X_train_test)\n",
    "print(\"MSE\", f\"{mean_squared_error(y_train_test, y_pred):,.0f}\")\n",
    "plt.hist(y_pred - y_train_test, bins=100)\n",
    "plt.show()"
   ]
  },
  {
   "cell_type": "code",
   "execution_count": 8,
   "metadata": {},
   "outputs": [
    {
     "name": "stdout",
     "output_type": "stream",
     "text": [
      "Predicted: 254,028\t Actual: 215,000\t Difference: 39,028\n",
      "Predicted: 243,677\t Actual: 230,000\t Difference: 13,677\n",
      "Predicted: 164,832\t Actual: 163,900\t Difference: 932\n",
      "Predicted: 180,065\t Actual: 174,500\t Difference: 5,565\n",
      "Predicted: 148,915\t Actual: 155,900\t Difference: -6,985\n",
      "Predicted: 299,123\t Actual: 315,000\t Difference: -15,877\n",
      "Predicted: 272,981\t Actual: 274,300\t Difference: -1,319\n",
      "Predicted: 220,523\t Actual: 215,000\t Difference: 5,523\n",
      "Predicted: 128,648\t Actual: 133,000\t Difference: -4,352\n",
      "Predicted: 231,884\t Actual: 274,725\t Difference: -42,841\n"
     ]
    }
   ],
   "source": [
    "for i in np.random.randint(0, X_train_test.shape[0], 10):\n",
    "    p = reg.predict(X_train_test[i:i+1])\n",
    "    print(f\"Predicted: {p[0]:,.0f}\\t\", f\"Actual: {y_train_test[i]:,.0f}\\t\", f\"Difference: {p[0] - y_train_test[i]:,.0f}\")"
   ]
  },
  {
   "cell_type": "markdown",
   "metadata": {},
   "source": [
    "# Train Linear Regression"
   ]
  },
  {
   "cell_type": "code",
   "execution_count": 9,
   "metadata": {},
   "outputs": [],
   "source": [
    "from sklearn.linear_model import LinearRegression\n",
    "from sklearn.metrics import mean_squared_error"
   ]
  },
  {
   "cell_type": "code",
   "execution_count": 10,
   "metadata": {},
   "outputs": [
    {
     "name": "stdout",
     "output_type": "stream",
     "text": [
      "MSE 2,113,208,088\n"
     ]
    }
   ],
   "source": [
    "lm = LinearRegression()\n",
    "lm.fit(X_train_train, y_train_train, regu)\n",
    "\n",
    "# evaluate the model\n",
    "y_pred = lm.predict(X_train_test)\n",
    "print(\"MSE\", f\"{mean_squared_error(y_train_test, y_pred):,.0f}\")"
   ]
  },
  {
   "cell_type": "code",
   "execution_count": 11,
   "metadata": {},
   "outputs": [
    {
     "data": {
      "text/plain": [
       "0.6558110512864359"
      ]
     },
     "execution_count": 11,
     "metadata": {},
     "output_type": "execute_result"
    }
   ],
   "source": [
    "lm.score(X_train_test, y_train_test)"
   ]
  },
  {
   "cell_type": "code",
   "execution_count": null,
   "metadata": {},
   "outputs": [],
   "source": []
  }
 ],
 "metadata": {
  "kernelspec": {
   "display_name": ".env",
   "language": "python",
   "name": ".env"
  },
  "language_info": {
   "codemirror_mode": {
    "name": "ipython",
    "version": 3
   },
   "file_extension": ".py",
   "mimetype": "text/x-python",
   "name": "python",
   "nbconvert_exporter": "python",
   "pygments_lexer": "ipython3",
   "version": "3.10.5"
  },
  "orig_nbformat": 4,
  "vscode": {
   "interpreter": {
    "hash": "f9f85f796d01129d0dd105a088854619f454435301f6ffec2fea96ecbd9be4ac"
   }
  }
 },
 "nbformat": 4,
 "nbformat_minor": 2
}
