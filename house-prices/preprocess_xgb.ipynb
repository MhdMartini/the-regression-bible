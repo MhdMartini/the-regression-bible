{
 "cells": [
  {
   "cell_type": "code",
   "execution_count": 1,
   "metadata": {
    "execution": {
     "iopub.execute_input": "2022-07-19T03:12:52.647224Z",
     "iopub.status.busy": "2022-07-19T03:12:52.646739Z",
     "iopub.status.idle": "2022-07-19T03:12:52.654305Z",
     "shell.execute_reply": "2022-07-19T03:12:52.653328Z",
     "shell.execute_reply.started": "2022-07-19T03:12:52.647184Z"
    }
   },
   "outputs": [],
   "source": [
    "from sklearn.metrics import mean_squared_error\n",
    "from sklearn.preprocessing import StandardScaler, PolynomialFeatures, OrdinalEncoder\n",
    "from sklearn.model_selection import KFold, cross_val_score\n",
    "from sklearn.impute import KNNImputer\n",
    "from sklearn.model_selection import GridSearchCV\n",
    "from pycaret.regression import setup, compare_models\n",
    "import xgboost as xgb\n",
    "import matplotlib.pyplot as plt\n",
    "import seaborn as sns\n",
    "from tqdm import tqdm\n",
    "import numpy as np\n",
    "import pandas as pd\n",
    "import multiprocessing"
   ]
  },
  {
   "cell_type": "code",
   "execution_count": 2,
   "metadata": {
    "execution": {
     "iopub.execute_input": "2022-07-19T01:27:29.845141Z",
     "iopub.status.busy": "2022-07-19T01:27:29.844734Z",
     "iopub.status.idle": "2022-07-19T01:27:30.165473Z",
     "shell.execute_reply": "2022-07-19T01:27:30.164238Z",
     "shell.execute_reply.started": "2022-07-19T01:27:29.845110Z"
    }
   },
   "outputs": [],
   "source": [
    "from sklearn.ensemble import GradientBoostingRegressor, RandomForestRegressor, ExtraTreesRegressor\n",
    "from sklearn.linear_model import BayesianRidge, OrthogonalMatchingPursuit, LinearRegression, Lasso, Ridge\n",
    "from xgboost import XGBRegressor\n",
    "from lightgbm import LGBMRegressor"
   ]
  },
  {
   "cell_type": "markdown",
   "metadata": {},
   "source": [
    "# Read train and test sets"
   ]
  },
  {
   "cell_type": "code",
   "execution_count": 3,
   "metadata": {
    "execution": {
     "iopub.execute_input": "2022-07-19T00:15:46.484189Z",
     "iopub.status.busy": "2022-07-19T00:15:46.483718Z",
     "iopub.status.idle": "2022-07-19T00:15:46.544478Z",
     "shell.execute_reply": "2022-07-19T00:15:46.543427Z",
     "shell.execute_reply.started": "2022-07-19T00:15:46.484131Z"
    }
   },
   "outputs": [],
   "source": [
    "df_train = pd.read_csv(\"data/train.csv\")\n",
    "df_test = pd.read_csv(\"data/test.csv\")"
   ]
  },
  {
   "cell_type": "markdown",
   "metadata": {},
   "source": [
    "# Store both dfs lengths"
   ]
  },
  {
   "cell_type": "code",
   "execution_count": 4,
   "metadata": {
    "execution": {
     "iopub.execute_input": "2022-07-19T00:15:46.546314Z",
     "iopub.status.busy": "2022-07-19T00:15:46.545792Z",
     "iopub.status.idle": "2022-07-19T00:15:46.554645Z",
     "shell.execute_reply": "2022-07-19T00:15:46.553392Z",
     "shell.execute_reply.started": "2022-07-19T00:15:46.546284Z"
    }
   },
   "outputs": [
    {
     "data": {
      "text/plain": [
       "(1460, 1459)"
      ]
     },
     "execution_count": 4,
     "metadata": {},
     "output_type": "execute_result"
    }
   ],
   "source": [
    "m_train = df_train.shape[0]\n",
    "m_test = df_test.shape[0]\n",
    "m_train, m_test"
   ]
  },
  {
   "cell_type": "markdown",
   "metadata": {},
   "source": [
    "# Concat the dfs"
   ]
  },
  {
   "cell_type": "code",
   "execution_count": 5,
   "metadata": {
    "execution": {
     "iopub.execute_input": "2022-07-19T00:15:49.015711Z",
     "iopub.status.busy": "2022-07-19T00:15:49.015327Z",
     "iopub.status.idle": "2022-07-19T00:15:49.038720Z",
     "shell.execute_reply": "2022-07-19T00:15:49.037716Z",
     "shell.execute_reply.started": "2022-07-19T00:15:49.015682Z"
    }
   },
   "outputs": [],
   "source": [
    "df = pd.concat([df_train, df_test])\n",
    "assert df.shape[0] == m_train + m_test"
   ]
  },
  {
   "cell_type": "code",
   "execution_count": 6,
   "metadata": {
    "execution": {
     "iopub.execute_input": "2022-07-19T00:15:49.426075Z",
     "iopub.status.busy": "2022-07-19T00:15:49.424898Z",
     "iopub.status.idle": "2022-07-19T00:15:49.459455Z",
     "shell.execute_reply": "2022-07-19T00:15:49.458148Z",
     "shell.execute_reply.started": "2022-07-19T00:15:49.426024Z"
    }
   },
   "outputs": [
    {
     "data": {
      "text/html": [
       "<div>\n",
       "<style scoped>\n",
       "    .dataframe tbody tr th:only-of-type {\n",
       "        vertical-align: middle;\n",
       "    }\n",
       "\n",
       "    .dataframe tbody tr th {\n",
       "        vertical-align: top;\n",
       "    }\n",
       "\n",
       "    .dataframe thead th {\n",
       "        text-align: right;\n",
       "    }\n",
       "</style>\n",
       "<table border=\"1\" class=\"dataframe\">\n",
       "  <thead>\n",
       "    <tr style=\"text-align: right;\">\n",
       "      <th></th>\n",
       "      <th>Id</th>\n",
       "      <th>MSSubClass</th>\n",
       "      <th>MSZoning</th>\n",
       "      <th>LotFrontage</th>\n",
       "      <th>LotArea</th>\n",
       "      <th>Street</th>\n",
       "      <th>Alley</th>\n",
       "      <th>LotShape</th>\n",
       "      <th>LandContour</th>\n",
       "      <th>Utilities</th>\n",
       "      <th>...</th>\n",
       "      <th>PoolArea</th>\n",
       "      <th>PoolQC</th>\n",
       "      <th>Fence</th>\n",
       "      <th>MiscFeature</th>\n",
       "      <th>MiscVal</th>\n",
       "      <th>MoSold</th>\n",
       "      <th>YrSold</th>\n",
       "      <th>SaleType</th>\n",
       "      <th>SaleCondition</th>\n",
       "      <th>SalePrice</th>\n",
       "    </tr>\n",
       "  </thead>\n",
       "  <tbody>\n",
       "    <tr>\n",
       "      <th>0</th>\n",
       "      <td>1</td>\n",
       "      <td>60</td>\n",
       "      <td>RL</td>\n",
       "      <td>65.0</td>\n",
       "      <td>8450</td>\n",
       "      <td>Pave</td>\n",
       "      <td>NaN</td>\n",
       "      <td>Reg</td>\n",
       "      <td>Lvl</td>\n",
       "      <td>AllPub</td>\n",
       "      <td>...</td>\n",
       "      <td>0</td>\n",
       "      <td>NaN</td>\n",
       "      <td>NaN</td>\n",
       "      <td>NaN</td>\n",
       "      <td>0</td>\n",
       "      <td>2</td>\n",
       "      <td>2008</td>\n",
       "      <td>WD</td>\n",
       "      <td>Normal</td>\n",
       "      <td>208500.0</td>\n",
       "    </tr>\n",
       "    <tr>\n",
       "      <th>1</th>\n",
       "      <td>2</td>\n",
       "      <td>20</td>\n",
       "      <td>RL</td>\n",
       "      <td>80.0</td>\n",
       "      <td>9600</td>\n",
       "      <td>Pave</td>\n",
       "      <td>NaN</td>\n",
       "      <td>Reg</td>\n",
       "      <td>Lvl</td>\n",
       "      <td>AllPub</td>\n",
       "      <td>...</td>\n",
       "      <td>0</td>\n",
       "      <td>NaN</td>\n",
       "      <td>NaN</td>\n",
       "      <td>NaN</td>\n",
       "      <td>0</td>\n",
       "      <td>5</td>\n",
       "      <td>2007</td>\n",
       "      <td>WD</td>\n",
       "      <td>Normal</td>\n",
       "      <td>181500.0</td>\n",
       "    </tr>\n",
       "    <tr>\n",
       "      <th>2</th>\n",
       "      <td>3</td>\n",
       "      <td>60</td>\n",
       "      <td>RL</td>\n",
       "      <td>68.0</td>\n",
       "      <td>11250</td>\n",
       "      <td>Pave</td>\n",
       "      <td>NaN</td>\n",
       "      <td>IR1</td>\n",
       "      <td>Lvl</td>\n",
       "      <td>AllPub</td>\n",
       "      <td>...</td>\n",
       "      <td>0</td>\n",
       "      <td>NaN</td>\n",
       "      <td>NaN</td>\n",
       "      <td>NaN</td>\n",
       "      <td>0</td>\n",
       "      <td>9</td>\n",
       "      <td>2008</td>\n",
       "      <td>WD</td>\n",
       "      <td>Normal</td>\n",
       "      <td>223500.0</td>\n",
       "    </tr>\n",
       "    <tr>\n",
       "      <th>3</th>\n",
       "      <td>4</td>\n",
       "      <td>70</td>\n",
       "      <td>RL</td>\n",
       "      <td>60.0</td>\n",
       "      <td>9550</td>\n",
       "      <td>Pave</td>\n",
       "      <td>NaN</td>\n",
       "      <td>IR1</td>\n",
       "      <td>Lvl</td>\n",
       "      <td>AllPub</td>\n",
       "      <td>...</td>\n",
       "      <td>0</td>\n",
       "      <td>NaN</td>\n",
       "      <td>NaN</td>\n",
       "      <td>NaN</td>\n",
       "      <td>0</td>\n",
       "      <td>2</td>\n",
       "      <td>2006</td>\n",
       "      <td>WD</td>\n",
       "      <td>Abnorml</td>\n",
       "      <td>140000.0</td>\n",
       "    </tr>\n",
       "    <tr>\n",
       "      <th>4</th>\n",
       "      <td>5</td>\n",
       "      <td>60</td>\n",
       "      <td>RL</td>\n",
       "      <td>84.0</td>\n",
       "      <td>14260</td>\n",
       "      <td>Pave</td>\n",
       "      <td>NaN</td>\n",
       "      <td>IR1</td>\n",
       "      <td>Lvl</td>\n",
       "      <td>AllPub</td>\n",
       "      <td>...</td>\n",
       "      <td>0</td>\n",
       "      <td>NaN</td>\n",
       "      <td>NaN</td>\n",
       "      <td>NaN</td>\n",
       "      <td>0</td>\n",
       "      <td>12</td>\n",
       "      <td>2008</td>\n",
       "      <td>WD</td>\n",
       "      <td>Normal</td>\n",
       "      <td>250000.0</td>\n",
       "    </tr>\n",
       "  </tbody>\n",
       "</table>\n",
       "<p>5 rows × 81 columns</p>\n",
       "</div>"
      ],
      "text/plain": [
       "   Id  MSSubClass MSZoning  LotFrontage  LotArea Street Alley LotShape  \\\n",
       "0   1          60       RL         65.0     8450   Pave   NaN      Reg   \n",
       "1   2          20       RL         80.0     9600   Pave   NaN      Reg   \n",
       "2   3          60       RL         68.0    11250   Pave   NaN      IR1   \n",
       "3   4          70       RL         60.0     9550   Pave   NaN      IR1   \n",
       "4   5          60       RL         84.0    14260   Pave   NaN      IR1   \n",
       "\n",
       "  LandContour Utilities  ... PoolArea PoolQC Fence MiscFeature MiscVal MoSold  \\\n",
       "0         Lvl    AllPub  ...        0    NaN   NaN         NaN       0      2   \n",
       "1         Lvl    AllPub  ...        0    NaN   NaN         NaN       0      5   \n",
       "2         Lvl    AllPub  ...        0    NaN   NaN         NaN       0      9   \n",
       "3         Lvl    AllPub  ...        0    NaN   NaN         NaN       0      2   \n",
       "4         Lvl    AllPub  ...        0    NaN   NaN         NaN       0     12   \n",
       "\n",
       "  YrSold  SaleType  SaleCondition  SalePrice  \n",
       "0   2008        WD         Normal   208500.0  \n",
       "1   2007        WD         Normal   181500.0  \n",
       "2   2008        WD         Normal   223500.0  \n",
       "3   2006        WD        Abnorml   140000.0  \n",
       "4   2008        WD         Normal   250000.0  \n",
       "\n",
       "[5 rows x 81 columns]"
      ]
     },
     "execution_count": 6,
     "metadata": {},
     "output_type": "execute_result"
    }
   ],
   "source": [
    "df.head()"
   ]
  },
  {
   "cell_type": "markdown",
   "metadata": {},
   "source": [
    "# Save target"
   ]
  },
  {
   "cell_type": "code",
   "execution_count": 7,
   "metadata": {
    "execution": {
     "iopub.execute_input": "2022-07-19T00:15:51.965398Z",
     "iopub.status.busy": "2022-07-19T00:15:51.964094Z",
     "iopub.status.idle": "2022-07-19T00:15:51.970349Z",
     "shell.execute_reply": "2022-07-19T00:15:51.969234Z",
     "shell.execute_reply.started": "2022-07-19T00:15:51.965357Z"
    }
   },
   "outputs": [],
   "source": [
    "target_col, target = \"SalePrice\", df[\"SalePrice\"]"
   ]
  },
  {
   "cell_type": "markdown",
   "metadata": {},
   "source": [
    "#  Drop Id and target columns"
   ]
  },
  {
   "cell_type": "code",
   "execution_count": 8,
   "metadata": {
    "execution": {
     "iopub.execute_input": "2022-07-19T00:15:54.481754Z",
     "iopub.status.busy": "2022-07-19T00:15:54.481279Z",
     "iopub.status.idle": "2022-07-19T00:15:54.496802Z",
     "shell.execute_reply": "2022-07-19T00:15:54.495657Z",
     "shell.execute_reply.started": "2022-07-19T00:15:54.481714Z"
    }
   },
   "outputs": [],
   "source": [
    "cols_to_drop = [\"Id\", target_col]\n",
    "df.drop(cols_to_drop, axis=1, inplace=True)"
   ]
  },
  {
   "cell_type": "markdown",
   "metadata": {},
   "source": [
    "# View and fix columns data-types"
   ]
  },
  {
   "cell_type": "code",
   "execution_count": 9,
   "metadata": {
    "execution": {
     "iopub.execute_input": "2022-07-19T00:15:59.205756Z",
     "iopub.status.busy": "2022-07-19T00:15:59.205302Z",
     "iopub.status.idle": "2022-07-19T00:15:59.217083Z",
     "shell.execute_reply": "2022-07-19T00:15:59.216215Z",
     "shell.execute_reply.started": "2022-07-19T00:15:59.205723Z"
    }
   },
   "outputs": [
    {
     "data": {
      "text/plain": [
       "Index(['MSZoning', 'Street', 'Alley', 'LotShape', 'LandContour', 'Utilities',\n",
       "       'LotConfig', 'LandSlope', 'Neighborhood', 'Condition1', 'Condition2',\n",
       "       'BldgType', 'HouseStyle', 'RoofStyle', 'RoofMatl', 'Exterior1st',\n",
       "       'Exterior2nd', 'MasVnrType', 'ExterQual', 'ExterCond', 'Foundation',\n",
       "       'BsmtQual', 'BsmtCond', 'BsmtExposure', 'BsmtFinType1', 'BsmtFinType2',\n",
       "       'Heating', 'HeatingQC', 'CentralAir', 'Electrical', 'KitchenQual',\n",
       "       'Functional', 'FireplaceQu', 'GarageType', 'GarageFinish', 'GarageQual',\n",
       "       'GarageCond', 'PavedDrive', 'PoolQC', 'Fence', 'MiscFeature',\n",
       "       'SaleType', 'SaleCondition'],\n",
       "      dtype='object')"
      ]
     },
     "execution_count": 9,
     "metadata": {},
     "output_type": "execute_result"
    }
   ],
   "source": [
    "df.select_dtypes(object).columns"
   ]
  },
  {
   "cell_type": "code",
   "execution_count": 10,
   "metadata": {
    "execution": {
     "iopub.execute_input": "2022-07-19T00:15:59.419853Z",
     "iopub.status.busy": "2022-07-19T00:15:59.419413Z",
     "iopub.status.idle": "2022-07-19T00:15:59.429501Z",
     "shell.execute_reply": "2022-07-19T00:15:59.428693Z",
     "shell.execute_reply.started": "2022-07-19T00:15:59.419816Z"
    }
   },
   "outputs": [
    {
     "data": {
      "text/plain": [
       "Index(['MSSubClass', 'LotFrontage', 'LotArea', 'OverallQual', 'OverallCond',\n",
       "       'YearBuilt', 'YearRemodAdd', 'MasVnrArea', 'BsmtFinSF1', 'BsmtFinSF2',\n",
       "       'BsmtUnfSF', 'TotalBsmtSF', '1stFlrSF', '2ndFlrSF', 'LowQualFinSF',\n",
       "       'GrLivArea', 'BsmtFullBath', 'BsmtHalfBath', 'FullBath', 'HalfBath',\n",
       "       'BedroomAbvGr', 'KitchenAbvGr', 'TotRmsAbvGrd', 'Fireplaces',\n",
       "       'GarageYrBlt', 'GarageCars', 'GarageArea', 'WoodDeckSF', 'OpenPorchSF',\n",
       "       'EnclosedPorch', '3SsnPorch', 'ScreenPorch', 'PoolArea', 'MiscVal',\n",
       "       'MoSold', 'YrSold'],\n",
       "      dtype='object')"
      ]
     },
     "execution_count": 10,
     "metadata": {},
     "output_type": "execute_result"
    }
   ],
   "source": [
    "df.select_dtypes(np.number).columns"
   ]
  },
  {
   "cell_type": "code",
   "execution_count": 11,
   "metadata": {
    "execution": {
     "iopub.execute_input": "2022-07-19T00:16:01.640213Z",
     "iopub.status.busy": "2022-07-19T00:16:01.639178Z",
     "iopub.status.idle": "2022-07-19T00:16:01.647811Z",
     "shell.execute_reply": "2022-07-19T00:16:01.646921Z",
     "shell.execute_reply.started": "2022-07-19T00:16:01.640142Z"
    }
   },
   "outputs": [],
   "source": [
    "num_to_obj_cols = ['MSSubClass', 'MoSold']\n",
    "df[num_to_obj_cols] = df[num_to_obj_cols].astype(object)"
   ]
  },
  {
   "cell_type": "code",
   "execution_count": 12,
   "metadata": {
    "execution": {
     "iopub.execute_input": "2022-07-19T00:16:02.911467Z",
     "iopub.status.busy": "2022-07-19T00:16:02.910584Z",
     "iopub.status.idle": "2022-07-19T00:16:02.924249Z",
     "shell.execute_reply": "2022-07-19T00:16:02.923111Z",
     "shell.execute_reply.started": "2022-07-19T00:16:02.911420Z"
    }
   },
   "outputs": [],
   "source": [
    "cols_cat = df.select_dtypes(object).columns\n",
    "cols_num = df.select_dtypes(np.number).columns"
   ]
  },
  {
   "cell_type": "markdown",
   "metadata": {},
   "source": [
    "# Impute categorical columns"
   ]
  },
  {
   "cell_type": "code",
   "execution_count": 13,
   "metadata": {
    "execution": {
     "iopub.execute_input": "2022-07-19T00:37:48.542054Z",
     "iopub.status.busy": "2022-07-19T00:37:48.541677Z",
     "iopub.status.idle": "2022-07-19T00:37:48.584083Z",
     "shell.execute_reply": "2022-07-19T00:37:48.582567Z",
     "shell.execute_reply.started": "2022-07-19T00:37:48.542023Z"
    }
   },
   "outputs": [
    {
     "data": {
      "text/plain": [
       "MSZoning           4\n",
       "Alley           2721\n",
       "Utilities          2\n",
       "Exterior1st        1\n",
       "Exterior2nd        1\n",
       "MasVnrType        24\n",
       "BsmtQual          81\n",
       "BsmtCond          82\n",
       "BsmtExposure      82\n",
       "BsmtFinType1      79\n",
       "BsmtFinType2      80\n",
       "Electrical         1\n",
       "KitchenQual        1\n",
       "Functional         2\n",
       "FireplaceQu     1420\n",
       "GarageType       157\n",
       "GarageFinish     159\n",
       "GarageQual       159\n",
       "GarageCond       159\n",
       "PoolQC          2909\n",
       "Fence           2348\n",
       "MiscFeature     2814\n",
       "SaleType           1\n",
       "dtype: int64"
      ]
     },
     "execution_count": 13,
     "metadata": {},
     "output_type": "execute_result"
    }
   ],
   "source": [
    "cols_cat_na = df[cols_cat].isnull().sum()[df[cols_cat].isnull().sum() > 0]\n",
    "cols_cat_na"
   ]
  },
  {
   "cell_type": "code",
   "execution_count": 14,
   "metadata": {
    "execution": {
     "iopub.execute_input": "2022-07-19T00:57:32.964932Z",
     "iopub.status.busy": "2022-07-19T00:57:32.964191Z",
     "iopub.status.idle": "2022-07-19T00:57:33.017991Z",
     "shell.execute_reply": "2022-07-19T00:57:33.016726Z",
     "shell.execute_reply.started": "2022-07-19T00:57:32.964876Z"
    }
   },
   "outputs": [
    {
     "data": {
      "text/plain": [
       "0"
      ]
     },
     "execution_count": 14,
     "metadata": {},
     "output_type": "execute_result"
    }
   ],
   "source": [
    "mode_filled_cols = [\"MSZoning\", \"Utilities\", \"Exterior1st\", \"Exterior2nd\", \"MasVnrType\", \"Electrical\", \"KitchenQual\", \"Functional\", \"SaleType\"]\n",
    "for col in mode_filled_cols:\n",
    "    df[col].fillna(df[col].mode()[0], inplace=True)\n",
    "\n",
    "none_filled_cols = [\"Alley\", \"BsmtQual\", \"BsmtCond\", \"BsmtExposure\", \"BsmtFinType1\", \"BsmtFinType2\", \"FireplaceQu\", \"GarageType\", \"GarageFinish\", \"GarageQual\", \"GarageCond\", \"PoolQC\", \"Fence\", \"MiscFeature\"]\n",
    "for col in none_filled_cols:\n",
    "    df[col].fillna(\"None\", inplace=True)\n",
    "    \n",
    "df[cols_cat].isnull().sum().sum()"
   ]
  },
  {
   "cell_type": "markdown",
   "metadata": {},
   "source": [
    "# Impute numerical columns"
   ]
  },
  {
   "cell_type": "code",
   "execution_count": 15,
   "metadata": {
    "execution": {
     "iopub.execute_input": "2022-07-19T00:58:57.776744Z",
     "iopub.status.busy": "2022-07-19T00:58:57.776305Z",
     "iopub.status.idle": "2022-07-19T00:58:57.791753Z",
     "shell.execute_reply": "2022-07-19T00:58:57.790732Z",
     "shell.execute_reply.started": "2022-07-19T00:58:57.776711Z"
    }
   },
   "outputs": [
    {
     "data": {
      "text/plain": [
       "LotFrontage     486\n",
       "MasVnrArea       23\n",
       "BsmtFinSF1        1\n",
       "BsmtFinSF2        1\n",
       "BsmtUnfSF         1\n",
       "TotalBsmtSF       1\n",
       "BsmtFullBath      2\n",
       "BsmtHalfBath      2\n",
       "GarageYrBlt     159\n",
       "GarageCars        1\n",
       "GarageArea        1\n",
       "dtype: int64"
      ]
     },
     "execution_count": 15,
     "metadata": {},
     "output_type": "execute_result"
    }
   ],
   "source": [
    "cols_num_na = df[cols_num].isnull().sum()[df[cols_num].isnull().sum() > 0]\n",
    "cols_num_na"
   ]
  },
  {
   "cell_type": "code",
   "execution_count": 16,
   "metadata": {
    "execution": {
     "iopub.execute_input": "2022-07-19T01:20:00.267818Z",
     "iopub.status.busy": "2022-07-19T01:20:00.267245Z",
     "iopub.status.idle": "2022-07-19T01:20:00.278101Z",
     "shell.execute_reply": "2022-07-19T01:20:00.276762Z",
     "shell.execute_reply.started": "2022-07-19T01:20:00.267773Z"
    }
   },
   "outputs": [],
   "source": [
    "zero_filled_cols = [\"BsmtFinSF1\", \"BsmtFinSF2\", \"BsmtUnfSF\", \"TotalBsmtSF\", \"BsmtFullBath\", \"BsmtHalfBath\"]\n",
    "for col in zero_filled_cols:\n",
    "    df[col].fillna(0, inplace=True)"
   ]
  },
  {
   "cell_type": "code",
   "execution_count": 17,
   "metadata": {
    "execution": {
     "iopub.execute_input": "2022-07-19T01:20:07.180508Z",
     "iopub.status.busy": "2022-07-19T01:20:07.180084Z",
     "iopub.status.idle": "2022-07-19T01:20:07.197069Z",
     "shell.execute_reply": "2022-07-19T01:20:07.196027Z",
     "shell.execute_reply.started": "2022-07-19T01:20:07.180475Z"
    }
   },
   "outputs": [
    {
     "data": {
      "text/plain": [
       "LotFrontage    486\n",
       "MasVnrArea      23\n",
       "GarageYrBlt    159\n",
       "GarageCars       1\n",
       "GarageArea       1\n",
       "dtype: int64"
      ]
     },
     "execution_count": 17,
     "metadata": {},
     "output_type": "execute_result"
    }
   ],
   "source": [
    "cols_num_na = df[cols_num].isnull().sum()[df[cols_num].isnull().sum() > 0]\n",
    "cols_num_na"
   ]
  },
  {
   "cell_type": "code",
   "execution_count": 18,
   "metadata": {
    "execution": {
     "iopub.execute_input": "2022-07-19T01:59:09.163843Z",
     "iopub.status.busy": "2022-07-19T01:59:09.163408Z",
     "iopub.status.idle": "2022-07-19T01:59:09.175097Z",
     "shell.execute_reply": "2022-07-19T01:59:09.174139Z",
     "shell.execute_reply.started": "2022-07-19T01:59:09.163807Z"
    }
   },
   "outputs": [],
   "source": [
    "def gbr_imputer(df, cols_num_na):\n",
    "    imputer = KNNImputer(n_neighbors=4)\n",
    "    df_c = df.copy()\n",
    "    df_d = pd.get_dummies(df_c)\n",
    "    for col in tqdm(cols_num_na):\n",
    "        df_i = df_d.copy()\n",
    "        X, y = df_i.drop(col, axis=1), df[col]\n",
    "        X[:] = imputer.fit_transform(X)\n",
    "        \n",
    "        train_indexes, test_indexes = ~df_i[col].isnull(), df_i[col].isnull()\n",
    "        X_train, X_test = X.loc[train_indexes, :], X.loc[test_indexes, :]\n",
    "        y_train, y_test = y.loc[train_indexes], y.loc[test_indexes]\n",
    "        \n",
    "        model = GradientBoostingRegressor(n_estimators=X.shape[1] * 2, max_depth=4)\n",
    "        model.fit(X_train, y_train)\n",
    "        df.loc[df[col].isnull(), col] = model.predict(X_test)\n",
    "    return df"
   ]
  },
  {
   "cell_type": "code",
   "execution_count": 19,
   "metadata": {
    "execution": {
     "iopub.execute_input": "2022-07-19T01:59:09.279070Z",
     "iopub.status.busy": "2022-07-19T01:59:09.278278Z",
     "iopub.status.idle": "2022-07-19T02:02:25.387263Z",
     "shell.execute_reply": "2022-07-19T02:02:25.385917Z",
     "shell.execute_reply.started": "2022-07-19T01:59:09.279021Z"
    }
   },
   "outputs": [
    {
     "name": "stderr",
     "output_type": "stream",
     "text": [
      "100%|█████████████████████████████████████████████| 5/5 [01:08<00:00, 13.69s/it]\n"
     ]
    },
    {
     "data": {
      "text/plain": [
       "0"
      ]
     },
     "execution_count": 19,
     "metadata": {},
     "output_type": "execute_result"
    }
   ],
   "source": [
    "df = gbr_imputer(df, cols_num_na.index)\n",
    "df.isnull().sum().sum()"
   ]
  },
  {
   "cell_type": "markdown",
   "metadata": {},
   "source": [
    "# Feature selection"
   ]
  },
  {
   "cell_type": "code",
   "execution_count": 20,
   "metadata": {
    "execution": {
     "iopub.execute_input": "2022-07-19T02:40:35.462127Z",
     "iopub.status.busy": "2022-07-19T02:40:35.461679Z",
     "iopub.status.idle": "2022-07-19T02:40:35.469460Z",
     "shell.execute_reply": "2022-07-19T02:40:35.468500Z",
     "shell.execute_reply.started": "2022-07-19T02:40:35.462092Z"
    }
   },
   "outputs": [],
   "source": [
    "def get_del_cols(df):\n",
    "    # return the columns where no more than one value in the categorical features\n",
    "    # exists in the test data - those features can be ignored\n",
    "    cols_to_drop = []\n",
    "    for col in df.select_dtypes(object).columns:\n",
    "        col_vals = df[col].unique()\n",
    "        n_vals = len(col_vals)\n",
    "        n_irrelevant = 0\n",
    "        for val in col_vals:\n",
    "            if val not in df[col][m_train:].values:\n",
    "                n_irrelevant += 1\n",
    "        if n_irrelevant >= n_vals - 1:\n",
    "            cols_to_drop.append(col)\n",
    "    return cols_to_drop"
   ]
  },
  {
   "cell_type": "code",
   "execution_count": 21,
   "metadata": {
    "execution": {
     "iopub.execute_input": "2022-07-19T02:40:36.223819Z",
     "iopub.status.busy": "2022-07-19T02:40:36.223230Z",
     "iopub.status.idle": "2022-07-19T02:40:36.287108Z",
     "shell.execute_reply": "2022-07-19T02:40:36.285923Z",
     "shell.execute_reply.started": "2022-07-19T02:40:36.223788Z"
    }
   },
   "outputs": [
    {
     "data": {
      "text/plain": [
       "['Utilities']"
      ]
     },
     "execution_count": 21,
     "metadata": {},
     "output_type": "execute_result"
    }
   ],
   "source": [
    "cols_to_drop = get_del_cols(df)\n",
    "df.drop(cols_to_drop, axis=1, inplace=True)\n",
    "cols_to_drop"
   ]
  },
  {
   "cell_type": "markdown",
   "metadata": {},
   "source": [
    "# Change ordinal columns to numeric, and encode accordingly"
   ]
  },
  {
   "cell_type": "code",
   "execution_count": 22,
   "metadata": {
    "execution": {
     "iopub.execute_input": "2022-07-19T03:06:46.780201Z",
     "iopub.status.busy": "2022-07-19T03:06:46.779763Z",
     "iopub.status.idle": "2022-07-19T03:06:46.792519Z",
     "shell.execute_reply": "2022-07-19T03:06:46.791254Z",
     "shell.execute_reply.started": "2022-07-19T03:06:46.780139Z"
    }
   },
   "outputs": [
    {
     "data": {
      "text/plain": [
       "Index(['MSSubClass', 'MSZoning', 'Street', 'Alley', 'LotShape', 'LandContour',\n",
       "       'LotConfig', 'LandSlope', 'Neighborhood', 'Condition1', 'Condition2',\n",
       "       'BldgType', 'HouseStyle', 'RoofStyle', 'RoofMatl', 'Exterior1st',\n",
       "       'Exterior2nd', 'MasVnrType', 'ExterQual', 'ExterCond', 'Foundation',\n",
       "       'BsmtQual', 'BsmtCond', 'BsmtExposure', 'BsmtFinType1', 'BsmtFinType2',\n",
       "       'Heating', 'HeatingQC', 'CentralAir', 'Electrical', 'KitchenQual',\n",
       "       'Functional', 'FireplaceQu', 'GarageType', 'GarageFinish', 'GarageQual',\n",
       "       'GarageCond', 'PavedDrive', 'PoolQC', 'Fence', 'MiscFeature',\n",
       "       'SaleType', 'SaleCondition'],\n",
       "      dtype='object')"
      ]
     },
     "execution_count": 22,
     "metadata": {},
     "output_type": "execute_result"
    }
   ],
   "source": [
    "df.select_dtypes(object).columns"
   ]
  },
  {
   "cell_type": "code",
   "execution_count": 23,
   "metadata": {
    "execution": {
     "iopub.execute_input": "2022-07-19T03:17:32.447742Z",
     "iopub.status.busy": "2022-07-19T03:17:32.447320Z",
     "iopub.status.idle": "2022-07-19T03:17:32.464615Z",
     "shell.execute_reply": "2022-07-19T03:17:32.462931Z",
     "shell.execute_reply.started": "2022-07-19T03:17:32.447709Z"
    }
   },
   "outputs": [
    {
     "data": {
      "text/plain": [
       "0.0    1859\n",
       "1.0     968\n",
       "2.0      76\n",
       "3.0      16\n",
       "Name: LotShape, dtype: int64"
      ]
     },
     "execution_count": 23,
     "metadata": {},
     "output_type": "execute_result"
    }
   ],
   "source": [
    "oe = OrdinalEncoder(categories=[['Reg', 'IR1', 'IR2', 'IR3']])\n",
    "df.loc[:, \"LotShape\"] = oe.fit_transform(df[[\"LotShape\"]])\n",
    "df[\"LotShape\"].value_counts()"
   ]
  },
  {
   "cell_type": "code",
   "execution_count": 24,
   "metadata": {
    "execution": {
     "iopub.execute_input": "2022-07-19T03:20:29.852059Z",
     "iopub.status.busy": "2022-07-19T03:20:29.851558Z",
     "iopub.status.idle": "2022-07-19T03:20:29.871730Z",
     "shell.execute_reply": "2022-07-19T03:20:29.870540Z",
     "shell.execute_reply.started": "2022-07-19T03:20:29.852023Z"
    }
   },
   "outputs": [
    {
     "data": {
      "text/plain": [
       "0.0    2778\n",
       "1.0     125\n",
       "2.0      16\n",
       "Name: LandSlope, dtype: int64"
      ]
     },
     "execution_count": 24,
     "metadata": {},
     "output_type": "execute_result"
    }
   ],
   "source": [
    "oe = OrdinalEncoder(categories=[['Gtl', 'Mod', 'Sev']])\n",
    "df.loc[:, \"LandSlope\"] = oe.fit_transform(df[[\"LandSlope\"]])\n",
    "df[\"LandSlope\"].value_counts()"
   ]
  },
  {
   "cell_type": "code",
   "execution_count": 25,
   "metadata": {
    "execution": {
     "iopub.execute_input": "2022-07-19T03:34:12.911770Z",
     "iopub.status.busy": "2022-07-19T03:34:12.911339Z",
     "iopub.status.idle": "2022-07-19T03:34:12.970775Z",
     "shell.execute_reply": "2022-07-19T03:34:12.969748Z",
     "shell.execute_reply.started": "2022-07-19T03:34:12.911738Z"
    }
   },
   "outputs": [],
   "source": [
    "qual_oe = OrdinalEncoder(categories=[['None', 'Po', 'Fa', 'TA', 'Gd', 'Ex']])\n",
    "for col in [\"ExterQual\", \"ExterCond\", 'BsmtQual', 'BsmtCond', 'HeatingQC', 'KitchenQual', 'FireplaceQu', 'GarageQual', 'GarageCond', 'PoolQC']:\n",
    "    df.loc[:, col] = qual_oe.fit_transform(df[[col]])"
   ]
  },
  {
   "cell_type": "code",
   "execution_count": 26,
   "metadata": {
    "execution": {
     "iopub.execute_input": "2022-07-19T03:34:24.578856Z",
     "iopub.status.busy": "2022-07-19T03:34:24.578377Z",
     "iopub.status.idle": "2022-07-19T03:34:24.596778Z",
     "shell.execute_reply": "2022-07-19T03:34:24.595581Z",
     "shell.execute_reply.started": "2022-07-19T03:34:24.578823Z"
    }
   },
   "outputs": [
    {
     "data": {
      "text/plain": [
       "0.0    2778\n",
       "1.0     125\n",
       "2.0      16\n",
       "Name: LandSlope, dtype: int64"
      ]
     },
     "execution_count": 26,
     "metadata": {},
     "output_type": "execute_result"
    }
   ],
   "source": [
    "oe = OrdinalEncoder(categories=[['None', 'No', 'Mn', 'Av', 'Gd']])\n",
    "df.loc[:, \"BsmtExposure\"] = oe.fit_transform(df[[\"BsmtExposure\"]])\n",
    "df[\"LandSlope\"].value_counts()"
   ]
  },
  {
   "cell_type": "code",
   "execution_count": 27,
   "metadata": {
    "execution": {
     "iopub.execute_input": "2022-07-19T03:37:05.802422Z",
     "iopub.status.busy": "2022-07-19T03:37:05.801991Z",
     "iopub.status.idle": "2022-07-19T03:37:05.819578Z",
     "shell.execute_reply": "2022-07-19T03:37:05.818424Z",
     "shell.execute_reply.started": "2022-07-19T03:37:05.802378Z"
    }
   },
   "outputs": [],
   "source": [
    "oe = OrdinalEncoder(categories=[['None', 'Unf', 'LwQ', 'Rec', 'BLQ', 'ALQ', 'GLQ']])\n",
    "for col in [\"BsmtFinType1\", \"BsmtFinType2\"]:\n",
    "    df.loc[:, col] = oe.fit_transform(df[[col]])"
   ]
  },
  {
   "cell_type": "code",
   "execution_count": 28,
   "metadata": {
    "execution": {
     "iopub.execute_input": "2022-07-19T03:37:21.407584Z",
     "iopub.status.busy": "2022-07-19T03:37:21.407120Z",
     "iopub.status.idle": "2022-07-19T03:37:21.425435Z",
     "shell.execute_reply": "2022-07-19T03:37:21.424109Z",
     "shell.execute_reply.started": "2022-07-19T03:37:21.407550Z"
    }
   },
   "outputs": [
    {
     "data": {
      "text/plain": [
       "1.0    1230\n",
       "2.0     811\n",
       "3.0     719\n",
       "0.0     159\n",
       "Name: GarageFinish, dtype: int64"
      ]
     },
     "execution_count": 28,
     "metadata": {},
     "output_type": "execute_result"
    }
   ],
   "source": [
    "oe = OrdinalEncoder(categories=[['None', 'Unf', 'RFn', 'Fin']])\n",
    "df.loc[:, \"GarageFinish\"] = oe.fit_transform(df[[\"GarageFinish\"]])\n",
    "df[\"GarageFinish\"].value_counts()"
   ]
  },
  {
   "cell_type": "code",
   "execution_count": 29,
   "metadata": {
    "execution": {
     "iopub.execute_input": "2022-07-19T03:37:24.706888Z",
     "iopub.status.busy": "2022-07-19T03:37:24.706401Z",
     "iopub.status.idle": "2022-07-19T03:37:24.726149Z",
     "shell.execute_reply": "2022-07-19T03:37:24.725109Z",
     "shell.execute_reply.started": "2022-07-19T03:37:24.706850Z"
    }
   },
   "outputs": [
    {
     "data": {
      "text/plain": [
       "2.0    2641\n",
       "0.0     216\n",
       "1.0      62\n",
       "Name: PavedDrive, dtype: int64"
      ]
     },
     "execution_count": 29,
     "metadata": {},
     "output_type": "execute_result"
    }
   ],
   "source": [
    "oe = OrdinalEncoder(categories=[['N', 'P', 'Y']])\n",
    "df.loc[:, \"PavedDrive\"] = oe.fit_transform(df[[\"PavedDrive\"]])\n",
    "df[\"PavedDrive\"].value_counts()"
   ]
  },
  {
   "cell_type": "code",
   "execution_count": 30,
   "metadata": {
    "execution": {
     "iopub.execute_input": "2022-07-19T03:37:28.450419Z",
     "iopub.status.busy": "2022-07-19T03:37:28.448980Z",
     "iopub.status.idle": "2022-07-19T03:37:28.470145Z",
     "shell.execute_reply": "2022-07-19T03:37:28.468498Z",
     "shell.execute_reply.started": "2022-07-19T03:37:28.450351Z"
    }
   },
   "outputs": [
    {
     "data": {
      "text/plain": [
       "0.0    2348\n",
       "3.0     329\n",
       "4.0     118\n",
       "2.0     112\n",
       "1.0      12\n",
       "Name: Fence, dtype: int64"
      ]
     },
     "execution_count": 30,
     "metadata": {},
     "output_type": "execute_result"
    }
   ],
   "source": [
    "oe = OrdinalEncoder(categories=[['None', 'MnWw', 'GdWo', 'MnPrv', 'GdPrv']])\n",
    "df.loc[:, \"Fence\"] = oe.fit_transform(df[[\"Fence\"]])\n",
    "df[\"Fence\"].value_counts()"
   ]
  },
  {
   "cell_type": "markdown",
   "metadata": {},
   "source": [
    "# Feature Engineering"
   ]
  },
  {
   "cell_type": "code",
   "execution_count": 31,
   "metadata": {},
   "outputs": [
    {
     "data": {
      "text/plain": [
       "1.0    1471\n",
       "2.0    1083\n",
       "1.5     333\n",
       "2.5      32\n",
       "Name: n_stories, dtype: int64"
      ]
     },
     "execution_count": 31,
     "metadata": {},
     "output_type": "execute_result"
    }
   ],
   "source": [
    "n_stories_dict = {\n",
    "    \"1Story\": 1.0,\n",
    "    \"1.5Fin\": 1.5,\n",
    "    \"1.5Unf\": 1.5,\n",
    "    \"2Story\": 2.0,\n",
    "    \"2.5Fin\": 2.5,\n",
    "    \"2.5Unf\": 2.5,\n",
    "    \"SFoyer\": 2.0,\n",
    "    \"SLvl\": 2.0,\n",
    "}\n",
    "\n",
    "df[\"n_stories\"] = df[\"HouseStyle\"].replace(n_stories_dict)\n",
    "df[\"n_stories\"].value_counts()"
   ]
  },
  {
   "cell_type": "code",
   "execution_count": 32,
   "metadata": {},
   "outputs": [],
   "source": [
    "df[\"age_sold\"] = df[\"YrSold\"] - df[\"YearBuilt\"]\n",
    "df[\"age_sold_Remod\"] = df[\"YrSold\"] - df[\"YearRemodAdd\"]\n",
    "df[\"GarageYrSold\"] = df[\"YrSold\"] - df[\"GarageYrBlt\"]"
   ]
  },
  {
   "cell_type": "code",
   "execution_count": 33,
   "metadata": {},
   "outputs": [
    {
     "data": {
      "text/plain": [
       "1    2723\n",
       "0     196\n",
       "Name: CentralAir, dtype: int64"
      ]
     },
     "execution_count": 33,
     "metadata": {},
     "output_type": "execute_result"
    }
   ],
   "source": [
    "df[\"CentralAir\"] = df[\"CentralAir\"].replace({\"Y\": 1, \"N\": 0})\n",
    "df[\"CentralAir\"].value_counts()"
   ]
  },
  {
   "cell_type": "code",
   "execution_count": 34,
   "metadata": {},
   "outputs": [
    {
     "data": {
      "text/plain": [
       "Index(['LotFrontage', 'LotArea', 'LotShape', 'LandSlope', 'OverallQual',\n",
       "       'OverallCond', 'YearBuilt', 'YearRemodAdd', 'MasVnrArea', 'ExterQual',\n",
       "       'ExterCond', 'BsmtQual', 'BsmtCond', 'BsmtExposure', 'BsmtFinType1',\n",
       "       'BsmtFinSF1', 'BsmtFinType2', 'BsmtFinSF2', 'BsmtUnfSF', 'TotalBsmtSF',\n",
       "       'HeatingQC', 'CentralAir', '1stFlrSF', '2ndFlrSF', 'LowQualFinSF',\n",
       "       'GrLivArea', 'BsmtFullBath', 'BsmtHalfBath', 'FullBath', 'HalfBath',\n",
       "       'BedroomAbvGr', 'KitchenAbvGr', 'KitchenQual', 'TotRmsAbvGrd',\n",
       "       'Fireplaces', 'FireplaceQu', 'GarageYrBlt', 'GarageFinish',\n",
       "       'GarageCars', 'GarageArea', 'GarageQual', 'GarageCond', 'PavedDrive',\n",
       "       'WoodDeckSF', 'OpenPorchSF', 'EnclosedPorch', '3SsnPorch',\n",
       "       'ScreenPorch', 'PoolArea', 'PoolQC', 'Fence', 'MiscVal', 'MoSold',\n",
       "       'YrSold', 'n_stories', 'age_sold', 'age_sold_Remod', 'GarageYrSold'],\n",
       "      dtype='object')"
      ]
     },
     "execution_count": 34,
     "metadata": {},
     "output_type": "execute_result"
    }
   ],
   "source": [
    "df.select_dtypes(np.number).columns"
   ]
  },
  {
   "cell_type": "code",
   "execution_count": 35,
   "metadata": {},
   "outputs": [],
   "source": [
    "df[\"total_living_area\"] = df['TotalBsmtSF'] + df['GrLivArea']\n",
    "df['HighQualFinSF'] = df[\"total_living_area\"] - df['LowQualFinSF']\n",
    "df['Total_Home_Quality'] = df['OverallQual'] + df['OverallCond']\n",
    "df[\"HighQualSF\"] = df[\"GrLivArea\"] + df[\"1stFlrSF\"] + df[\"2ndFlrSF\"] + df[\"GarageArea\"]/2 + df[\"TotalBsmtSF\"]/2 + df[\"MasVnrArea\"]\n",
    "\n",
    "\n",
    "df[\"SqFtPerRoom\"] = df[\"GrLivArea\"] / (df[\"TotRmsAbvGrd\"] +\n",
    "                                       df[\"FullBath\"] +\n",
    "                                       df[\"HalfBath\"] +\n",
    "                                       df[\"KitchenAbvGr\"])"
   ]
  },
  {
   "cell_type": "markdown",
   "metadata": {},
   "source": [
    "# One-hot encoding"
   ]
  },
  {
   "cell_type": "code",
   "execution_count": 36,
   "metadata": {},
   "outputs": [
    {
     "data": {
      "text/plain": [
       "(2919, 251)"
      ]
     },
     "execution_count": 36,
     "metadata": {},
     "output_type": "execute_result"
    }
   ],
   "source": [
    "df = pd.get_dummies(df)\n",
    "m, n = df.shape\n",
    "m, n"
   ]
  },
  {
   "cell_type": "markdown",
   "metadata": {},
   "source": [
    "# Split test and train"
   ]
  },
  {
   "cell_type": "code",
   "execution_count": 37,
   "metadata": {},
   "outputs": [
    {
     "data": {
      "text/plain": [
       "((1460, 251), (1460,))"
      ]
     },
     "execution_count": 37,
     "metadata": {},
     "output_type": "execute_result"
    }
   ],
   "source": [
    "X_train, X_test = df[:m_train], df[m_train:]\n",
    "y_train, _ = target[:m_train], target[m_train:]\n",
    "X_train.shape, y_train.shape"
   ]
  },
  {
   "cell_type": "markdown",
   "metadata": {},
   "source": [
    "# Training - XGB Grid Search "
   ]
  },
  {
   "cell_type": "code",
   "execution_count": null,
   "metadata": {},
   "outputs": [],
   "source": [
    "# model = XGBRegressor(n_jobs=multiprocessing.cpu_count() // 2, eval_metric=mean_squared_error)\n",
    "\n",
    "# kwargs = {\n",
    "#     \"n_estimators\": [n, 1.5 * n, 2 * n, int(2.5 * n), 3 * n],\n",
    "#     \"max_depth\": [2, 3, 4, 5, 6],\n",
    "#     \"learning_rate\": [0.08, 0.1, 0.15],\n",
    "#     \"tree_method\": [\"auto\", \"hist\"],\n",
    "#     \"random_state\": [10,],\n",
    "#     \"subsample\": [0.5, 0.65, 0.8],\n",
    "#     \"colsample_bytree\": [0.5, 0.65, 0.8],\n",
    "#     \"reg_lambda\": [0.1, 1, 2, 5, 10], \n",
    "#     \"min_child_weight\": [0.01, 0.05, 0.1, 0.2, 0.5, 1, 2, 5, 10, 20] \n",
    "# }\n",
    "# clf = GridSearchCV(model, kwargs, verbose=1, n_jobs=2)\n",
    "# clf.fit(X_train, y_train)\n",
    "# print(clf.best_score_)\n",
    "# print(clf.best_params_)"
   ]
  },
  {
   "cell_type": "code",
   "execution_count": null,
   "metadata": {},
   "outputs": [],
   "source": [
    "# model = XGBRegressor(n_jobs=multiprocessing.cpu_count() // 2, eval_metric=mean_squared_error)\n",
    "\n",
    "# kwargs = {\n",
    "#     \"n_estimators\": [2 * n],\n",
    "#     \"max_depth\": [3, 4, 5, 6],\n",
    "#     \"learning_rate\": [0.1],\n",
    "#     \"tree_method\": [\"auto\", \"hist\"],\n",
    "#     \"random_state\": [10,],\n",
    "#     \"subsample\": [0.5, 0.65, 0.8],\n",
    "#     \"colsample_bytree\": [0.5, 0.65, 0.8],\n",
    "#     \"reg_lambda\": [0.1, 1, 2, 5, 10], \n",
    "#     \"min_child_weight\": [0.01, 0.1, 0.5, 1, 2, 5, 10] \n",
    "# }\n",
    "# clf = GridSearchCV(model, kwargs, verbose=1, n_jobs=2)\n",
    "# clf.fit(X_train, y_train)\n",
    "# print(clf.best_score_)\n",
    "# print(clf.best_params_)"
   ]
  },
  {
   "cell_type": "code",
   "execution_count": 1,
   "metadata": {},
   "outputs": [
    {
     "ename": "NameError",
     "evalue": "name 'XGBRegressor' is not defined",
     "output_type": "error",
     "traceback": [
      "\u001b[0;31m---------------------------------------------------------------------------\u001b[0m",
      "\u001b[0;31mNameError\u001b[0m                                 Traceback (most recent call last)",
      "Input \u001b[0;32mIn [1]\u001b[0m, in \u001b[0;36m<cell line: 1>\u001b[0;34m()\u001b[0m\n\u001b[0;32m----> 1\u001b[0m model \u001b[38;5;241m=\u001b[39m \u001b[43mXGBRegressor\u001b[49m(n_jobs\u001b[38;5;241m=\u001b[39mmultiprocessing\u001b[38;5;241m.\u001b[39mcpu_count() \u001b[38;5;241m/\u001b[39m\u001b[38;5;241m/\u001b[39m \u001b[38;5;241m2\u001b[39m, eval_metric\u001b[38;5;241m=\u001b[39mmean_squared_error, random_state\u001b[38;5;241m=\u001b[39m\u001b[38;5;241m10\u001b[39m)\n\u001b[1;32m      3\u001b[0m kwargs \u001b[38;5;241m=\u001b[39m {\n\u001b[1;32m      4\u001b[0m     \u001b[38;5;124m\"\u001b[39m\u001b[38;5;124mn_estimators\u001b[39m\u001b[38;5;124m\"\u001b[39m: [\u001b[38;5;241m2\u001b[39m \u001b[38;5;241m*\u001b[39m n],\n\u001b[1;32m      5\u001b[0m     \u001b[38;5;124m\"\u001b[39m\u001b[38;5;124mmax_depth\u001b[39m\u001b[38;5;124m\"\u001b[39m: [\u001b[38;5;241m3\u001b[39m, \u001b[38;5;241m4\u001b[39m],\n\u001b[0;32m   (...)\u001b[0m\n\u001b[1;32m     11\u001b[0m     \u001b[38;5;124m\"\u001b[39m\u001b[38;5;124mmin_child_weight\u001b[39m\u001b[38;5;124m\"\u001b[39m: [\u001b[38;5;241m0.05\u001b[39m, \u001b[38;5;241m0.1\u001b[39m, \u001b[38;5;241m0.5\u001b[39m] \n\u001b[1;32m     12\u001b[0m }\n\u001b[1;32m     13\u001b[0m clf \u001b[38;5;241m=\u001b[39m GridSearchCV(model, kwargs, verbose\u001b[38;5;241m=\u001b[39m\u001b[38;5;241m1\u001b[39m, n_jobs\u001b[38;5;241m=\u001b[39m\u001b[38;5;241m2\u001b[39m)\n",
      "\u001b[0;31mNameError\u001b[0m: name 'XGBRegressor' is not defined"
     ]
    }
   ],
   "source": [
    "model = XGBRegressor(n_jobs=multiprocessing.cpu_count() // 2, eval_metric=mean_squared_error)\n",
    "\n",
    "kwargs = {\n",
    "    \"n_estimators\": [2 * n],\n",
    "    \"max_depth\": [3, 4, 5, 6],\n",
    "    \"learning_rate\": [0.1],\n",
    "    \"tree_method\": [\"auto\"],\n",
    "    \"random_state\": [10,],\n",
    "    \"subsample\": [0.5, 0.8],\n",
    "    \"colsample_bytree\": [0.5, 0.8],\n",
    "    \"reg_lambda\": [0.1, 1, 5], \n",
    "    \"min_child_weight\": [0.05, 0.1, 0.5] \n",
    "}\n",
    "clf = GridSearchCV(model, kwargs, verbose=1, n_jobs=2)\n",
    "clf.fit(X_train, y_train)\n",
    "print(clf.best_score_)\n",
    "print(clf.best_params_)"
   ]
  },
  {
   "cell_type": "code",
   "execution_count": 53,
   "metadata": {},
   "outputs": [],
   "source": [
    "models = {\n",
    "    \"gbr\": GradientBoostingRegressor(n_estimators=2*n, max_depth=3),\n",
    "    \"rf\": RandomForestRegressor(),\n",
    "    \"xgb\": XGBRegressor(),\n",
    "    \"lgbm\": LGBMRegressor(),\n",
    "    \"et\": ExtraTreesRegressor(),\n",
    "#     \"br\": BayesianRidge(),\n",
    "#     \"omp\": OrthogonalMatchingPursuit(),\n",
    "}"
   ]
  },
  {
   "cell_type": "code",
   "execution_count": 57,
   "metadata": {},
   "outputs": [],
   "source": [
    "results = {}\n",
    "for name, model in models.items():\n",
    "    result = cross_val_score(model, \n",
    "                            X_train, \n",
    "                            y_train, \n",
    "                            scoring=\"neg_mean_squared_error\",\n",
    "                            cv=KFold(n_splits=7))\n",
    "    results[name] = -result"
   ]
  },
  {
   "cell_type": "code",
   "execution_count": 61,
   "metadata": {},
   "outputs": [
    {
     "name": "stdout",
     "output_type": "stream",
     "text": [
      "gbr: 621700623.66867\n",
      "rf: 844384618.01942\n",
      "xgb: 772447499.74578\n",
      "lgbm: 851821250.65051\n",
      "et: 816485581.18209\n",
      "['gbr', 'xgb', 'et', 'rf', 'lgbm']\n"
     ]
    }
   ],
   "source": [
    "means = []\n",
    "for name, result in results.items():\n",
    "    means.append(result.mean())\n",
    "    print(f\"{name}: {result.mean():.5f}\")\n",
    "top_models = [name for _,name in sorted(zip(means, models.keys()))]\n",
    "print(top_models)"
   ]
  },
  {
   "cell_type": "markdown",
   "metadata": {},
   "source": [
    "# Combine models"
   ]
  },
  {
   "cell_type": "code",
   "execution_count": 64,
   "metadata": {},
   "outputs": [],
   "source": [
    "n_models = len(top_models)\n",
    "pred = np.zeros(X_test.shape[0])\n",
    "for model in top_model[:n_models]:\n",
    "    models[model].fit(X_train, y_train)\n",
    "    pred += models[model].predict(X_test) / n_models"
   ]
  },
  {
   "cell_type": "markdown",
   "metadata": {},
   "source": [
    "# Training - XGB with Best Parameters"
   ]
  },
  {
   "cell_type": "code",
   "execution_count": null,
   "metadata": {},
   "outputs": [],
   "source": [
    "# model = XGBRegressor(n_jobs=multiprocessing.cpu_count() // 2, eval_metric=mean_squared_error, **clf.best_params_)\n",
    "# model.fit(X_train, y_train)"
   ]
  },
  {
   "cell_type": "code",
   "execution_count": 65,
   "metadata": {},
   "outputs": [],
   "source": [
    "sub_name = \"data/ensemble0.csv\"\n",
    "pd.DataFrame(pred, \n",
    "            index=range(1461, len(df)+1), \n",
    "            columns=['SalePrice']).reset_index().\\\n",
    "            rename(columns={'index': 'id'}).to_csv(sub_name, index=False)"
   ]
  },
  {
   "cell_type": "code",
   "execution_count": null,
   "metadata": {},
   "outputs": [],
   "source": []
  }
 ],
 "metadata": {
  "kernelspec": {
   "display_name": ".env",
   "language": "python",
   "name": ".env"
  },
  "language_info": {
   "codemirror_mode": {
    "name": "ipython",
    "version": 3
   },
   "file_extension": ".py",
   "mimetype": "text/x-python",
   "name": "python",
   "nbconvert_exporter": "python",
   "pygments_lexer": "ipython3",
   "version": "3.10.5"
  }
 },
 "nbformat": 4,
 "nbformat_minor": 4
}
